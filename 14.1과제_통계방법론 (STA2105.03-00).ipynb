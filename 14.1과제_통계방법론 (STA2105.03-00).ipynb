{
 "cells": [
  {
   "cell_type": "markdown",
   "metadata": {},
   "source": [
    "#### 1. 어느 작은 초등학교에 다니는 학생수(x)와 그 학교에 배정하는 연간 예산액(y) 사이에는 선형관계가 있다고 가정하자. \n",
    "\n",
    "#### a. 학생수와 예산액 사이의 선형관계 묘사할 수 있는 '모집단 회귀모형' (a population regression model)을 써보라.\n",
    "\n",
    "$$\n",
    "\\hat{y} = \\beta_{0} + \\beta_{1}x\n",
    "$$\n",
    "\n",
    "#### b. a에서 나타낸 식에서 무슨 변수가 설명변수이며, 독립변수는 무엇인지 밝혀라. \n",
    "설명변수(X)는 어느 작은 초등학교에 다니는 '학생수'이고, 독립변수(Y)는 그 학교에 배정하는 '연간 예산액'이다. \n",
    "\n",
    "#### c. a의 식에서 고정비용에 해당되는 모수가 무엇인지 말하고, 그 이유를 말해보라. \n",
    "고정비용에 해당되는 모수는 y절편 $\\beta_{0}$이다. 학생수가 0일 때에도 지원받아야 하는 예산액이라고 해석할 수 있으며, 학생수가 늘어나도 변하지 않는 금액이기 때문이다. \n",
    "\n",
    "#### d. a의 식에서 어떤 모수가 학생수가 늘어날수록 이에 상응하는 학교 예산액이 어떻게 변할지를 보여주는가? 그리고 이 모숫값의 예상부호는 무엇인가?\n",
    "학교 예산액이 어떻게 변할지는 보여주는 모수는 기울기 $\\beta_{1}$이다. 학생수와 연간 예산액은 비례 관계일 것이다. 더불어, 최소제곱추정법으로 $\\beta_{1}$을 추정한 값인 $b_{1}$은 x, y의 상관계수와 부호가 같다. 따라서 $\\beta_{1}$의 기울기는 양수일 것이라고 예측할 수 있다. \n",
    "\n",
    "####  e. 몇몇 초등학교에서 수집된 실제 자료(data)들은 직선에 정확히 들어맞지는 않는다고 하자. a에서 보인 모형에서 무엇을 추가해야 같은 규모의 초등학교들 간에 보이는 변동을 모형화할 수 있을 것인가? \n",
    "오차항 $\\epsilon$을 추가해야 변동을 모형화할 수 있을 것이다. a에서 보인 모형은 회귀분석의 목표로서, $\\hat{y}$은 y의 추정치이다. 추정치인 $\\hat{y}$과 실제 관찰값인 y 사이에는 오차가 존재할 것이다. 따라서, 오차항을 포함하여 보정해야 한다. "
   ]
  },
  {
   "cell_type": "markdown",
   "metadata": {},
   "source": [
    "#### 10. 어느 범죄학 연구자가 인구밀도와 절도발생률 간의 관계를 연구하면서 다음의 16개 도시의 자료를 수집하였다. X는 해당도시의 단위면적당 인구밀도를, Y는 이전년도의 10만명 당 절도범죄의 발생 횟수를 조사한 것이다. "
   ]
  },
  {
   "cell_type": "code",
   "execution_count": 2,
   "metadata": {},
   "outputs": [
    {
     "data": {
      "text/html": [
       "<table class=\"dataframe\">\n",
       "<caption>A data.frame: 16 × 2</caption>\n",
       "<thead>\n",
       "\t<tr><th scope=col>population</th><th scope=col>crime</th></tr>\n",
       "\t<tr><th scope=col>&lt;dbl&gt;</th><th scope=col>&lt;dbl&gt;</th></tr>\n",
       "</thead>\n",
       "<tbody>\n",
       "\t<tr><td>59</td><td>209</td></tr>\n",
       "\t<tr><td>49</td><td>180</td></tr>\n",
       "\t<tr><td>75</td><td>195</td></tr>\n",
       "\t<tr><td>54</td><td>192</td></tr>\n",
       "\t<tr><td>78</td><td>215</td></tr>\n",
       "\t<tr><td>56</td><td>197</td></tr>\n",
       "\t<tr><td>60</td><td>208</td></tr>\n",
       "\t<tr><td>82</td><td>189</td></tr>\n",
       "\t<tr><td>69</td><td>213</td></tr>\n",
       "\t<tr><td>83</td><td>201</td></tr>\n",
       "\t<tr><td>88</td><td>214</td></tr>\n",
       "\t<tr><td>94</td><td>212</td></tr>\n",
       "\t<tr><td>47</td><td>205</td></tr>\n",
       "\t<tr><td>65</td><td>186</td></tr>\n",
       "\t<tr><td>89</td><td>200</td></tr>\n",
       "\t<tr><td>70</td><td>204</td></tr>\n",
       "</tbody>\n",
       "</table>\n"
      ],
      "text/latex": [
       "A data.frame: 16 × 2\n",
       "\\begin{tabular}{ll}\n",
       " population & crime\\\\\n",
       " <dbl> & <dbl>\\\\\n",
       "\\hline\n",
       "\t 59 & 209\\\\\n",
       "\t 49 & 180\\\\\n",
       "\t 75 & 195\\\\\n",
       "\t 54 & 192\\\\\n",
       "\t 78 & 215\\\\\n",
       "\t 56 & 197\\\\\n",
       "\t 60 & 208\\\\\n",
       "\t 82 & 189\\\\\n",
       "\t 69 & 213\\\\\n",
       "\t 83 & 201\\\\\n",
       "\t 88 & 214\\\\\n",
       "\t 94 & 212\\\\\n",
       "\t 47 & 205\\\\\n",
       "\t 65 & 186\\\\\n",
       "\t 89 & 200\\\\\n",
       "\t 70 & 204\\\\\n",
       "\\end{tabular}\n"
      ],
      "text/markdown": [
       "\n",
       "A data.frame: 16 × 2\n",
       "\n",
       "| population &lt;dbl&gt; | crime &lt;dbl&gt; |\n",
       "|---|---|\n",
       "| 59 | 209 |\n",
       "| 49 | 180 |\n",
       "| 75 | 195 |\n",
       "| 54 | 192 |\n",
       "| 78 | 215 |\n",
       "| 56 | 197 |\n",
       "| 60 | 208 |\n",
       "| 82 | 189 |\n",
       "| 69 | 213 |\n",
       "| 83 | 201 |\n",
       "| 88 | 214 |\n",
       "| 94 | 212 |\n",
       "| 47 | 205 |\n",
       "| 65 | 186 |\n",
       "| 89 | 200 |\n",
       "| 70 | 204 |\n",
       "\n"
      ],
      "text/plain": [
       "   population crime\n",
       "1  59         209  \n",
       "2  49         180  \n",
       "3  75         195  \n",
       "4  54         192  \n",
       "5  78         215  \n",
       "6  56         197  \n",
       "7  60         208  \n",
       "8  82         189  \n",
       "9  69         213  \n",
       "10 83         201  \n",
       "11 88         214  \n",
       "12 94         212  \n",
       "13 47         205  \n",
       "14 65         186  \n",
       "15 89         200  \n",
       "16 70         204  "
      ]
     },
     "metadata": {},
     "output_type": "display_data"
    }
   ],
   "source": [
    "# Assigning Data\n",
    "population <- c(59, 49, 75, 54, 78,\n",
    "                56, 60, 82, 69, 83, \n",
    "                88, 94, 47, 65, 89, 70)\n",
    "crime <- c(209, 180, 195, 192, 215,\n",
    "           197, 208, 189, 213, 201, \n",
    "           214, 212, 205, 186, 200, 204)\n",
    "(q10_df <- data.frame(population, crime))"
   ]
  },
  {
   "cell_type": "markdown",
   "metadata": {},
   "source": [
    "#### a. 위의 두 변수 간의 관계를 가지고 회귀식을 추정하여라. 추정된 회귀식과 자료를 가지고 그림을 그려 나타내 보고, 선형 회귀방정식이 잘 들어맞는지에 대해 말하여라. "
   ]
  },
  {
   "cell_type": "markdown",
   "metadata": {},
   "source": [
    "주어진 자료에서 설명변수는 해당도시의 '단위 면적당 인구밀도' 하나이고, 반응변수는 '이전년도의 10만명 당 절도범죄의 발생횟수'이다. 우선 최소제곱추정법을 적용하여 회귀식을 추정하고자 한다. \n",
    "\n",
    "최소제곱추정법으로 구한 회귀선이 유효하기 위해선 다음과 같은 단순선형회귀모형의 가정사항들을 충족해야 한다.\n",
    "\n",
    "$$\n",
    "\\epsilon_{i} \\sim  iid N(o, \\sigma^2)\n",
    "$$\n",
    "\n",
    " \n",
    "1. 등분산성: 모든 오차항( 𝜖𝑖 )들의 평균은 0이고, 분산은  𝜎2 로 동일하다.\n",
    "2. 독립성: 오차항( 𝜖𝑖 )들은 서로 독립이다.\n",
    "3. 정규성: 오차항( 𝜖𝑖 )은 정규분포를 따른다.\n",
    "\n",
    "가정사항을 충족한다는 가정 하에 최소제곱추정법으로 y절편과 기울기를 추정할 수 있다. 우선 lm함수를 이용하여 구하면 다음과 같다."
   ]
  },
  {
   "cell_type": "code",
   "execution_count": 12,
   "metadata": {},
   "outputs": [
    {
     "data": {
      "text/plain": [
       "\n",
       "Call:\n",
       "lm(formula = q10_df$crime ~ q10_df$population)\n",
       "\n",
       "Residuals:\n",
       "    Min      1Q  Median      3Q     Max \n",
       "-15.790  -6.587   1.048   9.433  11.979 \n",
       "\n",
       "Coefficients:\n",
       "                  Estimate Std. Error t value Pr(>|t|)    \n",
       "(Intercept)       182.9725    12.7223  14.382 8.87e-10 ***\n",
       "q10_df$population   0.2616     0.1783   1.467    0.164    \n",
       "---\n",
       "Signif. codes:  0 '***' 0.001 '**' 0.01 '*' 0.05 '.' 0.1 ' ' 1\n",
       "\n",
       "Residual standard error: 10.29 on 14 degrees of freedom\n",
       "Multiple R-squared:  0.1332,\tAdjusted R-squared:  0.07132 \n",
       "F-statistic: 2.152 on 1 and 14 DF,  p-value: 0.1645\n"
      ]
     },
     "metadata": {},
     "output_type": "display_data"
    }
   ],
   "source": [
    "# Linear model\n",
    "q10_fit <- lm(q10_df$crime ~ q10_df$population)\n",
    "summary(q10_fit)"
   ]
  },
  {
   "cell_type": "markdown",
   "metadata": {},
   "source": [
    "직접 공식에 대입하여 구한 값은 다음과 같다."
   ]
  },
  {
   "cell_type": "code",
   "execution_count": 13,
   "metadata": {},
   "outputs": [
    {
     "data": {
      "text/html": [
       "0.26157424776769"
      ],
      "text/latex": [
       "0.26157424776769"
      ],
      "text/markdown": [
       "0.26157424776769"
      ],
      "text/plain": [
       "[1] 0.2615742"
      ]
     },
     "metadata": {},
     "output_type": "display_data"
    },
    {
     "data": {
      "text/html": [
       "182.972499437233"
      ],
      "text/latex": [
       "182.972499437233"
      ],
      "text/markdown": [
       "182.972499437233"
      ],
      "text/plain": [
       "[1] 182.9725"
      ]
     },
     "metadata": {},
     "output_type": "display_data"
    }
   ],
   "source": [
    "# Least Squares Method\n",
    "\n",
    "## b1\n",
    "sd.x_q10 <- sd(q10_df$population)\n",
    "sd.y_q10 <- sd(q10_df$crime)\n",
    "(b1_q10 <- cor_q10 * sd.y_q10 / sd.x_q10)\n",
    "\n",
    "## b0\n",
    "mean.x_q10 <- mean(q10_df$population)\n",
    "mean.y_q10 <- mean(q10_df$crime)\n",
    "(b0_q10 <- mean.y_q10 - b1_q10 * mean.x_q10)"
   ]
  },
  {
   "cell_type": "markdown",
   "metadata": {},
   "source": [
    "y절편  𝛽0 과 기울기  𝛽1 의 추정값  𝑏0 ,  𝑏1 는 각각 182.9725, 0.2616이다. 따라서 회귀식은 다음과 같이 구해진다.\n",
    "\n",
    "$$\n",
    "\\hat{y} = 182.9725 + 0.2616x\n",
    "$$\n",
    "\n",
    "추정된 회귀식과 자료를 그림으로 나타내면 다음과 같다. "
   ]
  },
  {
   "cell_type": "code",
   "execution_count": 14,
   "metadata": {},
   "outputs": [
    {
     "data": {
      "image/png": "[encoded data removed]",
      "text/plain": [
       "plot without title"
      ]
     },
     "metadata": {
      "image/png": {
       "height": 420,
       "width": 420
      }
     },
     "output_type": "display_data"
    }
   ],
   "source": [
    "# Visualization\n",
    "plot(q10_df$crime ~ q10_df$population)\n",
    "abline(q10_fit)"
   ]
  },
  {
   "cell_type": "markdown",
   "metadata": {},
   "source": [
    "그림을 참고했을 때, 전반적으로 최소제곱추정법으로 구한 회귀선이 자료들을 잘 요약, 반영하고 있다고 보기 어렵다. \n",
    "\n",
    "회귀모형의 적합성(goodness of fit)을 판단하기 유용한 척도는 결정계수이다. 결정계수는 자료 전체의 변동량 중 회귀식으로 설명할 수 있는 변동량의 비율을 나타낸 값으로, 1에 가까울수록 추정된 회귀식이 총변동량의 많은 부분을 설명한다고 판단할 수 있다. 따라서 결정계수를 구함으로써 추정한 회귀식이 적합한지 판단하고자 한다. "
   ]
  },
  {
   "cell_type": "code",
   "execution_count": 15,
   "metadata": {},
   "outputs": [
    {
     "data": {
      "text/html": [
       "0.13323317178816"
      ],
      "text/latex": [
       "0.13323317178816"
      ],
      "text/markdown": [
       "0.13323317178816"
      ],
      "text/plain": [
       "[1] 0.1332332"
      ]
     },
     "metadata": {},
     "output_type": "display_data"
    },
    {
     "data": {
      "text/html": [
       "0.13323317178816"
      ],
      "text/latex": [
       "0.13323317178816"
      ],
      "text/markdown": [
       "0.13323317178816"
      ],
      "text/plain": [
       "[1] 0.1332332"
      ]
     },
     "metadata": {},
     "output_type": "display_data"
    }
   ],
   "source": [
    "# Goodness of fit\n",
    "y.hat_q10 <- b0_q10 + (b1_q10 * q10_df$population)\n",
    "\n",
    "SSE_q10 <- sum((q10_df$crime - y.hat_q10)^2)\n",
    "SSR_q10 <- sum((y.hat_q10 - mean.y_q10)^2)\n",
    "SST_q10 <- SSE_q10 + SSR_q10\n",
    "(r.squared_q10 <- SSR_q10 / SST_q10)\n",
    "(cor_q10 ^ 2)"
   ]
  },
  {
   "cell_type": "markdown",
   "metadata": {},
   "source": [
    "이 경우, 결정계수는 0.1332로, 백분율로 나타내면 약 13%이다. 따라서 점들은 적합된 직선과 멀리 떨어져 있다고 볼 수 있으며, 추정된 회귀선은 자료를 나타내기 부적합하다는 결론을 내릴 수 있다. 이때, 단순회귀모형의 경우  𝑅2 은 상관계수의 제곱과 같다는 것을 확인할 수 있다.\n",
    "\n",
    "이와 더불어, 잔차그림을 통해 추정한 회귀식이 설명하지 못하여 남아있는 부분, 즉 잔차($e_{i} = y_{i} - \\hat{y_{i}}$)를 점검하면 다음과 같다.  "
   ]
  },
  {
   "cell_type": "code",
   "execution_count": 16,
   "metadata": {},
   "outputs": [
    {
     "data": {
      "image/png": "[encoded data removed]",
      "text/plain": [
       "plot without title"
      ]
     },
     "metadata": {
      "image/png": {
       "height": 420,
       "width": 420
      }
     },
     "output_type": "display_data"
    }
   ],
   "source": [
    "# Residual plot\n",
    "plot(q10_df$population, q10_fit$residuals)\n",
    "abline(h = 0)"
   ]
  },
  {
   "cell_type": "markdown",
   "metadata": {},
   "source": [
    "잔차들의 분산이 클수록 추정한 회귀식은 자료를 나타내기 적합하지 않다는 결론을 내릴 수 있다. 이 경우 잔차그림에서 확인할 수 있듯, 잔차들은 가정사항 상의 기댓값이 0에 모여있다기보단 퍼져있으며, 그 값도 크다. 따라서 추정한 선형 회귀방정식이 잘 들어맞지 않는다는 결론을 내릴 수가 있다. "
   ]
  },
  {
   "cell_type": "markdown",
   "metadata": {},
   "source": [
    "#### b. 다음의 점추정치를 구하여라.\n",
    "#### (1) 인구밀도 한 단위당 달라지는 평균 절도범죄율의 차이\n",
    "\n",
    "인구밀도가 한 단위 증가할 때 절도범죄수 변화량의 점추정값은 추정된 회귀식의 기울기와 같다. 즉, 절도범죄율은 0.2616만큼 증가한다. \n",
    "\n",
    "#### (2) 인구밀도 X = 60 인 도시에서의 평균 절도범죄율\n",
    "추정된 회귀식에 x = 60을 대입하여 절도범죄율을 추정하면 다음과 같다. \n",
    "\n",
    "$$\n",
    "198.6685 = 182.9725 + 0.2616 * 60\n",
    "$$\n",
    "\n",
    "\n",
    "#### (3) 오차항의 모분산 $\\sigma^2$\n",
    "\n",
    "오차항의 분산은 다름과 같이 오차평균제곱(MSE)으로 추정할 수 있다."
   ]
  },
  {
   "cell_type": "code",
   "execution_count": 143,
   "metadata": {},
   "outputs": [
    {
     "data": {
      "text/html": [
       "105.931288790747"
      ],
      "text/latex": [
       "105.931288790747"
      ],
      "text/markdown": [
       "105.931288790747"
      ],
      "text/plain": [
       "[1] 105.9313"
      ]
     },
     "metadata": {},
     "output_type": "display_data"
    }
   ],
   "source": [
    "# Variance\n",
    "SSE_q10 <- sum((q10_df$crime - y.hat_q10)^2)\n",
    "(MSE_q10 <- SSE_q10/(16 - 2))"
   ]
  },
  {
   "cell_type": "markdown",
   "metadata": {},
   "source": [
    "#### 12. 어느 가스공급회사가 지난 1년간 매월 조사한 난방도일(heating degree-days, 규정난방온도 이하로 떨어진 날에, (규정온도 - 해당 일의 온도)한 것을 한 달 동안 누적한 값)과 난방용 가스소비량(in hundreds of cubic meters)이 다음과 같이 나타났다. "
   ]
  },
  {
   "cell_type": "code",
   "execution_count": 17,
   "metadata": {},
   "outputs": [
    {
     "data": {
      "text/html": [
       "<table class=\"dataframe\">\n",
       "<caption>A data.frame: 9 × 3</caption>\n",
       "<thead>\n",
       "\t<tr><th scope=col>month</th><th scope=col>heating_degree</th><th scope=col>gas_usage</th></tr>\n",
       "\t<tr><th scope=col>&lt;fct&gt;</th><th scope=col>&lt;dbl&gt;</th><th scope=col>&lt;dbl&gt;</th></tr>\n",
       "</thead>\n",
       "<tbody>\n",
       "\t<tr><td>10</td><td>15.6</td><td>5.2</td></tr>\n",
       "\t<tr><td>11</td><td>26.8</td><td>6.1</td></tr>\n",
       "\t<tr><td>12</td><td>37.8</td><td>8.7</td></tr>\n",
       "\t<tr><td>1 </td><td>36.4</td><td>8.5</td></tr>\n",
       "\t<tr><td>2 </td><td>35.5</td><td>8.8</td></tr>\n",
       "\t<tr><td>3 </td><td>18.6</td><td>4.9</td></tr>\n",
       "\t<tr><td>4 </td><td>15.3</td><td>4.5</td></tr>\n",
       "\t<tr><td>5 </td><td> 7.9</td><td>2.5</td></tr>\n",
       "\t<tr><td>6 </td><td> 0.0</td><td>1.1</td></tr>\n",
       "</tbody>\n",
       "</table>\n"
      ],
      "text/latex": [
       "A data.frame: 9 × 3\n",
       "\\begin{tabular}{lll}\n",
       " month & heating\\_degree & gas\\_usage\\\\\n",
       " <fct> & <dbl> & <dbl>\\\\\n",
       "\\hline\n",
       "\t 10 & 15.6 & 5.2\\\\\n",
       "\t 11 & 26.8 & 6.1\\\\\n",
       "\t 12 & 37.8 & 8.7\\\\\n",
       "\t 1  & 36.4 & 8.5\\\\\n",
       "\t 2  & 35.5 & 8.8\\\\\n",
       "\t 3  & 18.6 & 4.9\\\\\n",
       "\t 4  & 15.3 & 4.5\\\\\n",
       "\t 5  &  7.9 & 2.5\\\\\n",
       "\t 6  &  0.0 & 1.1\\\\\n",
       "\\end{tabular}\n"
      ],
      "text/markdown": [
       "\n",
       "A data.frame: 9 × 3\n",
       "\n",
       "| month &lt;fct&gt; | heating_degree &lt;dbl&gt; | gas_usage &lt;dbl&gt; |\n",
       "|---|---|---|\n",
       "| 10 | 15.6 | 5.2 |\n",
       "| 11 | 26.8 | 6.1 |\n",
       "| 12 | 37.8 | 8.7 |\n",
       "| 1  | 36.4 | 8.5 |\n",
       "| 2  | 35.5 | 8.8 |\n",
       "| 3  | 18.6 | 4.9 |\n",
       "| 4  | 15.3 | 4.5 |\n",
       "| 5  |  7.9 | 2.5 |\n",
       "| 6  |  0.0 | 1.1 |\n",
       "\n"
      ],
      "text/plain": [
       "  month heating_degree gas_usage\n",
       "1 10    15.6           5.2      \n",
       "2 11    26.8           6.1      \n",
       "3 12    37.8           8.7      \n",
       "4 1     36.4           8.5      \n",
       "5 2     35.5           8.8      \n",
       "6 3     18.6           4.9      \n",
       "7 4     15.3           4.5      \n",
       "8 5      7.9           2.5      \n",
       "9 6      0.0           1.1      "
      ]
     },
     "metadata": {},
     "output_type": "display_data"
    }
   ],
   "source": [
    "# Assigning data\n",
    "month <- c(\"10\", \"11\", \"12\", \"1\", \"2\", \"3\", \"4\", \"5\", \"6\")\n",
    "heating_degree <- c(15.6, 26.8, 37.8, 36.4, 35.5, 18.6, 15.3, 7.9, 0.0)\n",
    "gas_usage <- c(5.2, 6.1, 8.7, 8.5, 8.8, 4.9, 4.5, 2.5, 1.1)\n",
    "(gas_df <- data.frame(month, heating_degree, gas_usage))"
   ]
  },
  {
   "cell_type": "markdown",
   "metadata": {},
   "source": [
    "#### a. 위의 자료로 얻는 최소제곱 회귀선은 무엇인가?\n",
    "주어진 자료에서 설명변수는 '난방도일' 하나이고, 반응변수는  '가스사용량'이다. 두 변수의 관계를 산점도로 나타내면 다음과 같다. "
   ]
  },
  {
   "cell_type": "code",
   "execution_count": 23,
   "metadata": {
    "scrolled": false
   },
   "outputs": [
    {
     "data": {
      "text/html": [
       "0.988966370911844"
      ],
      "text/latex": [
       "0.988966370911844"
      ],
      "text/markdown": [
       "0.988966370911844"
      ],
      "text/plain": [
       "[1] 0.9889664"
      ]
     },
     "metadata": {},
     "output_type": "display_data"
    },
    {
     "data": {
      "image/png": "[encoded data removed]",
      "text/plain": [
       "plot without title"
      ]
     },
     "metadata": {
      "image/png": {
       "height": 420,
       "width": 420
      }
     },
     "output_type": "display_data"
    }
   ],
   "source": [
    "# Scatter plot\n",
    "plot(gas_df$gas_usage ~ gas_df$heating_degree)\n",
    "\n",
    "# Correlation coefficient\n",
    "(cor_gas <- cor(gas_df$gas_usage, gas_df$heating_degree))"
   ]
  },
  {
   "cell_type": "markdown",
   "metadata": {},
   "source": [
    "산점도를 참고했을 때, 전반적으로 두 변수 간에는 선형관계가 존재한다고 판단할 수 있다. 실제로 상관계수도 0.99이다.  \n",
    "\n",
    "최소제곱추정법으로 구한 회귀선이 유효하기 위해선 다음과 같은 단순선형회귀모형의 가정사항들을 충족해야 한다. \n",
    "$$\n",
    "\\epsilon_{i} \\sim  iid N(o, \\sigma^2)\n",
    "$$\n",
    "\n",
    "1. 등분산성: 모든 오차항($\\epsilon_{i}$)들의 평균은 0이고, 분산은 $\\sigma^2$로 동일하다. \n",
    "2. 독립성: 오차항($\\epsilon_{i}$)들은 서로 독립이다. \n",
    "3. 정규성: 오차항($\\epsilon_{i}$)은 정규분포를 따른다. \n",
    "\n",
    "가정사항을 충족한다는 가정 하에 최소제곱추정법으로 y절편과 기울기를 추정할 수 있다. 우선 lm함수를 이용하여 구하면 다음과 같다. "
   ]
  },
  {
   "cell_type": "code",
   "execution_count": 24,
   "metadata": {
    "scrolled": false
   },
   "outputs": [
    {
     "data": {
      "text/plain": [
       "\n",
       "Call:\n",
       "lm(formula = gas_df$gas_usage ~ gas_df$heating_degree)\n",
       "\n",
       "Residuals:\n",
       "     Min       1Q   Median       3Q      Max \n",
       "-0.55162 -0.17595 -0.09349  0.17381  0.81315 \n",
       "\n",
       "Coefficients:\n",
       "                      Estimate Std. Error t value Pr(>|t|)    \n",
       "(Intercept)            1.23235    0.28604   4.308  0.00353 ** \n",
       "gas_df$heating_degree  0.20221    0.01145  17.663  4.6e-07 ***\n",
       "---\n",
       "Signif. codes:  0 '***' 0.001 '**' 0.01 '*' 0.05 '.' 0.1 ' ' 1\n",
       "\n",
       "Residual standard error: 0.4345 on 7 degrees of freedom\n",
       "Multiple R-squared:  0.9781,\tAdjusted R-squared:  0.9749 \n",
       "F-statistic:   312 on 1 and 7 DF,  p-value: 4.596e-07\n"
      ]
     },
     "metadata": {},
     "output_type": "display_data"
    }
   ],
   "source": [
    "# Linear model\n",
    "gas_fit <- lm(gas_df$gas_usage ~ gas_df$heating_degree)\n",
    "summary(gas_fit)"
   ]
  },
  {
   "cell_type": "markdown",
   "metadata": {},
   "source": [
    "직접 공식에 대입하여 구한 값은 다음과 같다."
   ]
  },
  {
   "cell_type": "code",
   "execution_count": 25,
   "metadata": {},
   "outputs": [
    {
     "data": {
      "text/html": [
       "0.202211513692196"
      ],
      "text/latex": [
       "0.202211513692196"
      ],
      "text/markdown": [
       "0.202211513692196"
      ],
      "text/plain": [
       "[1] 0.2022115"
      ]
     },
     "metadata": {},
     "output_type": "display_data"
    },
    {
     "data": {
      "text/html": [
       "1.23235416612036"
      ],
      "text/latex": [
       "1.23235416612036"
      ],
      "text/markdown": [
       "1.23235416612036"
      ],
      "text/plain": [
       "[1] 1.232354"
      ]
     },
     "metadata": {},
     "output_type": "display_data"
    }
   ],
   "source": [
    "# Least Squares Method\n",
    "\n",
    "## b1\n",
    "sd.x_gas <- sd(gas_df$heating_degree)\n",
    "sd.y_gas <- sd(gas_df$gas_usage)\n",
    "(b1_gas <- cor_gas * sd.y_gas / sd.x_gas)\n",
    "\n",
    "## b0\n",
    "mean.x_gas <- mean(gas_df$heating_degree)\n",
    "mean.y_gas <- mean(gas_df$gas_usage)\n",
    "(b0_gas <- mean.y_gas - b1_gas * mean.x_gas)"
   ]
  },
  {
   "cell_type": "markdown",
   "metadata": {},
   "source": [
    "y절편 $\\beta_{0}$과 기울기 $\\beta_{1}$의 추정값 $b_{0}$, $b_{1}$는 각각 1.2324, 0.2022이다. 따라서 회귀식은 다음과 같이 구해진다.\n",
    "$$\n",
    "\\hat{y} = 1.2324 + 0.2022x\n",
    "$$\n",
    "\n",
    "추정한 회귀식과 자료들을 그림으로 나타내면 회귀식이 자료들을 잘 반영하고 있는지를 눈으로 확인할 수 있다. 다음 그림을 참고했을 때, 이 경우 추정된 회귀식이 자료들을 잘 나타내고 있다고 판단할 수 있다. "
   ]
  },
  {
   "cell_type": "code",
   "execution_count": 26,
   "metadata": {},
   "outputs": [
    {
     "data": {
      "image/png": "[encoded data removed]",
      "text/plain": [
       "plot without title"
      ]
     },
     "metadata": {
      "image/png": {
       "height": 420,
       "width": 420
      }
     },
     "output_type": "display_data"
    }
   ],
   "source": [
    "# Visualization\n",
    "plot(gas_df$gas_usage ~ gas_df$heating_degree)\n",
    "abline(gas_fit)"
   ]
  },
  {
   "cell_type": "markdown",
   "metadata": {},
   "source": [
    "그림과 더불어, 결정계수와 잔차그림을 통해서도 추정된 선형회귀방정식의 적합도를 판단할 수 있다. 우선 결정계수를 구해보면 다음과 같다. "
   ]
  },
  {
   "cell_type": "code",
   "execution_count": 27,
   "metadata": {},
   "outputs": [
    {
     "data": {
      "text/html": [
       "0.978054482794543"
      ],
      "text/latex": [
       "0.978054482794543"
      ],
      "text/markdown": [
       "0.978054482794543"
      ],
      "text/plain": [
       "[1] 0.9780545"
      ]
     },
     "metadata": {},
     "output_type": "display_data"
    },
    {
     "data": {
      "text/html": [
       "0.978054482794543"
      ],
      "text/latex": [
       "0.978054482794543"
      ],
      "text/markdown": [
       "0.978054482794543"
      ],
      "text/plain": [
       "[1] 0.9780545"
      ]
     },
     "metadata": {},
     "output_type": "display_data"
    }
   ],
   "source": [
    "# Goodness of fit\n",
    "y.hat_gas <- b0_gas + (b1_gas * gas_df$heating_degree)\n",
    "\n",
    "SSE_gas <- sum((gas_df$gas_usage - y.hat_gas)^2)\n",
    "SSR_gas <- sum((y.hat_gas - mean.y_gas)^2)\n",
    "SST_gas <- SSE_gas + SSR_gas\n",
    "(r.squared_gas <- SSR_gas / SST_gas)\n",
    "(cor_gas ^ 2)"
   ]
  },
  {
   "cell_type": "markdown",
   "metadata": {},
   "source": [
    "결정계수는 자료 전체의 변동량 중 회귀식으로 설명할 수 있는 변동량의 비율을 나타낸 값으로, 1에 가까울수록 추정된 회귀식이 총변동량의 많은 부분을 설명한다고 판단할 수 있다. 즉, 추정된 회귀식이 자료들을 얼마나 잘 정리, 요약하여 반영하고 있는지 하나의 척도로 나타낸 것이다. 이 경우, 결정계수는 0.9781로, 백분율로 나타내면 약 98%이다. 따라서 거의 모든 점들이 오차 없이 직선 위에 있다고 판단할 수 있다. 이때, 단순회귀모형의 경우 $R^2$은 상관계수의 제곱과 같다는 것을 확인할 수 있다. \n",
    "\n",
    "이와 더불어, 잔차그림을 통해 추정한 회귀식이 설명하지 못하여 남아있는 부분, 즉 잔차($e_{i} = y_{i} - \\hat{y_{i}}$)를 점검하면 다음과 같다. "
   ]
  },
  {
   "cell_type": "code",
   "execution_count": 67,
   "metadata": {},
   "outputs": [
    {
     "data": {
      "image/png": "[encoded data removed]",
      "text/plain": [
       "plot without title"
      ]
     },
     "metadata": {
      "image/png": {
       "height": 420,
       "width": 420
      }
     },
     "output_type": "display_data"
    }
   ],
   "source": [
    "# Residual plot\n",
    "plot(gas_df$heating_degree, gas_fit$residuals)\n",
    "abline(h = 0)"
   ]
  },
  {
   "cell_type": "markdown",
   "metadata": {},
   "source": [
    "잔차그림을 참고했을 때, 오차항들의 분포가 가정사항에 크게 위반한다고 볼만한 근거가 없다. 더불어, 데이터수가 적어 크게 정규성과 등분산성을 위반한다고 보기 어렵다. 따라서 추정된 회귀식이 적합하다는 결론을 내릴 수 있다. 이어서 이러한 결론이 통계적으로도 유의한지 t검정과 F검정을 통해 확인하고자 한다. "
   ]
  },
  {
   "cell_type": "markdown",
   "metadata": {},
   "source": [
    "#### b. 회귀선의 기울기가 0이라는 가설검정을 실시하고, 검정의 결과를 서술하여라.\n",
    "\n",
    "기울기에 대한 유의성을 검정하기 위한 t검정의 가설은 다음과 같이 설정할 수 있다. \n",
    "> H0: $\\beta_{1}$ = 0 vs H1: $\\beta_{1}$ $\\neq$ 0\n",
    "\n",
    "유의수준 5%하에서 t검정을 이용하여 검정을 실시했을 때 t통계량은 다음과 같다. "
   ]
  },
  {
   "cell_type": "code",
   "execution_count": 30,
   "metadata": {},
   "outputs": [
    {
     "data": {
      "text/html": [
       "17.6627220081931"
      ],
      "text/latex": [
       "17.6627220081931"
      ],
      "text/markdown": [
       "17.6627220081931"
      ],
      "text/plain": [
       "[1] 17.66272"
      ]
     },
     "metadata": {},
     "output_type": "display_data"
    }
   ],
   "source": [
    "# t-test\n",
    "MSE_gas <- SSE_gas/(9 - 2)\n",
    "\n",
    "## t.value\n",
    "(t.value_gas <- b1_gas/sqrt(MSE_gas/sum((gas_df$heating_degree - mean.x_gas)^2)))"
   ]
  },
  {
   "cell_type": "markdown",
   "metadata": {},
   "source": [
    "t통계량이 17.6627일 때 p값은 다음과 같다. "
   ]
  },
  {
   "cell_type": "code",
   "execution_count": 29,
   "metadata": {},
   "outputs": [
    {
     "data": {
      "text/html": [
       "4.59603579176155e-07"
      ],
      "text/latex": [
       "4.59603579176155e-07"
      ],
      "text/markdown": [
       "4.59603579176155e-07"
      ],
      "text/plain": [
       "[1] 4.596036e-07"
      ]
     },
     "metadata": {},
     "output_type": "display_data"
    }
   ],
   "source": [
    "## p.value\n",
    "(pt(t.value_gas, df = 7, lower.tail = F) * 2)"
   ]
  },
  {
   "cell_type": "markdown",
   "metadata": {},
   "source": [
    "p값은 매우 작다. 따라서 유의수준 5%하에서 귀무가설은 기각된다. 즉, 두 변수 간에는 통계적으로 유의한 선형관계가 있다고 볼 수 있다.\n",
    "\n",
    "t검정은 기울기 회귀계수 각각의 통계적 유의성을 검정한 것이다. 이와 달리, F검정은 회귀모형의 모든 기울기 모수에 대한 유의성 검정을 수행한다. \n",
    "\n",
    "기울기에 대한 유의성을 검정하기 위한 F검정의 가설은 다음과 같이 설정할 수 있다.\n",
    "> H0: $\\beta_{1}$ = 0 vs H1: $\\beta_{1}$ $\\neq$ 0\n",
    "\n",
    "유의수준 5%하에서 F검정을 실시했을 때 F통계량은 다음과 같다.   "
   ]
  },
  {
   "cell_type": "code",
   "execution_count": 31,
   "metadata": {},
   "outputs": [
    {
     "data": {
      "text/html": [
       "311.971748738708"
      ],
      "text/latex": [
       "311.971748738708"
      ],
      "text/markdown": [
       "311.971748738708"
      ],
      "text/plain": [
       "[1] 311.9717"
      ]
     },
     "metadata": {},
     "output_type": "display_data"
    }
   ],
   "source": [
    "# F-test\n",
    "MSR_gas <- sum((y.hat_gas - mean.y_gas)^2) / 1\n",
    "\n",
    "## f.value\n",
    "(f.value_gas <- MSR_gas / MSE_gas)"
   ]
  },
  {
   "cell_type": "markdown",
   "metadata": {},
   "source": [
    "F통계량이 311.9717일 때 p값은 다음과 같다. "
   ]
  },
  {
   "cell_type": "code",
   "execution_count": 32,
   "metadata": {},
   "outputs": [
    {
     "data": {
      "text/html": [
       "4.59603579176155e-07"
      ],
      "text/latex": [
       "4.59603579176155e-07"
      ],
      "text/markdown": [
       "4.59603579176155e-07"
      ],
      "text/plain": [
       "[1] 4.596036e-07"
      ]
     },
     "metadata": {},
     "output_type": "display_data"
    }
   ],
   "source": [
    "## p.value\n",
    "(pf(f.value_gas, 1, 7, lower.tail = F))"
   ]
  },
  {
   "cell_type": "markdown",
   "metadata": {},
   "source": [
    "단순선형회귀모형의 분산분석(ANOVA)표를 작성하면 다음과 같다. "
   ]
  },
  {
   "cell_type": "code",
   "execution_count": 35,
   "metadata": {},
   "outputs": [
    {
     "data": {
      "text/html": [
       "<table class=\"dataframe\">\n",
       "<caption>A anova: 2 × 5</caption>\n",
       "<thead>\n",
       "\t<tr><th></th><th scope=col>Df</th><th scope=col>Sum Sq</th><th scope=col>Mean Sq</th><th scope=col>F value</th><th scope=col>Pr(&gt;F)</th></tr>\n",
       "\t<tr><th></th><th scope=col>&lt;int&gt;</th><th scope=col>&lt;dbl&gt;</th><th scope=col>&lt;dbl&gt;</th><th scope=col>&lt;dbl&gt;</th><th scope=col>&lt;dbl&gt;</th></tr>\n",
       "</thead>\n",
       "<tbody>\n",
       "\t<tr><th scope=row>gas_df$heating_degree</th><td>1</td><td>58.907135</td><td>58.907135</td><td>311.9717</td><td>4.596036e-07</td></tr>\n",
       "\t<tr><th scope=row>Residuals</th><td>7</td><td> 1.321754</td><td> 0.188822</td><td>      NA</td><td>          NA</td></tr>\n",
       "</tbody>\n",
       "</table>\n"
      ],
      "text/latex": [
       "A anova: 2 × 5\n",
       "\\begin{tabular}{r|lllll}\n",
       "  & Df & Sum Sq & Mean Sq & F value & Pr(>F)\\\\\n",
       "  & <int> & <dbl> & <dbl> & <dbl> & <dbl>\\\\\n",
       "\\hline\n",
       "\tgas\\_df\\$heating\\_degree & 1 & 58.907135 & 58.907135 & 311.9717 & 4.596036e-07\\\\\n",
       "\tResiduals & 7 &  1.321754 &  0.188822 &       NA &           NA\\\\\n",
       "\\end{tabular}\n"
      ],
      "text/markdown": [
       "\n",
       "A anova: 2 × 5\n",
       "\n",
       "| <!--/--> | Df &lt;int&gt; | Sum Sq &lt;dbl&gt; | Mean Sq &lt;dbl&gt; | F value &lt;dbl&gt; | Pr(&gt;F) &lt;dbl&gt; |\n",
       "|---|---|---|---|---|---|\n",
       "| gas_df$heating_degree | 1 | 58.907135 | 58.907135 | 311.9717 | 4.596036e-07 |\n",
       "| Residuals | 7 |  1.321754 |  0.188822 |       NA |           NA |\n",
       "\n"
      ],
      "text/plain": [
       "                      Df Sum Sq    Mean Sq   F value  Pr(>F)      \n",
       "gas_df$heating_degree 1  58.907135 58.907135 311.9717 4.596036e-07\n",
       "Residuals             7   1.321754  0.188822       NA           NA"
      ]
     },
     "metadata": {},
     "output_type": "display_data"
    }
   ],
   "source": [
    "## ANOVA\n",
    "anova(gas_fit)"
   ]
  },
  {
   "cell_type": "markdown",
   "metadata": {},
   "source": [
    "p값은 매우 작다. 따라서 유의수준 5%하에서 귀무가설은 기각된다. 즉, 가스사용량과 난방도일 간에는 통계적으로 유의한 선형관계가 있는 것으로 해석할 수 있다. \n",
    "\n",
    "이때 t검정과 F검정으로 구한 p값이 같다는 것을 확인할 수 있는데, 이는 단순회귀모형에서는 기울기가 $\\beta_{1}$ 하나만 있기 때문에 t검정과 F검정의 귀무가설과 대립가설이 동일한 형태가 되기 때문이다. "
   ]
  },
  {
   "cell_type": "markdown",
   "metadata": {},
   "source": [
    "#### c. 기울기 추정치에 대한 90% 수준의 신뢰구간을 설정하여라."
   ]
  },
  {
   "cell_type": "code",
   "execution_count": 39,
   "metadata": {
    "scrolled": true
   },
   "outputs": [
    {
     "data": {
      "text/html": [
       "0.180521447610287"
      ],
      "text/latex": [
       "0.180521447610287"
      ],
      "text/markdown": [
       "0.180521447610287"
      ],
      "text/plain": [
       "[1] 0.1805214"
      ]
     },
     "metadata": {},
     "output_type": "display_data"
    },
    {
     "data": {
      "text/html": [
       "0.223901579774105"
      ],
      "text/latex": [
       "0.223901579774105"
      ],
      "text/markdown": [
       "0.223901579774105"
      ],
      "text/plain": [
       "[1] 0.2239016"
      ]
     },
     "metadata": {},
     "output_type": "display_data"
    }
   ],
   "source": [
    "# b1 Confidence Interval\n",
    "\n",
    "t_gas <- qt(0.05, 7, lower.tail = F)\n",
    "s.b1_gas <- sqrt(MSE_gas/sum((gas_df$heating_degree - mean.x_gas)^2))\n",
    "(b1_CI.low_gas <- b1_gas - t_gas * s.b1_gas)\n",
    "(b1_CI.up_gas <- b1_gas + t_gas * s.b1_gas)"
   ]
  },
  {
   "cell_type": "markdown",
   "metadata": {},
   "source": [
    "기울기 추정치에 대한 90% 수준의 신뢰구간은 (0.18, 0.22)이며, 0을 포함하지 않는다. 따라서 유의수준 $\\alpha = 0.1$하에서 귀무가설은 기각된다. 신뢰구간을 통해서도 추정된 회귀식이 두 변수 간 선형관계를 잘 나타내고 있다고 판단할 수 있다. "
   ]
  },
  {
   "cell_type": "markdown",
   "metadata": {},
   "source": [
    "#### 조사자료에서 1월의 가스사용량 수치가 8.5에서 85로 잘못 입력되었다고가정하고, 아래 문제들에 답하여라.\n",
    "#### e. 오류가 있는 1월 조사 관찰치가 포함된 자료를 가지고 회귀분석을 하고, 최소제곱 회귀선을 다시 써보라. \n",
    "\n",
    "오류가 포함된 자료의 산점도를 그려보면 다음과 같다."
   ]
  },
  {
   "cell_type": "code",
   "execution_count": 43,
   "metadata": {},
   "outputs": [
    {
     "data": {
      "image/png": "[encoded data removed]",
      "text/plain": [
       "plot without title"
      ]
     },
     "metadata": {
      "image/png": {
       "height": 420,
       "width": 420
      }
     },
     "output_type": "display_data"
    }
   ],
   "source": [
    "# Assigning data\n",
    "month <- c(\"10\", \"11\", \"12\", \"1\", \"2\", \"3\", \"4\", \"5\", \"6\")\n",
    "heating_degree <- c(15.6, 26.8, 37.8, 36.4, 35.5, 18.6, 15.3, 7.9, 0.0)\n",
    "gas_usage_error <- c(5.2, 6.1, 8.7, 85, 8.8, 4.9, 4.5, 2.5, 1.1)\n",
    "gas_df_error <- data.frame(month, heating_degree, gas_usage_error)\n",
    "\n",
    "# Scatter plot\n",
    "plot(gas_df_error$gas_usage_error ~ gas_df_error$heating_degree)\n",
    "cor_gas_error <- cor(gas_df_error$gas_usage_error, gas_df_error$heating_degree)"
   ]
  },
  {
   "cell_type": "markdown",
   "metadata": {},
   "source": [
    "이상치(outlier) '85'를 제외하면 두 변수 간에 선형관계가 존재한다고 판단할 수 있다.\n",
    "\n",
    "이 경우에도 최소제곱추정법으로 구한 회귀선이 유효하기 위해선 단순선형회귀모형의 가정사항들: 등분산성, 독립성, 정규성을 충족해야 한다.\n",
    "\n",
    "가정사항을 충족한다는 가정 하에 최소제곱추정법으로 y절편과 기울기를 추정할 수 있다. 우선 lm함수를 이용하여 구하면 다음과 같다."
   ]
  },
  {
   "cell_type": "code",
   "execution_count": 44,
   "metadata": {
    "scrolled": false
   },
   "outputs": [
    {
     "data": {
      "text/plain": [
       "\n",
       "Call:\n",
       "lm(formula = gas_df_error$gas_usage_error ~ gas_df_error$heating_degree)\n",
       "\n",
       "Residuals:\n",
       "    Min      1Q  Median      3Q     Max \n",
       "-21.499 -13.197  -3.400   1.934  56.188 \n",
       "\n",
       "Coefficients:\n",
       "                            Estimate Std. Error t value Pr(>|t|)\n",
       "(Intercept)                  -7.2630    16.3008  -0.446    0.669\n",
       "gas_df_error$heating_degree   0.9911     0.6524   1.519    0.173\n",
       "\n",
       "Residual standard error: 24.76 on 7 degrees of freedom\n",
       "Multiple R-squared:  0.2479,\tAdjusted R-squared:  0.1405 \n",
       "F-statistic: 2.307 on 1 and 7 DF,  p-value: 0.1726\n"
      ]
     },
     "metadata": {},
     "output_type": "display_data"
    }
   ],
   "source": [
    "# Linear model\n",
    "gas_fit_error <- lm(gas_df_error$gas_usage_error ~ gas_df_error$heating_degree)\n",
    "summary(gas_fit_error)"
   ]
  },
  {
   "cell_type": "markdown",
   "metadata": {},
   "source": [
    "직접 공식에 대입하여 구한 값은 다음과 같다."
   ]
  },
  {
   "cell_type": "code",
   "execution_count": 41,
   "metadata": {},
   "outputs": [
    {
     "data": {
      "text/html": [
       "0.991061085410982"
      ],
      "text/latex": [
       "0.991061085410982"
      ],
      "text/markdown": [
       "0.991061085410982"
      ],
      "text/plain": [
       "[1] 0.9910611"
      ]
     },
     "metadata": {},
     "output_type": "display_data"
    },
    {
     "data": {
      "text/html": [
       "-7.26297160679882"
      ],
      "text/latex": [
       "-7.26297160679882"
      ],
      "text/markdown": [
       "-7.26297160679882"
      ],
      "text/plain": [
       "[1] -7.262972"
      ]
     },
     "metadata": {},
     "output_type": "display_data"
    }
   ],
   "source": [
    "# Least Squares Method\n",
    "## b1\n",
    "sd.x_gas <- sd(gas_df$heating_degree)\n",
    "sd.y_gas_error <- sd(gas_df_error$gas_usage_error)\n",
    "(b1_gas_error <- cor_gas_error * sd.y_gas_error / sd.x_gas)\n",
    "\n",
    "## b0\n",
    "mean.x_gas <- mean(gas_df_error$heating_degree)\n",
    "mean.y_gas_error <- mean(gas_df_error$gas_usage_error)\n",
    "(b0_gas_error <- mean.y_gas_error - b1_gas_error * mean.x_gas)"
   ]
  },
  {
   "cell_type": "markdown",
   "metadata": {},
   "source": [
    "y절편  𝛽0 과 기울기  𝛽1 의 추정값  𝑏0 ,  𝑏1 는 각각 -7.2630, 0.9911이다. 따라서 회귀식은 다음과 같이 구해진다.\n",
    "\n",
    "$$\n",
    "\\hat{y} = -7.2630 + 0.9911x\n",
    "$$\n",
    "\n",
    "추정된 회귀선과 자료들을 그림으로 나타내면 다음과 같다. "
   ]
  },
  {
   "cell_type": "code",
   "execution_count": 45,
   "metadata": {},
   "outputs": [
    {
     "data": {
      "image/png": "[encoded data removed]",
      "text/plain": [
       "plot without title"
      ]
     },
     "metadata": {
      "image/png": {
       "height": 420,
       "width": 420
      }
     },
     "output_type": "display_data"
    }
   ],
   "source": [
    "# Visualization\n",
    "plot(gas_df_error$gas_usage_error ~ gas_df_error$heating_degree)\n",
    "abline(gas_fit_error)"
   ]
  },
  {
   "cell_type": "markdown",
   "metadata": {},
   "source": [
    "추정된 회귀식이 이상치 쪽으로 기울어 이상치를 제외한 자료들의 선형관계를 잘 나타내지 못하고 있음을 확인할 수 있다. "
   ]
  },
  {
   "cell_type": "markdown",
   "metadata": {},
   "source": [
    "#### f. 회귀선의 기울기 모수에 대한 표준오차(standard error)를 계산하여라.\n",
    "0.6524이다."
   ]
  },
  {
   "cell_type": "code",
   "execution_count": 46,
   "metadata": {},
   "outputs": [
    {
     "data": {
      "text/html": [
       "0.652430856247695"
      ],
      "text/latex": [
       "0.652430856247695"
      ],
      "text/markdown": [
       "0.652430856247695"
      ],
      "text/plain": [
       "[1] 0.6524309"
      ]
     },
     "metadata": {},
     "output_type": "display_data"
    }
   ],
   "source": [
    "y.hat_gas_error <- b0_gas_error + (b1_gas_error * gas_df$heating_degree)\n",
    "SSE_gas_error <- sum((gas_df_error$gas_usage_error - y.hat_gas_error)^2)\n",
    "MSE_gas_error <- SSE_gas_error/(9 - 2)\n",
    "\n",
    "(sb1_gas_error <- sqrt(MSE_gas_error/sum((gas_df$heating_degree - mean.x_gas)^2)))"
   ]
  },
  {
   "cell_type": "markdown",
   "metadata": {},
   "source": [
    "#### g. H0: $\\beta_{1}$ = 0의 가설에 대한 검정통계량과 p값은 얼마인가? 이같은 가설검정 결과를 올바른 자료와 함께 수행했던 가설검정결과와 비교하여라.\n",
    "\n",
    "우선 t검정을 수행하면 다음과 같다."
   ]
  },
  {
   "cell_type": "code",
   "execution_count": 47,
   "metadata": {},
   "outputs": [
    {
     "data": {
      "text/html": [
       "1.51902853140767"
      ],
      "text/latex": [
       "1.51902853140767"
      ],
      "text/markdown": [
       "1.51902853140767"
      ],
      "text/plain": [
       "[1] 1.519029"
      ]
     },
     "metadata": {},
     "output_type": "display_data"
    },
    {
     "data": {
      "text/html": [
       "0.172552236141545"
      ],
      "text/latex": [
       "0.172552236141545"
      ],
      "text/markdown": [
       "0.172552236141545"
      ],
      "text/plain": [
       "[1] 0.1725522"
      ]
     },
     "metadata": {},
     "output_type": "display_data"
    }
   ],
   "source": [
    "## t.value\n",
    "(t.value_gas_error <- b1_gas_error/sb1_gas_error)\n",
    "\n",
    "## p.value\n",
    "(pt(t.value_gas_error, df = 7, lower.tail = F) * 2)"
   ]
  },
  {
   "cell_type": "markdown",
   "metadata": {},
   "source": [
    "t통계량은 1.5190이며, p값은 0.1726이다. 따라서 유의수준 5%하에서 귀무가설을 기각할 수 없다. 즉, 두 변수 간에 통계적으로 유의한 선형관계가 있다고 보기 어렵다. \n",
    "\n",
    "이어서 F검정을 수행하면 다음과 같다. "
   ]
  },
  {
   "cell_type": "code",
   "execution_count": 48,
   "metadata": {},
   "outputs": [
    {
     "data": {
      "text/html": [
       "2.30744767923053"
      ],
      "text/latex": [
       "2.30744767923053"
      ],
      "text/markdown": [
       "2.30744767923053"
      ],
      "text/plain": [
       "[1] 2.307448"
      ]
     },
     "metadata": {},
     "output_type": "display_data"
    },
    {
     "data": {
      "text/html": [
       "0.172552236141545"
      ],
      "text/latex": [
       "0.172552236141545"
      ],
      "text/markdown": [
       "0.172552236141545"
      ],
      "text/plain": [
       "[1] 0.1725522"
      ]
     },
     "metadata": {},
     "output_type": "display_data"
    }
   ],
   "source": [
    "# F-test\n",
    "MSR_gas_error <- sum((y.hat_gas_error - mean.y_gas_error)^2) / 1\n",
    "\n",
    "## f.value\n",
    "(f.value_gas_error <- MSR_gas_error / MSE_gas_error)\n",
    "\n",
    "## p.value\n",
    "(pf(f.value_gas_error, 1, 7, lower.tail = F))"
   ]
  },
  {
   "cell_type": "markdown",
   "metadata": {},
   "source": [
    "단순선형회귀모형의 분산분석(ANOVA)표를 작성하면 다음과 같다."
   ]
  },
  {
   "cell_type": "code",
   "execution_count": 49,
   "metadata": {},
   "outputs": [
    {
     "data": {
      "text/html": [
       "<table class=\"dataframe\">\n",
       "<caption>A anova: 2 × 5</caption>\n",
       "<thead>\n",
       "\t<tr><th></th><th scope=col>Df</th><th scope=col>Sum Sq</th><th scope=col>Mean Sq</th><th scope=col>F value</th><th scope=col>Pr(&gt;F)</th></tr>\n",
       "\t<tr><th></th><th scope=col>&lt;int&gt;</th><th scope=col>&lt;dbl&gt;</th><th scope=col>&lt;dbl&gt;</th><th scope=col>&lt;dbl&gt;</th><th scope=col>&lt;dbl&gt;</th></tr>\n",
       "</thead>\n",
       "<tbody>\n",
       "\t<tr><th scope=row>gas_df_error$heating_degree</th><td>1</td><td>1415.002</td><td>1415.0018</td><td>2.307448</td><td>0.1725522</td></tr>\n",
       "\t<tr><th scope=row>Residuals</th><td>7</td><td>4292.627</td><td> 613.2324</td><td>      NA</td><td>       NA</td></tr>\n",
       "</tbody>\n",
       "</table>\n"
      ],
      "text/latex": [
       "A anova: 2 × 5\n",
       "\\begin{tabular}{r|lllll}\n",
       "  & Df & Sum Sq & Mean Sq & F value & Pr(>F)\\\\\n",
       "  & <int> & <dbl> & <dbl> & <dbl> & <dbl>\\\\\n",
       "\\hline\n",
       "\tgas\\_df\\_error\\$heating\\_degree & 1 & 1415.002 & 1415.0018 & 2.307448 & 0.1725522\\\\\n",
       "\tResiduals & 7 & 4292.627 &  613.2324 &       NA &        NA\\\\\n",
       "\\end{tabular}\n"
      ],
      "text/markdown": [
       "\n",
       "A anova: 2 × 5\n",
       "\n",
       "| <!--/--> | Df &lt;int&gt; | Sum Sq &lt;dbl&gt; | Mean Sq &lt;dbl&gt; | F value &lt;dbl&gt; | Pr(&gt;F) &lt;dbl&gt; |\n",
       "|---|---|---|---|---|---|\n",
       "| gas_df_error$heating_degree | 1 | 1415.002 | 1415.0018 | 2.307448 | 0.1725522 |\n",
       "| Residuals | 7 | 4292.627 |  613.2324 |       NA |        NA |\n",
       "\n"
      ],
      "text/plain": [
       "                            Df Sum Sq   Mean Sq   F value  Pr(>F)   \n",
       "gas_df_error$heating_degree 1  1415.002 1415.0018 2.307448 0.1725522\n",
       "Residuals                   7  4292.627  613.2324       NA        NA"
      ]
     },
     "metadata": {},
     "output_type": "display_data"
    }
   ],
   "source": [
    "anova(gas_fit_error)"
   ]
  },
  {
   "cell_type": "markdown",
   "metadata": {},
   "source": [
    "F통계량은 2.3074이며, p값은 0.1726이다. 따라서 유의수준 5%하에서 귀무가설을 기각할 수 없다. 즉, 두 변수 간에 통계적으로 유의한 선형관계가 있다고 보기 어렵다. "
   ]
  },
  {
   "cell_type": "markdown",
   "metadata": {},
   "source": [
    "|검정통계량|올바른 자료|잘못 입력한 자료|\n",
    "|:-:|:-:|:-:|\n",
    "|t통계량|17.6627|1.5190|\n",
    "|F통계량|311.9717|2.3074|\n",
    "|p.value|0|0.1726|"
   ]
  },
  {
   "cell_type": "markdown",
   "metadata": {},
   "source": [
    "올바른 자료에 대하여 수행했던 가설검정결과와 잘못 입력한 자료의 결과를 비교하여 정리한 표다. 앞서 올바른 자료에 대하여 수행했던 가설검정결과, t통계량은 17.6627, f통계량은 311.9717이었다. 더불어, p값은 매우 작았으며, 이에 따라 유의수준 5%하에서 귀무가설은 기각되며 두 변수 간 선형관계는 통계적으로 유의하다는 결론이 도출되었다. \n",
    "\n",
    "반면, 이상치가 포함된 자료의 경우 검정 결과 귀무가설은 기각되지 않았다. 따라서 통계적으로 유의한 선형관계가 있다고 보기 어렵다. 이렇듯 선형모형의 적합을 왜곡하는 이상치가 자료에 포함될 경우, 우선 산점도를 통해 그 존재를 확인하고 제거 여부를 판단해야 한다. "
   ]
  },
  {
   "cell_type": "markdown",
   "metadata": {},
   "source": [
    "#### 13. 다음에 주어진 10개 표본가구의 월소득액과 월 통신비지출액의 자료를 참조하여 답을 구하여라."
   ]
  },
  {
   "cell_type": "code",
   "execution_count": 50,
   "metadata": {},
   "outputs": [
    {
     "data": {
      "text/html": [
       "<table class=\"dataframe\">\n",
       "<caption>A data.frame: 10 × 2</caption>\n",
       "<thead>\n",
       "\t<tr><th scope=col>income</th><th scope=col>expense</th></tr>\n",
       "\t<tr><th scope=col>&lt;dbl&gt;</th><th scope=col>&lt;dbl&gt;</th></tr>\n",
       "</thead>\n",
       "<tbody>\n",
       "\t<tr><td>160</td><td> 35</td></tr>\n",
       "\t<tr><td>450</td><td> 78</td></tr>\n",
       "\t<tr><td>360</td><td>102</td></tr>\n",
       "\t<tr><td>320</td><td> 56</td></tr>\n",
       "\t<tr><td>300</td><td> 75</td></tr>\n",
       "\t<tr><td>130</td><td> 26</td></tr>\n",
       "\t<tr><td>410</td><td>130</td></tr>\n",
       "\t<tr><td>150</td><td> 42</td></tr>\n",
       "\t<tr><td>360</td><td> 59</td></tr>\n",
       "\t<tr><td>400</td><td> 85</td></tr>\n",
       "</tbody>\n",
       "</table>\n"
      ],
      "text/latex": [
       "A data.frame: 10 × 2\n",
       "\\begin{tabular}{ll}\n",
       " income & expense\\\\\n",
       " <dbl> & <dbl>\\\\\n",
       "\\hline\n",
       "\t 160 &  35\\\\\n",
       "\t 450 &  78\\\\\n",
       "\t 360 & 102\\\\\n",
       "\t 320 &  56\\\\\n",
       "\t 300 &  75\\\\\n",
       "\t 130 &  26\\\\\n",
       "\t 410 & 130\\\\\n",
       "\t 150 &  42\\\\\n",
       "\t 360 &  59\\\\\n",
       "\t 400 &  85\\\\\n",
       "\\end{tabular}\n"
      ],
      "text/markdown": [
       "\n",
       "A data.frame: 10 × 2\n",
       "\n",
       "| income &lt;dbl&gt; | expense &lt;dbl&gt; |\n",
       "|---|---|\n",
       "| 160 |  35 |\n",
       "| 450 |  78 |\n",
       "| 360 | 102 |\n",
       "| 320 |  56 |\n",
       "| 300 |  75 |\n",
       "| 130 |  26 |\n",
       "| 410 | 130 |\n",
       "| 150 |  42 |\n",
       "| 360 |  59 |\n",
       "| 400 |  85 |\n",
       "\n"
      ],
      "text/plain": [
       "   income expense\n",
       "1  160     35    \n",
       "2  450     78    \n",
       "3  360    102    \n",
       "4  320     56    \n",
       "5  300     75    \n",
       "6  130     26    \n",
       "7  410    130    \n",
       "8  150     42    \n",
       "9  360     59    \n",
       "10 400     85    "
      ]
     },
     "metadata": {},
     "output_type": "display_data"
    }
   ],
   "source": [
    "# Assigning data\n",
    "income <- c(160, 450, 360, 320, 300, 130, 410, 150, 360, 400)\n",
    "expense <- c(35, 78, 102, 56, 75, 26, 130, 42, 59, 85)\n",
    "(q13_df <- data.frame(income, expense))"
   ]
  },
  {
   "cell_type": "markdown",
   "metadata": {},
   "source": [
    "#### a. 월통신비지출액(y)에 대해서 월소득액(x)을 설명변수로 하는 단순회귀모형방정식을 설정하고 모숫값을 추정하여라. \n",
    "\n",
    "우선 두 변수의 관계를 산점도로 나타내면 다음과 같다."
   ]
  },
  {
   "cell_type": "code",
   "execution_count": 51,
   "metadata": {},
   "outputs": [
    {
     "data": {
      "text/html": [
       "0.800395232304843"
      ],
      "text/latex": [
       "0.800395232304843"
      ],
      "text/markdown": [
       "0.800395232304843"
      ],
      "text/plain": [
       "[1] 0.8003952"
      ]
     },
     "metadata": {},
     "output_type": "display_data"
    },
    {
     "data": {
      "image/png": "[encoded data removed]",
      "text/plain": [
       "plot without title"
      ]
     },
     "metadata": {
      "image/png": {
       "height": 420,
       "width": 420
      }
     },
     "output_type": "display_data"
    }
   ],
   "source": [
    "# Scatter plot\n",
    "plot(q13_df$expense ~ q13_df$income)\n",
    "\n",
    "# Correlation coefficient\n",
    "(cor_q13 <- cor(q13_df$expense, q13_df$income))"
   ]
  },
  {
   "cell_type": "markdown",
   "metadata": {},
   "source": [
    "산점도를 참고했을 때, 전반적으로 두 변수 간에는 선형관계가 존재한다고 판단할 수 있다. 실제로 상관계수도 0.80이다."
   ]
  },
  {
   "cell_type": "markdown",
   "metadata": {},
   "source": [
    "월통신비지출액(y)에 대해서 월소득액(x)을 설명변수로 하는 단순회귀모형방정식은 다음과 같이 설정할 수 있다. \n",
    "\n",
    "> $Y= \\beta_{0} + \\beta_{1}X + \\epsilon$\n",
    "\n",
    "최소제곱추정법을 적용하여 모수 $\\beta_{0}$와 $\\beta_{1}$을 추정하고자 한다. 최소제곱추정법으로 구한 회귀선이 유효하기 위해선 다음과 같은 단순선형회귀모형의 가정사항들을 충족해야 한다. \n",
    " \n",
    "1. 등분산성: 모든 오차항( 𝜖𝑖 )들의 평균은 0이고, 분산은  𝜎2 로 동일하다.\n",
    "2. 독립성: 오차항( 𝜖𝑖 )들은 서로 독립이다.\n",
    "3. 정규성: 오차항( 𝜖𝑖 )은 정규분포를 따른다.\n",
    "\n",
    "가정사항을 충족한다는 가정 하에 최소제곱추정법으로 y절편과 기울기를 추정할 수 있다. 우선 lm함수를 이용하여 구하면 다음과 같다."
   ]
  },
  {
   "cell_type": "code",
   "execution_count": 53,
   "metadata": {},
   "outputs": [
    {
     "data": {
      "text/plain": [
       "\n",
       "Call:\n",
       "lm(formula = q13_df$expense ~ q13_df$income)\n",
       "\n",
       "Residuals:\n",
       "    Min      1Q  Median      3Q     Max \n",
       "-22.729 -13.423  -3.528   7.026  38.019 \n",
       "\n",
       "Coefficients:\n",
       "              Estimate Std. Error t value Pr(>|t|)   \n",
       "(Intercept)    2.31730   18.74001   0.124  0.90464   \n",
       "q13_df$income  0.21869    0.05791   3.776  0.00542 **\n",
       "---\n",
       "Signif. codes:  0 '***' 0.001 '**' 0.01 '*' 0.05 '.' 0.1 ' ' 1\n",
       "\n",
       "Residual standard error: 20.31 on 8 degrees of freedom\n",
       "Multiple R-squared:  0.6406,\tAdjusted R-squared:  0.5957 \n",
       "F-statistic: 14.26 on 1 and 8 DF,  p-value: 0.005416\n"
      ]
     },
     "metadata": {},
     "output_type": "display_data"
    }
   ],
   "source": [
    "# Linear model\n",
    "q13_fit <- lm(q13_df$expense ~ q13_df$income)\n",
    "summary(q13_fit)"
   ]
  },
  {
   "cell_type": "markdown",
   "metadata": {},
   "source": [
    "직접 공식에 대입하여 구하면 다음과 같다. "
   ]
  },
  {
   "cell_type": "code",
   "execution_count": 59,
   "metadata": {},
   "outputs": [
    {
     "data": {
      "text/html": [
       "0.21869310793238"
      ],
      "text/latex": [
       "0.21869310793238"
      ],
      "text/markdown": [
       "0.21869310793238"
      ],
      "text/plain": [
       "[1] 0.2186931"
      ]
     },
     "metadata": {},
     "output_type": "display_data"
    },
    {
     "data": {
      "text/html": [
       "2.31729518855657"
      ],
      "text/latex": [
       "2.31729518855657"
      ],
      "text/markdown": [
       "2.31729518855657"
      ],
      "text/plain": [
       "[1] 2.317295"
      ]
     },
     "metadata": {},
     "output_type": "display_data"
    }
   ],
   "source": [
    "# Least Squares Method\n",
    "## b1\n",
    "sd.x_q13 <- sd(q13_df$income)\n",
    "sd.y_q13 <- sd(q13_df$expense)\n",
    "(b1_q13 <- cor_q13 * sd.y_q13 / sd.x_q13)\n",
    "\n",
    "## b2\n",
    "mean.x_q13 <- mean(q13_df$income)\n",
    "mean.y_q13 <- mean(q13_df$expense)\n",
    "(b0_q13 <- mean.y_q13 - b1_q13 * mean.x_q13)"
   ]
  },
  {
   "cell_type": "markdown",
   "metadata": {},
   "source": [
    "y절편 $\\beta_{0}$과 기울기 $\\beta_{1}$의 추정값 $b_{0}$, $b_{1}$는 각각 0.2187, 2.3173이다. 따라서 회귀식은 다음과 같이 구해진다.\n",
    "$$\n",
    "\\hat{y} = 0.2187 + 2.3173x\n",
    "$$\n",
    "\n",
    "추정된 회귀식과 자료들을 그림으로 나타내면 다음과 같다. "
   ]
  },
  {
   "cell_type": "code",
   "execution_count": 60,
   "metadata": {},
   "outputs": [
    {
     "data": {
      "image/png": "[encoded data removed]",
      "text/plain": [
       "plot without title"
      ]
     },
     "metadata": {
      "image/png": {
       "height": 420,
       "width": 420
      }
     },
     "output_type": "display_data"
    }
   ],
   "source": [
    "# Visualization\n",
    "plot(q13_df$expense ~ q13_df$income)\n",
    "abline(q13_fit)"
   ]
  },
  {
   "cell_type": "markdown",
   "metadata": {},
   "source": [
    "#### b. $SS_{xx}$,  $SS_{yy}$,  $SS_{xy}$를 구하여라.\n",
    "차례대로 123040, 9185.6, 26908이다. \n"
   ]
  },
  {
   "cell_type": "code",
   "execution_count": 61,
   "metadata": {},
   "outputs": [
    {
     "data": {
      "text/html": [
       "123040"
      ],
      "text/latex": [
       "123040"
      ],
      "text/markdown": [
       "123040"
      ],
      "text/plain": [
       "[1] 123040"
      ]
     },
     "metadata": {},
     "output_type": "display_data"
    },
    {
     "data": {
      "text/html": [
       "9185.6"
      ],
      "text/latex": [
       "9185.6"
      ],
      "text/markdown": [
       "9185.6"
      ],
      "text/plain": [
       "[1] 9185.6"
      ]
     },
     "metadata": {},
     "output_type": "display_data"
    },
    {
     "data": {
      "text/html": [
       "26908"
      ],
      "text/latex": [
       "26908"
      ],
      "text/markdown": [
       "26908"
      ],
      "text/plain": [
       "[1] 26908"
      ]
     },
     "metadata": {},
     "output_type": "display_data"
    }
   ],
   "source": [
    "# Correlation coefficient\n",
    "(ss_xx <- sum((q13_df$income - mean(q13_df$income))^2))\n",
    "(ss_yy <- sum((q13_df$expense - mean(q13_df$expense))^2))\n",
    "(ss_xy <- sum((q13_df$income - mean(q13_df$income))*(q13_df$expense - mean(q13_df$expense))))"
   ]
  },
  {
   "cell_type": "markdown",
   "metadata": {},
   "source": [
    "#### c. 오차항의 표준편차를 구하여라. \n",
    "오차항의 분산($\\hat{\\sigma}^2$)은 오차평균제곱(MSE)으로 추정된다. 이때 자유도는 8(= 10 - 2)이다. "
   ]
  },
  {
   "cell_type": "code",
   "execution_count": 62,
   "metadata": {},
   "outputs": [
    {
     "data": {
      "text/html": [
       "7.18179757676865"
      ],
      "text/latex": [
       "7.18179757676865"
      ],
      "text/markdown": [
       "7.18179757676865"
      ],
      "text/plain": [
       "[1] 7.181798"
      ]
     },
     "metadata": {},
     "output_type": "display_data"
    }
   ],
   "source": [
    "y.hat_q13 <- b0_q13 + (b1_q13 * q13_df$income)\n",
    "SSE_q13 <- sum((q13_df$expense - y.hat_q13)^2)\n",
    "MSE_q13 <- SSE_q13/(10 - 2)\n",
    "\n",
    "(sb1_q13 <- sqrt(MSE_q13/8))"
   ]
  },
  {
   "cell_type": "markdown",
   "metadata": {},
   "source": [
    "#### d. SST, SSE, SSR를 구하여라.\n",
    "순서대로 3301.01, 5884.59, 9185.6이다. "
   ]
  },
  {
   "cell_type": "code",
   "execution_count": 63,
   "metadata": {},
   "outputs": [
    {
     "data": {
      "text/html": [
       "3301.00585175553"
      ],
      "text/latex": [
       "3301.00585175553"
      ],
      "text/markdown": [
       "3301.00585175553"
      ],
      "text/plain": [
       "[1] 3301.006"
      ]
     },
     "metadata": {},
     "output_type": "display_data"
    },
    {
     "data": {
      "text/html": [
       "5884.59414824447"
      ],
      "text/latex": [
       "5884.59414824447"
      ],
      "text/markdown": [
       "5884.59414824447"
      ],
      "text/plain": [
       "[1] 5884.594"
      ]
     },
     "metadata": {},
     "output_type": "display_data"
    },
    {
     "data": {
      "text/html": [
       "9185.6"
      ],
      "text/latex": [
       "9185.6"
      ],
      "text/markdown": [
       "9185.6"
      ],
      "text/plain": [
       "[1] 9185.6"
      ]
     },
     "metadata": {},
     "output_type": "display_data"
    }
   ],
   "source": [
    "# Sum of Squares\n",
    "\n",
    "(SSE_q13 <- sum((q13_df$expense - y.hat_q13)^2))\n",
    "(SSR_q13 <- sum((y.hat_q13 - mean.y_q13)^2))\n",
    "(SST_q13 <- SSE_q13 + SSR_q13)"
   ]
  },
  {
   "cell_type": "markdown",
   "metadata": {},
   "source": [
    "#### e. 이 선형모형을 가지고 얻는 결정계수는 얼마인가? \n",
    "회귀선이 자료를 잘 반영, 요약하고 있는지를 나타내는 척도가 결정계수다. 결정계수는 자료 전체의 변동량 중 회귀식으로 설명할 수 있는 변동량의 비율을 나타낸 값으로, 구하는 식은 다음과 같다. \n",
    "$$\n",
    "R^2 = \\frac{SSR}{SST}\n",
    "$$"
   ]
  },
  {
   "cell_type": "code",
   "execution_count": 64,
   "metadata": {},
   "outputs": [
    {
     "data": {
      "text/html": [
       "0.640632527896324"
      ],
      "text/latex": [
       "0.640632527896324"
      ],
      "text/markdown": [
       "0.640632527896324"
      ],
      "text/plain": [
       "[1] 0.6406325"
      ]
     },
     "metadata": {},
     "output_type": "display_data"
    }
   ],
   "source": [
    "# R squared \n",
    "(SSR_q13/SST_q13)"
   ]
  },
  {
   "cell_type": "markdown",
   "metadata": {},
   "source": [
    "이 선형모형의 결정계수는 0.6406으로, 약 64%이다. 따라서 회귀식이 모든 관측값의 변동을 잘 잡아냈다고 보기는 어려우나, 어느 정도는 적합하다고 판단할 수 있다. "
   ]
  },
  {
   "cell_type": "markdown",
   "metadata": {},
   "source": [
    "#### 14. Anscombe's Quartet는 동일한 요약 통계량을 가지는 4개의 자료들을 포함하고 있다. \n",
    "\n",
    "#### a. 각각의 자료에 대한 산점도를 그려 회귀모형의 적합성을 확인하여라. \n",
    "\n",
    "4개의 자료들은 각각 하나의 $X_{n}$(설명변수)과 $Y_{n}$(반응변수)를 가진다. 이때 두 변수 간의 관계를 산점도로 나타내면 다음과 같다."
   ]
  },
  {
   "cell_type": "code",
   "execution_count": 67,
   "metadata": {},
   "outputs": [
    {
     "name": "stderr",
     "output_type": "stream",
     "text": [
      "The following objects are masked from anscombe (pos = 3):\n",
      "\n",
      "    x1, x2, x3, x4, y1, y2, y3, y4\n",
      "\n",
      "\n",
      "The following objects are masked from anscombe (pos = 4):\n",
      "\n",
      "    x1, x2, x3, x4, y1, y2, y3, y4\n",
      "\n",
      "\n"
     ]
    },
    {
     "data": {
      "image/png": "[encoded data removed]",
      "text/plain": [
       "plot without title"
      ]
     },
     "metadata": {
      "image/png": {
       "height": 420,
       "width": 420
      }
     },
     "output_type": "display_data"
    }
   ],
   "source": [
    "?anscombe\n",
    "attach(anscombe)\n",
    "\n",
    "# Scatter plot\n",
    "## x1 - y1\n",
    "\n",
    "par(mfrow = c(2,2))\n",
    "plot(y1 ~ x1)\n",
    "plot(y2 ~ x2)\n",
    "plot(y3 ~ x3)\n",
    "plot(y4 ~ x4)"
   ]
  },
  {
   "cell_type": "markdown",
   "metadata": {},
   "source": [
    "1. x1 - y1: 산점도를 참고했을 때, 전반적으로 두 변수 간에는 선형관계가 존재한다고 판단할 수 있다.\n",
    "2. x2 - y2: 산점도를 참고했을 때, 전반적으로 두 변수 간에는 선형관계가 존재한다고 판단하기 어렵다.\n",
    "3. x3 - y3: 산점도를 참고했을 때, 이상치(outlier)를 제외하면 두 변수 간에 선형관계가 존재한다고 판단할 수 있다.\n",
    "4. x4 - y4: 산점도를 참고했을 때, 전반적으로 두 변수 간에는 선형관계가 존재한다고 판단하기 어렵다."
   ]
  },
  {
   "cell_type": "markdown",
   "metadata": {},
   "source": [
    "#### b. 각각의 자료에 대해서 단순회귀모형을 가정하고 다음의 값들이 동일한지 확인하여라. \n",
    "\n",
    "**1) 상관계수** <br>\n",
    "4개의 자료의 상관계수는 거의 동일하다."
   ]
  },
  {
   "cell_type": "code",
   "execution_count": 68,
   "metadata": {
    "scrolled": true
   },
   "outputs": [
    {
     "data": {
      "text/html": [
       "0.81642051634484"
      ],
      "text/latex": [
       "0.81642051634484"
      ],
      "text/markdown": [
       "0.81642051634484"
      ],
      "text/plain": [
       "[1] 0.8164205"
      ]
     },
     "metadata": {},
     "output_type": "display_data"
    },
    {
     "data": {
      "text/html": [
       "0.816236506000243"
      ],
      "text/latex": [
       "0.816236506000243"
      ],
      "text/markdown": [
       "0.816236506000243"
      ],
      "text/plain": [
       "[1] 0.8162365"
      ]
     },
     "metadata": {},
     "output_type": "display_data"
    },
    {
     "data": {
      "text/html": [
       "0.816286739489598"
      ],
      "text/latex": [
       "0.816286739489598"
      ],
      "text/markdown": [
       "0.816286739489598"
      ],
      "text/plain": [
       "[1] 0.8162867"
      ]
     },
     "metadata": {},
     "output_type": "display_data"
    },
    {
     "data": {
      "text/html": [
       "0.816521436888503"
      ],
      "text/latex": [
       "0.816521436888503"
      ],
      "text/markdown": [
       "0.816521436888503"
      ],
      "text/plain": [
       "[1] 0.8165214"
      ]
     },
     "metadata": {},
     "output_type": "display_data"
    }
   ],
   "source": [
    "# Correlation coefficient \n",
    "(cor_1 <- cor(x1, y1))\n",
    "(cor_2 <- cor(x2, y2))\n",
    "(cor_3 <- cor(x3, y3))\n",
    "(cor_4 <- cor(x4, y4))"
   ]
  },
  {
   "cell_type": "markdown",
   "metadata": {},
   "source": [
    "**2) 결정계수, 3) 회귀계수, 4) t검정 통계**<br>\n",
    "결정계수, 회귀계수를 그리고 이에 대한 통계적 유의성 검정 결과를 구하기 위해선 먼저 주어진 자료 각각에 대한 회귀식을 추정해야 한다. 이에 최소제곱추정법을 적용하여 회귀식을 추정하고자 한다. \n",
    "\n",
    "최소제곱추정법으로 구한 회귀선이 유효하기 위해선 다음과 같은 단순선형회귀모형의 가정사항들을 충족해야 한다.\n",
    "\n",
    "$$\n",
    "\\epsilon_{i} \\sim  iid N(o, \\sigma^2)\n",
    "$$\n",
    "\n",
    " \n",
    "1. 등분산성: 모든 오차항( 𝜖𝑖 )들의 평균은 0이고, 분산은  𝜎2 로 동일하다.\n",
    "2. 독립성: 오차항( 𝜖𝑖 )들은 서로 독립이다.\n",
    "3. 정규성: 오차항( 𝜖𝑖 )은 정규분포를 따른다.\n",
    "\n",
    "가정사항을 충족한다는 가정 하에 최소제곱추정법으로 y절편과 기울기를 추정할 수 있다. lm함수를 이용하여 각 자료의 결정계수, 회귀계수, 그리고 t통계량과 p값을 구하는 R코드는 다음과 같다. "
   ]
  },
  {
   "cell_type": "code",
   "execution_count": 73,
   "metadata": {},
   "outputs": [],
   "source": [
    "# Linear Model\n",
    "q14.1_fit <- lm(y1 ~ x1)\n",
    "q14.2_fit <- lm(y2 ~ x2)\n",
    "q14.3_fit <- lm(y3 ~ x3)\n",
    "q14.4_fit <- lm(y4 ~ x4)"
   ]
  },
  {
   "cell_type": "markdown",
   "metadata": {},
   "source": [
    "||자료1|자료2|자료3|자료4|\n",
    "|:-:|:-:|:-:|:-:|:-:|\n",
    "|결정계수|1.237|1.237|1.236|1.236|\n",
    "|$\\beta_{0}$|3.0001|3.001|3.0025|3.0017|\n",
    "|$\\beta_{1}$|0.5001|0.500|0.4997|0.4999|\n",
    "|t통계량|4.241|4.239|4.239|4.243|\n",
    "|p.value|0.00217|0.00218|0.00218|0.00216|\n",
    "\n",
    "계산 결과 4개의 자료의 결정계수, 회귀계수, t검정 결과는 거의 동일하다는 것을 확인할 수 있다."
   ]
  },
  {
   "cell_type": "markdown",
   "metadata": {},
   "source": [
    "4개의 자료들로부터 구한 계수와 통계적 유의성 검정 결과가 모두 동일하게 나온 것은 4개의 자료들이 동일한 통계량을 가지고 있기 때문이다. 그러나 실제 자료의 분포는 달랐으며, 회귀분석에 적합한 자료는 자료1과 자료3이었다. 따라서 회귀모형으로 자료를 분석하기에 앞서 반드시 산점도를 그려봄으로써 그 적합성을 따져 보아야 한다는 것을 알 수 있다."
   ]
  }
 ],
 "metadata": {
  "kernelspec": {
   "display_name": "R",
   "language": "R",
   "name": "ir"
  },
  "language_info": {
   "codemirror_mode": "r",
   "file_extension": ".r",
   "mimetype": "text/x-r-source",
   "name": "R",
   "pygments_lexer": "r",
   "version": "3.6.3"
  }
 },
 "nbformat": 4,
 "nbformat_minor": 4
}
