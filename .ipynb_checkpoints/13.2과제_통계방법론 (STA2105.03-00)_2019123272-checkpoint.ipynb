{
 "cells": [
  {
   "cell_type": "markdown",
   "metadata": {},
   "source": [
    "#### 28. 과잉행동(hyperactivity)을 보이는 아동들은 통상적으로 상담을 통해서 혹은 약물요법에 의해서 또는 둘 다에 의해서 치료를 받는다. 다음의 자료는 이러한 치료방법들에 대한 유효성을 평가하기 위해서 실험적으로 얻은 자료이다. 관찰된 종속변수는 해당 아동에게 주어진 어떤 일에 대한 집중시간(분, minutes)에 대한 측정치이다.\n",
    "\n",
    "| |약물치료요법 적용|약물치료요법 적용않음|\n",
    "|:--:|:--:|:--:|\n",
    "|상담치료요법 적용|14, 10, 13, 15<br> 15, 12, 10, 8|8, 6, 7, 4 <br> 5, 10, 9, 11|\n",
    "|상담치료요법 적용않음|11, 13, 12, 10<br> 14, 8, 15, 9|10, 13, 9, 6 <br> 12, 9, 7, 13|\n",
    "\n",
    "#### a. 위에서 주어진 자료를 평가하기 위해서 유의수준 5%에서 분산분석을 수행하여 분산분석표를 작성하여라.\n",
    "우선, 해당 실험은 모든 처리 조합마다 8개의 관찰값을 선택한 완전확률화실험이다. 이에 따라 각 처리 조합 내의 관찰값들은 분산이 같은 정규분포를 따르는 모집단에서 추출된 독립 표본임을 가정한다. <br>\n",
    "과잉행동을 보이는 아동들을 대상으로 행한 치료방법들의 유효성을 평가하는 실험에서의 요인은 '약물치료요법'과 '상담치료요법' 변수이며, 이에 대한 반응변수는 '집중시간'이다. 통계적으로 어느 요인 또는 요인 간의 상호작용이 유의적으로 '집중시간'에 영향을 미치는지 알아보기 위해 다음과 같은 가설을 설정할 수 있다. \n",
    "\n",
    "> 1. H0: '약물치료요법'과 '상담치료요법'간의 상호작용은 없다. <br>\n",
    ">    H1: not H0\n",
    "\n",
    "> 2. H0: '약물치료요법'의 처리 집단별 평균차는 없다. <br>\n",
    ">    H1: not H0\n",
    "\n",
    "> 3. H0: '상담치료요법'의 처리 집단별 평균차는 없다. <br>\n",
    ">    H1: not H0\n",
    "\n",
    "우선, 각 처리 그룹의 평균이 각 요인에 대하여 어떻게 반응하는지 확인하여 보면 다음과 같다."
   ]
  },
  {
   "cell_type": "code",
   "execution_count": 2,
   "metadata": {
    "scrolled": false
   },
   "outputs": [
    {
     "data": {
      "image/png": "[encoded data removed]",
      "text/plain": [
       "plot without title"
      ]
     },
     "metadata": {
      "image/png": {
       "height": 420,
       "width": 420
      }
     },
     "output_type": "display_data"
    }
   ],
   "source": [
    "# Assigning Data \n",
    "engaged_time <- c(14, 10, 13, 15, 15, 12, 10, 8, 8, 6, 7, 4, 5, 10, 9, 11,\n",
    "                  11, 13, 12, 10, 14, 8, 15, 9, 10, 13, 9, 6, 12, 9, 7, 13)\n",
    "drug <- gl(2, 8, 32, labels = list(\"Y\", \"N\"))\n",
    "counseling <- gl(2, 16, 32, labels = list(\"Y\", \"N\"))\n",
    "\n",
    "engaged_time.df <- data.frame(engaged_time, drug, counseling)\n",
    "\n",
    "\n",
    "# Interaction Visaulization\n",
    "interaction.plot(x.factor = engaged_time.df$drug, \n",
    "                 trace.factor = engaged_time.df$counseling,\n",
    "                 response = engaged_time.df$engaged_time, fun = mean, type=\"b\",\n",
    "                 pch = c(2,4), col = c(2,4), xlab = \"약물요인\", ylab = \"집중시간\")"
   ]
  },
  {
   "cell_type": "markdown",
   "metadata": {},
   "source": [
    "약물 치료를 적용한 그룹의 평균은 상담치료를 적용한 경우 더 높은 반면, 약물 치료를 적용하지 않은 그룹의 평균은 상담치료를 적용하지 않은 경우에 더 높다. '약물치료요법' 적용여부에 따른 처리 그룹의 평균이 '상담치료요법' 적용여부에 따라 달라지고 있다. 따라서 두 요인 간에는 상호작용이 존재한다고 의심해볼 수 있다.\n",
    "\n",
    "그래프로 드러나는 두 요인 간의 상호작용이 통계적으로도 유의한지 검정하기 위해 분산분석을 수행하면 다음과 같다."
   ]
  },
  {
   "cell_type": "code",
   "execution_count": 3,
   "metadata": {},
   "outputs": [
    {
     "data": {
      "text/plain": [
       "                Df Sum Sq Mean Sq F value  Pr(>F)   \n",
       "drug             1  78.12   78.12  12.170 0.00162 **\n",
       "counseling       1   6.13    6.13   0.954 0.33704   \n",
       "drug:counseling  1  18.00   18.00   2.804 0.10517   \n",
       "Residuals       28 179.75    6.42                   \n",
       "---\n",
       "Signif. codes:  0 '***' 0.001 '**' 0.01 '*' 0.05 '.' 0.1 ' ' 1"
      ]
     },
     "metadata": {},
     "output_type": "display_data"
    }
   ],
   "source": [
    "# two-way ANOVA\n",
    "aov.time <- aov(engaged_time ~ drug * counseling)\n",
    "summary(aov.time)\n",
    "\n",
    "## Calculation\n",
    "### Means\n",
    "group.means <- aggregate(engaged_time ~ drug + counseling, data = engaged_time.df, mean) # x_ij_bar\n",
    "matrix.means <- matrix(group.means$engaged_time, nrow = 2, ncol = 2)\n",
    "obs.mean <- mean(engaged_time) # x_bar\n",
    "\n",
    "\n",
    "### Sum of Squares\n",
    "sst.time <- sum((engaged_time.df$engaged_time - obs.mean) ** 2)\n",
    "\n",
    "sstr.drug <- 0\n",
    "for (i in 1:2){\n",
    "    sstr.drug <- 2 * 8 * (mean(matrix.means[i,]) - obs.mean) ** 2 + sstr.drug\n",
    "}\n",
    "\n",
    "sstr.counseling <- 0\n",
    "for (i in 1:2){\n",
    "    sstr.counseling <- 2 * 8 * (mean(matrix.means[,i]) - obs.mean) ** 2 + sstr.counseling\n",
    "}\n",
    "\n",
    "ssint.time <- 0\n",
    "for (i in 1:2){\n",
    "    for (j in 1:2){\n",
    "        ssint.time = ssint.time + 8 * (matrix.means[i,j] - mean(matrix.means[i,]) - mean(matrix.means[,j]) + obs.mean) ** 2\n",
    "    }\n",
    "}\n",
    "\n",
    "sse.time <- sst.time - sum(sstr.drug, sstr.counseling, ssint.time)\n",
    "\n",
    "### Mean sum of squares\n",
    "mstr.durg <- sstr.drug/(2-1)\n",
    "mstr.counseling <- sstr.counseling/(2-1)\n",
    "msint.time <- ssint.time/((2-1) * (2-1))\n",
    "mse.time <- sse.time/(2*2*7)\n",
    "\n",
    "### F.value\n",
    "f_value.drug <- mstr.durg / mse.time\n",
    "f_value.counseling <- mstr.counseling / mse.time\n",
    "f_value.interaction <- msint.time / mse.time"
   ]
  },
  {
   "cell_type": "markdown",
   "metadata": {},
   "source": [
    "|변동요인|자유도|제곱합|평균제곱합|F통계량|\n",
    "|:--:|:--:|:--:|:--:|:--:|\n",
    "|요인 1|1|78.12|78.12|12.170|\n",
    "|요인 2|1|6.13|6.13|0.954|\n",
    "|상호작용|1|18.00|18.00|2.804|\n",
    "|오차|28|179.75|6.42||\n",
    "|총계|31|282|||"
   ]
  },
  {
   "cell_type": "markdown",
   "metadata": {},
   "source": [
    "#### b. 주어진 자료에 의하면 약물치료요법은 유의적인 효과가 있는가? \n",
    "\n",
    "> 2. H0: '약물치료요법'의 처리 집단별 평균차는 없다. <br>\n",
    ">    H1: not H0\n",
    "\n",
    "'약물치료요법' 요인에 대해 계산된 F통계량값은 12.170이다. 이에 해당하는 자유도가 1, 28인 F분포에서 p값을 구하면 0.0016이다. 따라서 유의수준 5%하에서 귀무가설은 기각된다. 즉, '약물처리요법'에 의한 집단별 평균차는 없다고 볼 수 없다. <br>\n",
    "아래는 '약물처리요법' 적용 여부에 따라 집중시간의 평균이 얼마나 차이나는지를 보여주는 그래프다. 왼쪽은 약물을 적용한 그룹의 평균을, 오른쪽은 약물을 적용하지 않은 그룹의 평균을 연결한 선인데, 이때 그룹 평균이 약물 적용 여부에 따라 차이를 보이고 있음을 확인할 수 있다. "
   ]
  },
  {
   "cell_type": "code",
   "execution_count": 4,
   "metadata": {
    "scrolled": false
   },
   "outputs": [
    {
     "data": {
      "text/html": [
       "0.0016242794257618"
      ],
      "text/latex": [
       "0.0016242794257618"
      ],
      "text/markdown": [
       "0.0016242794257618"
      ],
      "text/plain": [
       "[1] 0.001624279"
      ]
     },
     "metadata": {},
     "output_type": "display_data"
    },
    {
     "data": {
      "image/png": "[encoded data removed]",
      "text/plain": [
       "plot without title"
      ]
     },
     "metadata": {
      "image/png": {
       "height": 420,
       "width": 420
      }
     },
     "output_type": "display_data"
    }
   ],
   "source": [
    "# P.value\n",
    "(p_value.drug <- pf(f_value.drug, 1, 28, lower.tail = F))\n",
    "\n",
    "# Visualization\n",
    "library(gplots)\n",
    "plotmeans(engaged_time ~ interaction(drug, counseling), data = engaged_time.df, connect = list(1:2,3:4), bars = F)"
   ]
  },
  {
   "cell_type": "markdown",
   "metadata": {},
   "source": [
    "#### c. 상담치료요법의 효과는 어떠한가?\n",
    "\n",
    "> 3. H0: '상담치료요법'의 처리 집단별 평균차는 없다. <br>\n",
    ">    H1: not H0\n",
    "\n",
    "'상담치료요법' 요인에 대해 계산된 F통계량값은 0.954이다. 이에 해당하는 자유도가 1, 28인 F분포에서 p값을 구하면 0.3370이다. 따라서 유의수준 5%하에서 귀무가설은 기각될 수 없다. 즉, '상담치료요법'에 의한 집단별 평균차는 통계적으로 유의하다.<br>\n",
    "아래는 '상담치료요법' 적용 여부에 따라 집중시간의 평균이 얼마나 차이나는지를 보여주는 그래프다. 위쪽은 상담 치료를 적용한 그룹의 평균을, 아래쪽은 상담 치료를 적용하지 않은 그룹의 평균을 연결한 선인데, 이때 그룹 평균이 상담치료 적용 여부에 따라 차이를 보이고 있음을 확인할 수 있다. "
   ]
  },
  {
   "cell_type": "code",
   "execution_count": 5,
   "metadata": {},
   "outputs": [
    {
     "data": {
      "text/html": [
       "0.337041409283057"
      ],
      "text/latex": [
       "0.337041409283057"
      ],
      "text/markdown": [
       "0.337041409283057"
      ],
      "text/plain": [
       "[1] 0.3370414"
      ]
     },
     "metadata": {},
     "output_type": "display_data"
    },
    {
     "data": {
      "image/png": "[encoded data removed]",
      "text/plain": [
       "plot without title"
      ]
     },
     "metadata": {
      "image/png": {
       "height": 420,
       "width": 420
      }
     },
     "output_type": "display_data"
    }
   ],
   "source": [
    "# P.value\n",
    "(p_value.counseling <- pf(f_value.counseling, 1, 28, lower.tail = F))\n",
    "\n",
    "# Visualization\n",
    "library(gplots)\n",
    "plotmeans(engaged_time ~ interaction(drug, counseling), data = engaged_time.df,\n",
    "        connect = list(c(1,3), c(2,4)), bars = F)"
   ]
  },
  {
   "cell_type": "markdown",
   "metadata": {},
   "source": [
    "#### d. 약물치료요법과 상담치료요법의 상호작용은 영향이 있는가?\n",
    "\n",
    "> 1. H0: '약물치료요법'과 '상담치료요법'간의 상호작용은 없다. <br>\n",
    ">    H1: not H0\n",
    "\n",
    "두 요인 간 상호작용에 대해 계산된 F통계량값은 2.8039이다. 이에 해당하는 자유도가 1, 28인 F분포에서 p값을 구하면 0.1052이다. 따라서 유의수준 5%하에서 귀무가설은 기각될 수 없다. 따라서 두 요인 간에는 상호작용이 없다. <br>\n",
    "이로써 앞서 그래프 상에서 보여졌던 두 요인 간의 상호작용은 통계적으로는 유의하지 않다는 결론을 내릴 수 있다. 두 요인 간 상호작용의 효과가 유의하지 않기 때문에 앞서 수행한 각 요인 '약물치료요법'과 '상담치료요법'의 주효과에 대한 검정과 그 결괏값은 유의미하다."
   ]
  },
  {
   "cell_type": "code",
   "execution_count": 6,
   "metadata": {},
   "outputs": [
    {
     "data": {
      "text/html": [
       "0.105171337385853"
      ],
      "text/latex": [
       "0.105171337385853"
      ],
      "text/markdown": [
       "0.105171337385853"
      ],
      "text/plain": [
       "[1] 0.1051713"
      ]
     },
     "metadata": {},
     "output_type": "display_data"
    }
   ],
   "source": [
    "# P.value\n",
    "(p_value.interaction <- pf(f_value.interaction, 1, 28, lower.tail = F))"
   ]
  },
  {
   "cell_type": "markdown",
   "metadata": {},
   "source": [
    "#### 29. 어떤 광고 회사에서는 TV 광고에 영향을 미치 수도 있는 두 가지 요인에 대한 효과를 알아보고자 한다. 첫 번째 요인은 광고가 방영되는 시간대이며 두 번째 요인을 그 광고가 방영되는 기점(프로그램 시작 전, 프로그램 시작 후)이다. 아래의 표는 완전한 임의 실험에 의하여 두 가지 요인의 처리 조합별로 관찰된 값이다. 여기서 관찰값은 각 처리 그룹별 TV 광고의 반응도로서 높은 값일수록 좋은 반응을 받았음을 의미한다. \n",
    "\n",
    "| |프로그램 시작 전|프로그램 종료 후|\n",
    "|:--:|:--:|:--:|\n",
    "|오전 11시대|62, 68, 64|51, 47, 48|\n",
    "|오후 3시대|88, 85, 81|67, 60, 66|\n",
    "|오후 8시대|127, 120, 126|105, 101, 107|\n",
    "\n",
    "#### a. 그래프를 이용하여 방영시간대와 방영기점 사이에 상호작용이 있는지를 분석하여라.\n",
    "\n",
    "해당 실험은 완전한 임의실험으로 진행되었으며, 모든 처리 조합마다 3개의 관찰값을 선택한 완전확률화실험이다. 이에 따라 각 처리 조합 내의 관찰값들은 분산이 같은 정규분포를 따르는 모집단에서 추출된 독립 표본임을 가정한다."
   ]
  },
  {
   "cell_type": "code",
   "execution_count": 12,
   "metadata": {},
   "outputs": [
    {
     "data": {
      "image/png": "[encoded data removed]",
      "text/plain": [
       "Plot with title \"방영 기점의 그룹평균\""
      ]
     },
     "metadata": {
      "image/png": {
       "height": 420,
       "width": 420
      }
     },
     "output_type": "display_data"
    }
   ],
   "source": [
    "# Assigning Data\n",
    "tv <- c(62,  68, 64, 51, 47, 48, 88, 85, 81,\n",
    "                67, 60, 66, 127, 120, 126, 105, 101, 107)\n",
    "\n",
    "position <- gl(2, 3, 18, labels = list(\"프로그램 시작 전\", \"프로그램 종료 후\"))\n",
    "time <- gl(3, 6, 18, labels = list(\"오전 11시대\", \"오후 3시대\", \"오후 8시대\"))\n",
    "\n",
    "tv.df <- data.frame(tv, position, time)\n",
    "\n",
    "# Interaction Visualization\n",
    "par(mfrow = c(1,2))\n",
    "interaction.plot(x.factor = tv.df$position, trace.factor = tv.df$time,\n",
    "                 response = tv.df$tv, fun = mean, type = \"b\",\n",
    "                 pch = c(2,4), col = c(2,4), ylab = \"광고 반응도\", main = \"방영 시점의 그룹평균\" )\n",
    "\n",
    "interaction.plot(x.factor = tv.df$time, trace.factor = tv.df$position,\n",
    "                 response = tv.df$tv, fun = mean, type = \"b\",\n",
    "                 pch = c(2,4), col = c(2,4), ylab = \"광고 반응도\", main = \"방영 기점의 그룹평균\")"
   ]
  },
  {
   "cell_type": "markdown",
   "metadata": {},
   "source": [
    "우선 두 그래프 모두에서 처리그룹에 따른 반응도를 나타낸 직선은 평행하다. '방영 시점'에 따른 처리그룹의 경우, 세 그룹 모두 프로그램 시작 전이 후보다 광고 반응도가 높았다. 더불어, '방영 기점'에 따른 처리그룹의 경우, 두 그룹 모두 늦은 시간대일수록 광고 반응도가 높았다. 따라서 두 요인이 서로 독립적으로 차이를 보이고 있으며, 두 요인 간에는 상호작용이 없을 것이라고 추측할 수 있다."
   ]
  },
  {
   "cell_type": "markdown",
   "metadata": {},
   "source": [
    "#### b. 유의수준 5%에서 방영시간대와 방영기점 사이에 상호작용이 있는지를 검정하여라 .\n",
    "\n",
    "두 요인 '방영시간대'와 '방영기점' 사이의 상호작용 여부를 검정하기 위한 가설은 다음과 같이 설정할 수 있다. \n",
    "\n",
    "> 1. H0: '방영시간대'와 '방영기점'간의 상호작용은 없다. <br>\n",
    ">    H1: not H0\n",
    "\n",
    "우선, 유의수준 5%에서 분산분석을 수행하여 분산분석표를 작성하면 다음과 같다."
   ]
  },
  {
   "cell_type": "code",
   "execution_count": 13,
   "metadata": {},
   "outputs": [
    {
     "data": {
      "text/plain": [
       "              Df Sum Sq Mean Sq F value   Pr(>F)    \n",
       "position       1   1587    1587 148.755 4.03e-08 ***\n",
       "time           2  10460    5230 490.328 3.12e-12 ***\n",
       "position:time  2     17       9   0.818    0.465    \n",
       "Residuals     12    128      11                     \n",
       "---\n",
       "Signif. codes:  0 '***' 0.001 '**' 0.01 '*' 0.05 '.' 0.1 ' ' 1"
      ]
     },
     "metadata": {},
     "output_type": "display_data"
    }
   ],
   "source": [
    "# two-way ANOVA\n",
    "aov.tv <- aov(tv ~ position * time, data = tv.df)\n",
    "summary(aov.tv)\n",
    "\n",
    "## Calculation\n",
    "### Mean\n",
    "group.means <- aggregate(tv ~ position + time, data = tv.df, mean)\n",
    "matrix.means <- matrix(group.means$tv, byrow = T, nrow = 3, ncol = 2) # x_ij_bar\n",
    "obs.mean <- mean(tv) # x_bar\n",
    "\n",
    "\n",
    "### Sum of Square\n",
    "sst.tv <- sum((tv.df$tv - obs.mean) ** 2)\n",
    "\n",
    "sstr.position <- 0\n",
    "for (i in 1:2){\n",
    "    sstr.position <- 9 * sum((mean(matrix.means[,i]) - obs.mean) ** 2) + sstr.position\n",
    "}\n",
    "\n",
    "\n",
    "sstr.time <- 0\n",
    "for (i in 1:3){\n",
    "    sstr.time <- 6 * sum((mean(matrix.means[i,]) - obs.mean) ** 2) + sstr.time\n",
    "}\n",
    "\n",
    "\n",
    "ssint.tv <- 0\n",
    "for (i in 1:3){\n",
    "    for (j in 1:2){\n",
    "        ssint.tv <- 3 * (matrix.means[i,j] - mean(matrix.means[i,]) - mean(matrix.means[,j]) + obs.mean) ** 2 + ssint.tv\n",
    "    }\n",
    "}\n",
    "\n",
    "\n",
    "sse.tv <- sst.tv - sum(sstr.position, sstr.time, ssint.tv)\n",
    "\n",
    "\n",
    "### Mean Sum of Square\n",
    "mstr.position <- sstr.position / (2 - 1)\n",
    "mstr.time <- sstr.time / (3 - 1)\n",
    "mstr.interaction <- ssint.tv / ((3 - 1) * (2 - 1))\n",
    "mse.tv <- sse.tv / (2 * 3 * (3 - 1))\n",
    "\n",
    "### F.value\n",
    "f_value.position <- mstr.position / mse.tv\n",
    "f_value.time <- mstr.time / mse.tv\n",
    "f_value.interaction <- mstr.interaction / mse.tv"
   ]
  },
  {
   "cell_type": "markdown",
   "metadata": {},
   "source": [
    "|변동요인|자유도|제곱합|평균제곱합|F통계량|\n",
    "|:--:|:--:|:--:|:--:|:--:|\n",
    "|방영 기점|1|1587|1587|148.76|\n",
    "|방영 시점|2|10460|5230|490.33|\n",
    "|상호작용|2|17|9|0.82|\n",
    "|오차|12|128|11||\n",
    "|총계|17|12192.5|||"
   ]
  },
  {
   "cell_type": "markdown",
   "metadata": {},
   "source": [
    "두 요인 간 상호작용에 대해 계산된 F통계량값은 0.818이다. 이에 해당하는 자유도가 1, 12인 F분포에서 p값을 구하면 0.4646이다. 따라서 유의수준 5%하에서 귀무가설은 기각될 수 없다. 따라서 두 요인 간에는 상호작용이 없다. 이는 앞선 그래프에서 확인한 결과와 동일하다."
   ]
  },
  {
   "cell_type": "code",
   "execution_count": 14,
   "metadata": {},
   "outputs": [
    {
     "data": {
      "text/html": [
       "0.464597635527203"
      ],
      "text/latex": [
       "0.464597635527203"
      ],
      "text/markdown": [
       "0.464597635527203"
      ],
      "text/plain": [
       "[1] 0.4645976"
      ]
     },
     "metadata": {},
     "output_type": "display_data"
    }
   ],
   "source": [
    "# P.value\n",
    "(p_value.interaction <- pf(f_value.interaction, 2, 12, lower.tail = F))"
   ]
  },
  {
   "cell_type": "markdown",
   "metadata": {},
   "source": [
    "#### c. 유의수준 5%에서 방영시간대별로 광고의 효과가 다르다고 결론 내릴 수 있는가?\n",
    "\n",
    "요인 '방영시간대'에 의한 광고의 효과를 검정하기 위한 가설은 다음과 같이 설정할 수 있다.\n",
    "\n",
    "> 2. H0: '방영시간대'의 처리 집단별 평균차는 없다. <br>\n",
    ">    H1: not H0\n",
    "\n",
    "'방영시간대' 요인에 대해 계산된 F통계량값은 490.328이다. 이에 해당하는 자유도가 2, 12인 F분포에서 p값을 구하면 매우 작다. 따라서 유의수준 5%하에서 귀무가설은 기각된다. 즉, '방영시간대'에 의한 그룹별 평균차는 없다고 볼 수 없으며, 따라서 방영시간대에 의한 광고의 효과는 통계적으로 유의하다. <br>\n",
    "아래는 '방영시간대' 적용 여부에 따라 광고에 대한 반응도의 평균이 얼마나 차이나는지를 보여주는 그래프다. 시간대에 따른 처리 그룹 간의 반응도 평균 간에는 차이가 있음을 확인할 수 있다."
   ]
  },
  {
   "cell_type": "code",
   "execution_count": 15,
   "metadata": {},
   "outputs": [
    {
     "data": {
      "text/html": [
       "3.12100301477031e-12"
      ],
      "text/latex": [
       "3.12100301477031e-12"
      ],
      "text/markdown": [
       "3.12100301477031e-12"
      ],
      "text/plain": [
       "[1] 3.121003e-12"
      ]
     },
     "metadata": {},
     "output_type": "display_data"
    },
    {
     "data": {
      "image/png": "[encoded data removed]",
      "text/plain": [
       "plot without title"
      ]
     },
     "metadata": {
      "image/png": {
       "height": 420,
       "width": 420
      }
     },
     "output_type": "display_data"
    }
   ],
   "source": [
    "# P.value\n",
    "(p_value.time <- pf(f_value.time, 2, 12, lower.tail = F))\n",
    "\n",
    "# Visualization\n",
    "library(gplots)\n",
    "plotmeans(tv ~ interaction(position, time), data = tv.df, connect = list(1:2, 3:4, 5:6), bars = F)"
   ]
  },
  {
   "cell_type": "markdown",
   "metadata": {},
   "source": [
    "#### d. 유의수준 5%에서 방영기점별로 광고의 효과가 다르다고 결론 내릴 수 있는가?\n",
    "\n",
    "요인 '방영기점'에 의한 광고의 효과를 검정하기 위한 가설은 다음과 같이 설정할 수 있다.\n",
    "\n",
    "> 3. H0: '방영기점'의 처리 집단별 평균차는 없다. <br>\n",
    ">    H1: not H0\n",
    "\n",
    "'방영기점' 요인에 대해 계산된 F통계량값은 148.755이다. 이에 해당하는 자유도가 1, 12인 F분포에서 p값을 구하면 매우 작다.따라서 유의수준 5%하에서 귀무가설은 기각된다. 즉, '방영기점'에 의한 그룹별 평균차는 없다고 볼 수 없으며, 따라서 방영기점에 의한 광고의 효과는 통계적으로 유의하다. <br>\n",
    "아래는 '방영기점' 적용 여부에 따라 광고에 대한 반응도의 평균이 얼마나 차이나는지를 보여주는 그래프다. 방영기점에 따른 처리 그룹 간의 반응도 평균 간에 차이가 나고 있음을 확인할 수 있다."
   ]
  },
  {
   "cell_type": "code",
   "execution_count": 16,
   "metadata": {
    "scrolled": false
   },
   "outputs": [
    {
     "data": {
      "text/html": [
       "4.0344391702488e-08"
      ],
      "text/latex": [
       "4.0344391702488e-08"
      ],
      "text/markdown": [
       "4.0344391702488e-08"
      ],
      "text/plain": [
       "[1] 4.034439e-08"
      ]
     },
     "metadata": {},
     "output_type": "display_data"
    },
    {
     "data": {
      "image/png": "[encoded data removed]",
      "text/plain": [
       "plot without title"
      ]
     },
     "metadata": {
      "image/png": {
       "height": 420,
       "width": 420
      }
     },
     "output_type": "display_data"
    }
   ],
   "source": [
    "# P.value\n",
    "(p_value.position <- pf(f_value.position, 1, 12, lower.tail = F))\n",
    "\n",
    "# Visualization\n",
    "library(gplots)\n",
    "plotmeans(tv ~ interaction(time, position), data = tv.df, connect = list(1:3,4:6), bars = F)"
   ]
  },
  {
   "cell_type": "markdown",
   "metadata": {},
   "source": [
    "#### e. 광고의 효과를 극대화시키기 위해서는 어떠한 방영시간대나 방영기점이 유리하겠는가?\n",
    "\n",
    "각 요인에 따른 처리그룹 별 광고 반응도 평균 차이를 나타낸 두 그래프에서 관찰할 수 있듯, 광고의 효과는 시간대가 늦을수록 크며, 프로그램 종료 후보다 시작 전에서 더 크다. 따라서 가장 유리한 방영시간대와 방영기점의 조합은 오후 8시대 프로그램 시작 전이 될 것이다. 각 처리그룹의 평균을 구한 다음 표에서도 '프로그램 시작 전'과 '오후 8시' 조합의 처리그룹의 평균 광고 반응도가 가장 큼을 확인할 수 있다."
   ]
  },
  {
   "cell_type": "code",
   "execution_count": 17,
   "metadata": {},
   "outputs": [
    {
     "data": {
      "text/html": [
       "<table class=\"dataframe\">\n",
       "<caption>A matrix: 3 × 2 of type dbl</caption>\n",
       "<thead>\n",
       "\t<tr><th></th><th scope=col>시작 전</th><th scope=col>종료 후</th></tr>\n",
       "</thead>\n",
       "<tbody>\n",
       "\t<tr><th scope=row>11am</th><td> 64.66667</td><td> 48.66667</td></tr>\n",
       "\t<tr><th scope=row>3pm</th><td> 84.66667</td><td> 64.33333</td></tr>\n",
       "\t<tr><th scope=row>8pm</th><td>124.33333</td><td>104.33333</td></tr>\n",
       "</tbody>\n",
       "</table>\n"
      ],
      "text/latex": [
       "A matrix: 3 × 2 of type dbl\n",
       "\\begin{tabular}{r|ll}\n",
       "  & 시작 전 & 종료 후\\\\\n",
       "\\hline\n",
       "\t11am &  64.66667 &  48.66667\\\\\n",
       "\t3pm &  84.66667 &  64.33333\\\\\n",
       "\t8pm & 124.33333 & 104.33333\\\\\n",
       "\\end{tabular}\n"
      ],
      "text/markdown": [
       "\n",
       "A matrix: 3 × 2 of type dbl\n",
       "\n",
       "| <!--/--> | 시작 전 | 종료 후 |\n",
       "|---|---|---|\n",
       "| 11am |  64.66667 |  48.66667 |\n",
       "| 3pm |  84.66667 |  64.33333 |\n",
       "| 8pm | 124.33333 | 104.33333 |\n",
       "\n"
      ],
      "text/plain": [
       "     시작 전   종료 후  \n",
       "11am  64.66667  48.66667\n",
       "3pm   84.66667  64.33333\n",
       "8pm  124.33333 104.33333"
      ]
     },
     "metadata": {},
     "output_type": "display_data"
    }
   ],
   "source": [
    "# Group means\n",
    "matrix.means <- matrix(group.means$tv, byrow = T, nrow = 3, ncol = 2,\n",
    "                      dimnames = list( c(\"11am\", \"3pm\", \"8pm\"), c(\"시작 전\", \"종료 후\")))\n",
    "\n",
    "matrix.means"
   ]
  },
  {
   "cell_type": "markdown",
   "metadata": {},
   "source": [
    "#### 32. 사람들은 여러 명이 함께 식사를 할 때 더 많이 먹는다는 연구결과가 있다. 이러한 연구결과를 뒷받침하는 근거는 더 많은 사람들이 함께 식사를 하는 경우 식사시간이 길어진다는 것이다. 따라서 신촌과 대학로 그리고 강남역에서 3개의 식당을 경영하고 있는 박 사장은, 매출액을 높이기 위해 단체손님을 위한 테이블을 늘려야 하는지를 고민하였고, 이러한 문제를 대학교의 통계연구소에 의뢰하였다. 통계연구소의 최 조교는 같이 식사를 하는 사람수와 지점에 따라 식사시간의 차이가 있는지를 검정하기 위해 요인실험을 먼저 진행하였다. 각 처리조합에 대해 2개의 테이블을 확률적으로 선택해 식사시간(단위 분)을 조사하였다. 모든 검정은 유의수준 5%에서 실행하였다. \n",
    "\n",
    "||1|2|3|4|5 이상|\n",
    "|:-:|:-:|:-:|:-:|:-:|:-:|\n",
    "|신촌|12.6,11.2|23.1, 21.8|33.0, 28.2|41.2, 34.5|43.2, 45.2|\n",
    "|대학로|10.7, 8.8|18.2, 15.9|18.4, 20.1|29.7, 31.2|35.9, 37.4|\n",
    "|강남역|15.1, 14.8|28.2, 23.4|39.8, 31.4|46.9, 39.7|53.2, 49.8|\n",
    "\n",
    "\n",
    "\n",
    "해당 실험은 모든 처리 조합마다 2개의 관찰값을 선택한 완전확률화실험이다. 분산분석을 위해 각 처리조합 내의 관찰값들은 분산이 같은 정규분포를 따르는 모집단에서 추출된 독립 표본임을 가정한다. \n",
    "#### a. 그래프를 이용하여 같이 식사를 하는 사람수와 지점 사이에 상호작용이 있는지 분석하여라. \n",
    "두 요인 간 상호작용 여부를 그래프로 나타내면 다음과 같다. 세 지점 모두에서 사람수가 많을수록 식사시간이 길다는 것을 확인할 수 있다. 지점에 따른 세 처리 그룹 모두 '사람수' 요인에 동일한 반응을 보이고 있기 때문에 두 요인 간에는 상호작용이 없다고 볼 수 있다. 지점 위치에 따른 세 처리그룹 모두 사람수가 많아질수록 식사시간이 길다. "
   ]
  },
  {
   "cell_type": "code",
   "execution_count": 19,
   "metadata": {},
   "outputs": [
    {
     "data": {
      "image/png": "[encoded data removed]",
      "text/plain": [
       "plot without title"
      ]
     },
     "metadata": {
      "image/png": {
       "height": 420,
       "width": 420
      }
     },
     "output_type": "display_data"
    }
   ],
   "source": [
    "# Assigning Data\n",
    "meal_time <- c(12.6, 23.1, 33.0, 41.2, 43.2,\n",
    "               11.2, 21.8, 28.2, 34.5, 45.2,\n",
    "               10.7, 18.2, 18.4, 29.7, 35.9,\n",
    "               8.8, 15.9, 20.1, 31.2, 37.4,\n",
    "               15.1, 28.2, 39.8, 46.9, 53.2,\n",
    "               14.8, 23.4, 31.4, 39.7, 49.8)\n",
    "ppl <- gl(5, 1, 30, labels = list('1', '2', '3', '4', '5 이상'))\n",
    "location <- gl(3, 10, 30, labels = list(\"신촌\", \"대학로\", \"강남역\"))\n",
    "\n",
    "meal_time.df <- data.frame(meal_time, ppl, location)\n",
    "\n",
    "# Interaction Visualization\n",
    "interaction.plot(x.factor = ppl, trace.factor = location, response = meal_time,\n",
    "                 type = \"b\", pch = c(2,4,6), col = c(2,4,6), xlab = \"사람 수\", ylab = \"식사시간\")"
   ]
  },
  {
   "cell_type": "markdown",
   "metadata": {},
   "source": [
    "#### b. 같이 식사를 하는 사람수와 지점 사이에 상호작용이 있는지 검정하여라. \n",
    "\n",
    "두 요인 '사람수'와 '지점' 사이의 상호작용 여부를 검정하기 위한 가설은 다음과 같이 설정할 수 있다.\n",
    "\n",
    "> H0: '사람수'와 '지점'간의 상호작용은 없다. <br>\n",
    "> H1: not H0\n",
    "\n",
    "우선, 유의수준 5%에서 분산분석을 수행하여 분산분석표를 작성하면 다음과 같다."
   ]
  },
  {
   "cell_type": "code",
   "execution_count": 20,
   "metadata": {},
   "outputs": [
    {
     "data": {
      "text/plain": [
       "             Df Sum Sq Mean Sq F value   Pr(>F)    \n",
       "ppl           4   3782   945.4 113.924 4.92e-11 ***\n",
       "location      2    679   339.5  40.915 8.43e-07 ***\n",
       "ppl:location  8     94    11.7   1.414    0.268    \n",
       "Residuals    15    124     8.3                     \n",
       "---\n",
       "Signif. codes:  0 '***' 0.001 '**' 0.01 '*' 0.05 '.' 0.1 ' ' 1"
      ]
     },
     "metadata": {},
     "output_type": "display_data"
    }
   ],
   "source": [
    "# two-way ANOVA\n",
    "aov.meal_time <- aov(meal_time ~ ppl * location, data = meal_time.df)\n",
    "summary(aov.meal_time)\n",
    "\n",
    "## Calculation\n",
    "### Means\n",
    "group.means <- aggregate(meal_time ~ ppl + location, data = meal_time.df, mean)\n",
    "matrix.meals <- matrix(group.means$meal_time, nrow = 3, ncol = 5, byrow = T) # x_ij_bar\n",
    "obs.mean <- mean(meal_time) # x_bar\n",
    "\n",
    "### Sum of Squares\n",
    "### a = 5, b = 3, m = 2\n",
    "sst.meal <- sum((meal_time - obs.mean) ** 2)\n",
    "\n",
    "sstr.ppl <- 0\n",
    "for (i in 1:5){\n",
    "    sstr.ppl <- 6 * sum((mean(matrix.meals[,i]) - obs.mean) ** 2) + sstr.ppl\n",
    "}\n",
    "\n",
    "sstr.location <- 0\n",
    "for (i in 1:3){\n",
    "    sstr.location <- 10 * sum((mean(matrix.meals[i,]) - obs.mean) ** 2) + sstr.location\n",
    "}\n",
    "\n",
    "ssint.meal <- 0\n",
    "for (i in 1:3){\n",
    "    for(j in 1:5){\n",
    "        ssint.meal <- 2 * sum(matrix.meals[i,j] - mean(matrix.meals[i,]) - mean(matrix.meals[,j]) + obs.mean) ** 2 + ssint.meal\n",
    "    }\n",
    "}\n",
    "\n",
    "sse.meal <- sst.meal - sum(sstr.ppl, sstr.location, ssint.meal)\n",
    "\n",
    "### Mean Sum of Square\n",
    "mstr.ppl <- sstr.ppl / (5 - 1)\n",
    "mstr.location <- sstr.location / (3 - 1)\n",
    "mstr.interaction <- ssint.meal / 8\n",
    "mse.meal <- sse.meal / 15\n",
    "\n",
    "### F.value\n",
    "f_value.ppl <- mstr.ppl / mse.meal\n",
    "f_value.location <- mstr.location / mse.meal\n",
    "f_value.interaction <- mstr.interaction / mse.meal"
   ]
  },
  {
   "cell_type": "markdown",
   "metadata": {},
   "source": [
    "|변동요인|자유도|제곱합|평균제곱합|F통계량|\n",
    "|:--:|:--:|:--:|:--:|:--:|\n",
    "|사람수|4|3782|945.42|113.92|\n",
    "|지점|2|679|339.54|40.91|\n",
    "|상호작용|8|93.90|11.74|1.41|\n",
    "|오차|15|124|8.30||\n",
    "|총계|29|4679.12|||\n",
    "\n",
    "두 요인 간 상호작용에 대해 계산된 F통계량값은 1.4143이다. 이에 해당하는 자유도가 8, 15인 F분포에서 p값을 구하면 0.2678이다. 따라서 유의수준 5%하에서 귀무가설은 기각될 수 없다. 따라서 두 요인 간의 상호작용은 없다고 볼 수 있다."
   ]
  },
  {
   "cell_type": "code",
   "execution_count": 35,
   "metadata": {},
   "outputs": [
    {
     "data": {
      "text/html": [
       "0.267838119154911"
      ],
      "text/latex": [
       "0.267838119154911"
      ],
      "text/markdown": [
       "0.267838119154911"
      ],
      "text/plain": [
       "[1] 0.2678381"
      ]
     },
     "metadata": {},
     "output_type": "display_data"
    }
   ],
   "source": [
    "# P.vlaue\n",
    "(p_value.interaction <- pf(f_value.interaction, 8, 15, lower.tail = F))"
   ]
  },
  {
   "cell_type": "markdown",
   "metadata": {},
   "source": [
    "#### c. 같이 식사를 하는 사람수에 따라 식사시간에 차이가 있는지 검정하여라.\n",
    "\n",
    "요인 '사람수'에 의해 식사시간에 차이가 생기는지 검정하기 위한 가설은 다음과 같이 설정할 수 있다.\n",
    "\n",
    "> 2. H0: '사람수'의 처리 집단별 평균차는 없다. <br>\n",
    ">    H1: not H0\n",
    "\n",
    "'사람수' 요인에 대해 계산된 F통계량값은 113.9239이다. 이에 해당하는 자유도가 4, 15인 F분포에서 p값을 구하면 매우 작다. 따라서 유의수준 5%하에서 귀무가설은 기각된다. 즉, '사람수'에 의한 그룹별 평균차는 없다고 볼 수 없으며, 따라서 사람수에 의한 식사시간의 차이는 통계적으로 유의하다. <br>\n",
    "아래는 요인 '사람수'에 따라 식사시간의 평균이 얼마나 차이나는지를 보여주는 그래프다. 가장 왼쪽에 있는 꺾은선 그래프가 사람수가 1명인 처리 그룹, 가장 오른쪽이 사람수가 5명 이상인 처리 그룹이다. 사람수에 따른 처리 그룹 간의 식사시간의 평균 차가 있음을 확인할 수 있다."
   ]
  },
  {
   "cell_type": "code",
   "execution_count": 21,
   "metadata": {},
   "outputs": [
    {
     "data": {
      "text/html": [
       "4.92228345392424e-11"
      ],
      "text/latex": [
       "4.92228345392424e-11"
      ],
      "text/markdown": [
       "4.92228345392424e-11"
      ],
      "text/plain": [
       "[1] 4.922283e-11"
      ]
     },
     "metadata": {},
     "output_type": "display_data"
    },
    {
     "data": {
      "image/png": "[encoded data removed]",
      "text/plain": [
       "plot without title"
      ]
     },
     "metadata": {
      "image/png": {
       "height": 420,
       "width": 420
      }
     },
     "output_type": "display_data"
    }
   ],
   "source": [
    "# P.vlaue\n",
    "(p_value.ppl <- pf(f_value.ppl, 4, 15, lower.tail = F))\n",
    "\n",
    "# Visualization\n",
    "library(gplots)\n",
    "plotmeans(meal_time ~ interaction(location, ppl), data = meal_time.df,\n",
    "          connect = list(1:3, 4:6, 7:9, 10:12, 13:15), bars = F)"
   ]
  },
  {
   "cell_type": "markdown",
   "metadata": {},
   "source": [
    "#### d. 지점별로 식사시간에 차이가 있는지 검정하여라. \n",
    "\n",
    "요인 '지점'에 의해 식사시간에 차이가 생기는지 검정하기 위한 가설은 다음과 같이 설정할 수 있다.\n",
    "\n",
    "> 3. H0: '지점'의 처리 집단별 평균차는 없다. <br>\n",
    ">    H1: not H0\n",
    "\n",
    "'지점' 요인에 대해 계산된 F통계량값은 40.9146이다. 이에 해당하는 자유도가 2, 15인 F분포에서 p값을 구하면 매우 작다. 따라서 유의수준 5%하에서 귀무가설은 기각된다. 즉, '지점'에 의한 그룹별 평균차는 없다고 볼 수 없으며, 따라서 지점에 의한 식사시간의 차이는 통계적으로 유의하다. <br>\n",
    "아래는 요인 '지점'에 따른 식사시간의 평균 간의 차이를 보여주는 그래프다. 가장 왼쪽에 있는 그래프가 지점이 신촌인 처리 그룹, 가장 오른쪽이 지점이 강남역인 처리 그룹이다. 각 처리그룹의 식사시간 평균 간에 차이가 있음을 확인할 수 있다."
   ]
  },
  {
   "cell_type": "code",
   "execution_count": 38,
   "metadata": {},
   "outputs": [
    {
     "data": {
      "text/html": [
       "8.42634520893883e-07"
      ],
      "text/latex": [
       "8.42634520893883e-07"
      ],
      "text/markdown": [
       "8.42634520893883e-07"
      ],
      "text/plain": [
       "[1] 8.426345e-07"
      ]
     },
     "metadata": {},
     "output_type": "display_data"
    },
    {
     "data": {
      "image/png": "[encoded data removed]",
      "text/plain": [
       "plot without title"
      ]
     },
     "metadata": {
      "image/png": {
       "height": 420,
       "width": 420
      }
     },
     "output_type": "display_data"
    }
   ],
   "source": [
    "# P.vlaue\n",
    "(p_value.location <- pf(f_value.location, 2, 15, lower.tail = F))\n",
    "\n",
    "# Visualization\n",
    "library(gplots)\n",
    "plotmeans(meal_time ~ interaction(ppl, location), data = meal_time.df,\n",
    "          , connect = list(1:5, 6:10, 11:15), bars = F)"
   ]
  },
  {
   "cell_type": "markdown",
   "metadata": {},
   "source": [
    "#### e. 같이 식사를 하는 사람수와 지점에 따른 식사시간의 차이에 대한 결과를 설명하여라. "
   ]
  },
  {
   "cell_type": "code",
   "execution_count": 22,
   "metadata": {},
   "outputs": [
    {
     "data": {
      "image/png": "[encoded data removed]",
      "text/plain": [
       "Plot with title \"지점별\""
      ]
     },
     "metadata": {
      "image/png": {
       "height": 420,
       "width": 420
      }
     },
     "output_type": "display_data"
    }
   ],
   "source": [
    "# Visualization\n",
    "par(mfrow = c(1, 2))\n",
    "library(gplots)\n",
    "plotmeans(meal_time ~ interaction(location, ppl), data = meal_time.df,\n",
    "          connect = list(1:3, 4:6, 7:9, 10:12, 13:15), bars = F, main = \"사람수별\")\n",
    "plotmeans(meal_time ~ interaction(ppl, location), data = meal_time.df,\n",
    "          , connect = list(1:5, 6:10, 11:15), bars = F, main = \"지점별\")"
   ]
  },
  {
   "cell_type": "markdown",
   "metadata": {},
   "source": [
    "우선, 두 요인 '사람수'와 '지점' 간에는 상호작용이 없음을 그림과 계량적 분석을 통해 확인하였고, 이후 각 요인에 따른 주효과에 대한 검정을 하였다. <br>\n",
    "식사시간의 평균은 '사람수'와 '지점' 요인 모두에 의한 유의미한 통계적 차이를 보였다. 이때 '사람수' 요인에 대한 F통계량값은 '지점' 요인에 대한 값보다 컸으며, 이에 두 요인 중 '사람수' 요인이 식사시간에 더 큰 영향을 미친다는 결론을 내릴 수 있다. "
   ]
  },
  {
   "cell_type": "markdown",
   "metadata": {},
   "source": [
    "#### 33. 헬스장에는 유산소 운동을 위한 다양한 기구가 있다. 운동기구에 따른 유산소 운동이 심장활동에 미치는 영향에 차이가 있는지 알아보 기 위해, 건강한 남성 10명을 대상으로 다음과 같은 실험을 진행하였다. 각 남성은 헬스자전거(exercise bike),런닝머신(treadmill) 그리고 계단오르기(stair stepper)의 운동기구들을 확률적 순서대로 하루에 하나씩 1시간 동안 이용한 뒤 1분당 심장박동수를 측정하였고, 다음과 같은 자료를 얻었다.\n",
    "||헬스자전거|런닝머신|계단오르기|\n",
    "|:-:|:-:|:-:|:-:|\n",
    "|남성1|205| 199 |180|\n",
    "|남성2|177| 181| 164 |\n",
    "|남성3|166 |184| 167 |\n",
    "|남성4|152| 169| 153| \n",
    "|남성5|142| 162| 159 |\n",
    "|남성6|172 |193| 205 |\n",
    "|남성7|191| 184 |156| \n",
    "|남성8|170| 207 |160 |\n",
    "|남성9|181| 177 |175| \n",
    "|남성10|154| 174| 171|"
   ]
  },
  {
   "cell_type": "markdown",
   "metadata": {},
   "source": [
    "#### a. 이 실험은 확률화블록설계에 의해 진행되었다. 블록에 해당하는 변수가 무엇인지 찾고, 이 실험이 블록을 필요로 하는 이유에 대해 설명하여라. \n",
    "다음은 피실험자 10명의 이용한 운동기구에 따른 심장박동수를 나타낸 그래프이다. 그래프에 따르면, 피실험자들이 사용한 운동기구가 무엇이냐에 따라서도 심장박동수가 달라지지만, 10명의 피실험자 사이에도 심장박동수의 차이가 있다는 것을 확인할 수 있다. 따라서  운동기구가 심장활동에 미치는 영향을 분석하는 상황에서 피실험자는 블록에 해당하고, 운동기구는 요인에 해당한다. 피실험자의 개인적 특성으로 인한 변동을 제어하지 않을 경우 대립가설(운동기구 별 심장박동수 간에는 유의한 차이가 있음)이 사실일지라도 귀무가설을 기각하는 것을 실패할 수 있기 때문이다. 블록을 통해 운동기구가 아닌 피실험자 개인의 신체적 특성 등으로 인한 심장박동수의 변동을 제거할 수 있다.  "
   ]
  },
  {
   "cell_type": "code",
   "execution_count": 27,
   "metadata": {},
   "outputs": [
    {
     "data": {
      "image/png": "[encoded data removed]",
      "text/plain": [
       "plot without title"
      ]
     },
     "metadata": {
      "image/png": {
       "height": 420,
       "width": 420
      }
     },
     "output_type": "display_data"
    }
   ],
   "source": [
    "# Assigning Data\n",
    "heartbeat <- c(205, 199, 180, 177, 181, 164, 166, 184, 167, \n",
    "               152, 169, 153, 142, 162, 159, 172, 193, 205, \n",
    "               191, 184, 156, 170, 207, 160, 181, 177, 175, \n",
    "               154, 174, 171)\n",
    "machine <- gl(3, 1, 30, labels = list(\"exercise bike\", \"treadmill\", \"stair stepper\"))\n",
    "subject <- gl(10, 3, 30, labels = list('1','2','3','4','5','6','7','8','9','10'))\n",
    "\n",
    "heartbeat.df <- data.frame(heartbeat, machine, subject)\n",
    "\n",
    "# Visualization\n",
    "library(gplots)\n",
    "plotmeans(heartbeat ~ interaction(machine, subject), data = heartbeat.df, bars = F,\n",
    "          connect = list(1:3,4:6, 7:9, 10:12, 13:15, 16:18, 19:21, 22:24, 25:27, 28:30))"
   ]
  },
  {
   "cell_type": "markdown",
   "metadata": {},
   "source": [
    "#### b. 이 실험에서 모든 남성이 3개의 운동기구들을 같은 순서가 아닌 확률적 순서대로 이용한 이유에 대해 설명하여라. \n",
    "#### c. 각 남성이 하루에 하나의 운동기구만을 이용해 유산소 운동을 하고, 심장박동수를 측정한 이유에 대해 설명하여라.\n",
    "\n",
    "실험을 통해 검정하고자 하는 요인은 '운동기구'의 종류이다. 따라서 운동기구에 따라 심장박동수에 유의한 차이가 있는지 검정하기 위해선 주요인을 제외한 다른 외부요인에 의한 변동을 최소화해야 한다. 따라서 운동기구의 사용순서, 운동기구의 사용시간과 같은 외부요인의 개입을 최소화하기 위해 확률적 순서대로 하루에 하나씩의 운동기구만을 이용하여 실험을 진행한 것이다. \n"
   ]
  },
  {
   "cell_type": "markdown",
   "metadata": {},
   "source": [
    "#### d. 블록을 고려하지 않을 경우, 유의수준 5%에서 운동기구별로 심장박동수에 차이가 있는지 검정하여라. \n",
    "\n",
    "운동기구별로 심장박동수 간에 차이가 있는지 검정하기 위해선 세 운동기구에 따른 심장박동수의 평균 간에 차이가 있는지 확인해 보면 된다. 따라서 가설은 다음과 같이 설정할 수 있다. \n",
    "> H0: $\\mu_{1}$ = $\\mu_{2}$ = $\\mu_{3}$ <br>\n",
    "> H1: not H0\n",
    "\n",
    "이에 대하여 분산분석을 수행하면 다음과 같다. "
   ]
  },
  {
   "cell_type": "code",
   "execution_count": 31,
   "metadata": {},
   "outputs": [
    {
     "data": {
      "text/plain": [
       "            Df Sum Sq Mean Sq F value Pr(>F)\n",
       "machine      2   1147   573.3   2.213  0.129\n",
       "Residuals   27   6994   259.0               "
      ]
     },
     "metadata": {},
     "output_type": "display_data"
    },
    {
     "data": {
      "text/html": [
       "0.128791248458552"
      ],
      "text/latex": [
       "0.128791248458552"
      ],
      "text/markdown": [
       "0.128791248458552"
      ],
      "text/plain": [
       "[1] 0.1287912"
      ]
     },
     "metadata": {},
     "output_type": "display_data"
    }
   ],
   "source": [
    "# one-way ANOVA\n",
    "summary(aov(heartbeat ~ machine, data = heartbeat.df))\n",
    "\n",
    "## Calculation\n",
    "### Means\n",
    "group.means_1 <- aggregate(heartbeat ~ machine, data = heartbeat.df, mean) # x_i_bar\n",
    "group.means_1 <- as.vector(group.means_1$heartbeat)\n",
    "obs.mean <- mean(heartbeat) # x_bar\n",
    "\n",
    "### Sum of Squares\n",
    "sst.heartbeat <- sum((heartbeat - obs.mean) ** 2)\n",
    "sstr_1 <- 0 \n",
    "for (i in 1:3) {\n",
    "       sstr_1 <-  sum(10 * (group.means_1[i] - obs.mean) ** 2) + sstr_1\n",
    "}\n",
    "\n",
    "\n",
    "sse_1 <- sst.heartbeat - sstr_1\n",
    "\n",
    "### Mean sum of squares\n",
    "### k = 3, n = 30\n",
    "mstr_1 <- sstr_1 / 2\n",
    "mse_1 <- sse_1 / 27\n",
    "\n",
    "### F.value\n",
    "f_value_1 <- mstr_1 / mse_1\n",
    "\n",
    "### P.value\n",
    "(p_value_1 <- pf(f_value_1, 2, 27, lower.tail = F))"
   ]
  },
  {
   "cell_type": "markdown",
   "metadata": {},
   "source": [
    "이때 F통계량값은 2.2133이며 이에 해당하는 자유도가 2, 27인 F분포표의 p값은 0.1288이다. 따라서 유의수준 5%에서 귀무가설은 기각될 수 없다. 즉, 운동기구와 심장박동수 간의 관계에 대한 일원분산분석 결과 운동기구 별로 심장박동수의 차이는 통계적으로 유의하지 않음을 알 수 있다."
   ]
  },
  {
   "cell_type": "markdown",
   "metadata": {},
   "source": [
    "#### e. 유의수준 5%에서 운동기구별로 심장박동수에 차이가 있는지 검정하여라.\n",
    "운동기구별로 심장박동수에 차이가 있는지 검정하기 위한 가설은 다음과 같이 설정할 수 있다. \n",
    "\n",
    "> H0: 운동기구별로 심장박동수에는 유의한 차이가 없다. <br>\n",
    "> H1: not H0\n",
    "\n",
    "확률화블록설계하에서 3개의 처리수준(헬스자전거, 런닝머신, 계단오르기)과 10개의 블록(남성1~남성10, 피실험자)이 있다고 가정하고 유의수준 5%에서 분산분석을 수행하면 다음과 같다. "
   ]
  },
  {
   "cell_type": "code",
   "execution_count": 32,
   "metadata": {},
   "outputs": [
    {
     "data": {
      "text/plain": [
       "            Df Sum Sq Mean Sq F value Pr(>F)  \n",
       "machine      2   1147   573.3   3.833 0.0411 *\n",
       "subject      9   4301   477.9   3.195 0.0172 *\n",
       "Residuals   18   2693   149.6                 \n",
       "---\n",
       "Signif. codes:  0 '***' 0.001 '**' 0.01 '*' 0.05 '.' 0.1 ' ' 1"
      ]
     },
     "metadata": {},
     "output_type": "display_data"
    },
    {
     "data": {
      "text/html": [
       "0.0410526287453145"
      ],
      "text/latex": [
       "0.0410526287453145"
      ],
      "text/markdown": [
       "0.0410526287453145"
      ],
      "text/plain": [
       "[1] 0.04105263"
      ]
     },
     "metadata": {},
     "output_type": "display_data"
    }
   ],
   "source": [
    "# Randomized Block Design\n",
    "summary(aov(heartbeat ~ machine + subject, data = heartbeat.df))\n",
    "\n",
    "## Calculataion\n",
    "### Means \n",
    "machine.means <- as.vector((aggregate(heartbeat ~ machine, data = heartbeat.df, mean))$heartbeat)\n",
    "subject.means <- as.vector((aggregate(heartbeat ~ subject, data = heartbeat.df, mean))$heartbeat)                        \n",
    "### Sum of Squares\n",
    "\n",
    "sstr_2 <- 0\n",
    "for (i in 1:3){\n",
    "   sstr_2 <- 10 * (machine.means[i] - obs.mean) ** 2 + sstr_2\n",
    "}\n",
    "\n",
    "\n",
    "ssb <- 0\n",
    "for (i in 1:10){\n",
    "    ssb <- 3 * (subject.means[i] - obs.mean) ** 2 + ssb\n",
    "}\n",
    "\n",
    "sse_2 <- sst.heartbeat - sum(sstr_2, ssb)\n",
    "\n",
    "### Mean sum of squares\n",
    "### k = 3, b = 10\n",
    "mstr_2 <- sstr_2 / 2\n",
    "msb <- ssb / 9\n",
    "mse_2 <- sse_2 / 18\n",
    "\n",
    "### F.value\n",
    "f_value_2 <- mstr_2 / mse_2\n",
    "\n",
    "### P.value\n",
    "(p_value_2 <- pf(f_value_2, 2, 18, lower.tail = F))"
   ]
  },
  {
   "cell_type": "markdown",
   "metadata": {},
   "source": [
    "분산분석표를 작성하면 다음과 같다.\n",
    "\n",
    "|변동요인|자유도|제곱합|평균제곱합|F통계량|\n",
    "|:--:|:--:|:--:|:--:|:--:|\n",
    "|운동기구|2|1147|573.3|3.833|\n",
    "|블록|9|4301|477.9|3.195|\n",
    "|오차|18|2693|149.6||\n",
    "|총계|29|8140.667|||\n",
    "\n",
    "이때, 블록은 외생변수를 어느 정도 제어하기 위해 만든 것이기 때문에 이에 대한 검정은 하지 않는다. 따라서 블록에 대한 F통계량값은 구하지 않는다. \n",
    "검정 결과 F통계량값은 3.833이며, 이에 해당하는 자유도가 2, 18인 F분포표에서의 p값은 0.0411이다. 따라서 유의수준 5%에서 귀무가설은 기각된다. 즉, 운동기구 별로 심장박동수에는 유의한 차이가 있다. 이는 앞선 일원분산분석의 결과와 상충된다. "
   ]
  },
  {
   "cell_type": "markdown",
   "metadata": {},
   "source": [
    "#### f. 유의수준 5%에서 앞으로의 실험에서 같은 종류의 블록을 정의하는 것이 적절한지를 검정하여라. \n",
    "\n",
    "적절하다. 확률블록화설계를 했을 때와 안 했을 때의 결과가 다르기 때문이다. 이는 확률화블록설계가 완전확률실험에서 고려되지 않은 외생변수, 이 경우 피실험자의 개인적 특성으로 인한 심장박동수의 변동을 블록을 통해 제어함으로써 대립가설이 사실임에도 귀무가설을 기각하지 못하는 오류를 줄여 더 정확한 검정 결과를 도출할 수 있었다. \n"
   ]
  }
 ],
 "metadata": {
  "kernelspec": {
   "display_name": "R",
   "language": "R",
   "name": "ir"
  },
  "language_info": {
   "codemirror_mode": "r",
   "file_extension": ".r",
   "mimetype": "text/x-r-source",
   "name": "R",
   "pygments_lexer": "r",
   "version": "3.6.3"
  }
 },
 "nbformat": 4,
 "nbformat_minor": 4
}
