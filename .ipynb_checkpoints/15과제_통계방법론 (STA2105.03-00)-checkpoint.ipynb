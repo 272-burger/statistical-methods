{
 "cells": [
  {
   "cell_type": "markdown",
   "metadata": {},
   "source": [
    "#### 3. 청량음료에 탄산가스가 주입되는 양이 주위 온도와 압력에 영향을 받는다. 이 관계를 밝히기 위해 15개의 관측값을 얻었다. \n",
    "\n",
    "$n$ = 15, $SST$ = 427.537, $R^2$ = 0.948\n",
    "\n",
    "|변수|회귀계수 <br> 추정량|회귀계수 추정량의 <br> 표준오차|\n",
    "|:-:|:-:|:-:|\n",
    "|절편|-122.617|25.388|\n",
    "|온도|0.670|0.949|\n",
    "|압력|4.872|0.415|\n",
    "\n",
    "#### a. 분산분석표를 작성하고 회귀성검정을 실시하여라.\n",
    "청량음료에 주입되는 탄산가스의 양과 주위 온도, 압력 간의 관계를 선형적으로 설명하는 다중선형모형의 회귀식은 다음과 같다.\n",
    "\n",
    "$$\n",
    "가스 주입량 = \\beta_{0} + \\beta_{1} * 온도 + \\beta_{2} * 압력\n",
    "$$\n",
    "\n",
    "15개의 관측값에 대해 회귀식을 추정하면 다음과 같다.\n",
    "\n",
    "$$\n",
    "가스 주입량 = -122.617 + 0.670 * 온도 + 4.872 * 압력\n",
    "$$\n",
    "\n",
    "이때 추정된 회귀식의 유의성에 대한 검정을 해볼 필요가 있다. F검정은 추정된 모든 회귀계수에 대한 총체적 검정을 수행한다. 따라서 가설은 다음과 같이 설정된다. \n",
    "\n",
    "> H0: $\\beta_{1}$ = $\\beta_{2}$ = 0 <br>\n",
    "> H1: not H0\n",
    "\n",
    "F검정을 위해 주어진 $SST$와 $R^2$을 이용하여 $SSR$, $SSE$ 그리고  F값을 구하면 다음과 같다."
   ]
  },
  {
   "cell_type": "code",
   "execution_count": 3,
   "metadata": {},
   "outputs": [
    {
     "data": {
      "text/html": [
       "405.305"
      ],
      "text/latex": [
       "405.305"
      ],
      "text/markdown": [
       "405.305"
      ],
      "text/plain": [
       "[1] 405.305"
      ]
     },
     "metadata": {},
     "output_type": "display_data"
    },
    {
     "data": {
      "text/html": [
       "22.232"
      ],
      "text/latex": [
       "22.232"
      ],
      "text/markdown": [
       "22.232"
      ],
      "text/plain": [
       "[1] 22.232"
      ]
     },
     "metadata": {},
     "output_type": "display_data"
    },
    {
     "data": {
      "text/html": [
       "109.385"
      ],
      "text/latex": [
       "109.385"
      ],
      "text/markdown": [
       "109.385"
      ],
      "text/plain": [
       "[1] 109.385"
      ]
     },
     "metadata": {},
     "output_type": "display_data"
    }
   ],
   "source": [
    "# F-test\n",
    "SST <- 427.537\n",
    "R_squared <- 0.948\n",
    "\n",
    "round(SSR <- R_squared * SST, 3)\n",
    "round(SSE <- SST - SSR, 3)\n",
    "\n",
    "round(f_value <- (SSR/2) / (SSE/12), 3)"
   ]
  },
  {
   "cell_type": "markdown",
   "metadata": {},
   "source": [
    "따라서 분산분석표는 다음과 같다.\n",
    "\n",
    "|변동요인|SS|자유도|MS|검정통계량|\n",
    "|:-:|:-:|:-:|:-:|:-:|\n",
    "|처리|405.305|2|202.653|F = 109.385|\n",
    "|오차|22.232|12|1.853||\n",
    "|계|427.537|14|||\n",
    "\n",
    "이때 자유도가 (2, 12)인 F분포에서 p값을 구하면 다음과 같다."
   ]
  },
  {
   "cell_type": "code",
   "execution_count": 4,
   "metadata": {
    "scrolled": true
   },
   "outputs": [
    {
     "data": {
      "text/html": [
       "1.97706096639999e-08"
      ],
      "text/latex": [
       "1.97706096639999e-08"
      ],
      "text/markdown": [
       "1.97706096639999e-08"
      ],
      "text/plain": [
       "[1] 1.977061e-08"
      ]
     },
     "metadata": {},
     "output_type": "display_data"
    }
   ],
   "source": [
    "## p_vlaue\n",
    "(p_value <- pf(f_value, 2, 12, lower.tail = F))"
   ]
  },
  {
   "cell_type": "markdown",
   "metadata": {},
   "source": [
    "이때 p값은 매우 작다. 따라서 귀무가설은 기각된다. 즉, 설명변수 '온도'와 '압력' 중 적어도 하나는 '가스주입량'과 유의한 선형적 관계를 가진다고 볼 수 있다."
   ]
  },
  {
   "cell_type": "markdown",
   "metadata": {},
   "source": [
    "#### b. 오차항의 표준편차(회귀 표준오차)를 추정하여라. \n",
    "\n",
    "다중선형회귀모형의 오차항은 다음과 같은 가정사항을 충족한다.\n",
    "$$\n",
    "\\epsilon_{i} \\sim  iid N(o, \\sigma^2)\n",
    "$$\n",
    "\n",
    " \n",
    "1. 등분산성: 모든 오차항( 𝜖𝑖 )들의 평균은 0이고, 분산은  𝜎2 로 동일하다.\n",
    "2. 독립성: 오차항( 𝜖𝑖 )들은 서로 독립이다.\n",
    "3. 정규성: 오차항( 𝜖𝑖 )은 정규분포를 따른다.\n",
    "\n",
    "이때 오차항의 분산$\\sigma^2$은 다음과 같이 오차평균제곱 MSE로 추정된다. "
   ]
  },
  {
   "cell_type": "code",
   "execution_count": 5,
   "metadata": {},
   "outputs": [
    {
     "data": {
      "text/html": [
       "1.36112465752896"
      ],
      "text/latex": [
       "1.36112465752896"
      ],
      "text/markdown": [
       "1.36112465752896"
      ],
      "text/plain": [
       "[1] 1.361125"
      ]
     },
     "metadata": {},
     "output_type": "display_data"
    }
   ],
   "source": [
    "# MSE\n",
    "MSE <- SSE / 12\n",
    "sqrt(MSE)"
   ]
  },
  {
   "cell_type": "markdown",
   "metadata": {},
   "source": [
    "따라서 오차항의 표준편차는 1.361이다."
   ]
  },
  {
   "cell_type": "markdown",
   "metadata": {},
   "source": [
    "#### c. 1% 유의수준에서 유의한 회귀계수는 어떤 것들인가?\n",
    "추정된 회귀계수 각각에 대한 유의성 검정을 위해선 t검정을 수행하여야 한다. t검정을 위한 가설은 다음과 같이 설정된다. \n",
    "> H0: $\\beta_{j}$ = 0 (j = 1, 2) <br>\n",
    "> H1: $\\beta_{j}$ $\\neq$ 0\n",
    "\n",
    "각 계수에 대한 t검정을 수행하면 다음과 같다."
   ]
  },
  {
   "cell_type": "code",
   "execution_count": 6,
   "metadata": {},
   "outputs": [
    {
     "data": {
      "text/html": [
       "0.246831769626228"
      ],
      "text/latex": [
       "0.246831769626228"
      ],
      "text/markdown": [
       "0.246831769626228"
      ],
      "text/plain": [
       "[1] 0.2468318"
      ]
     },
     "metadata": {},
     "output_type": "display_data"
    },
    {
     "data": {
      "text/html": [
       "3.08588275994041e-08"
      ],
      "text/latex": [
       "3.08588275994041e-08"
      ],
      "text/markdown": [
       "3.08588275994041e-08"
      ],
      "text/plain": [
       "[1] 3.085883e-08"
      ]
     },
     "metadata": {},
     "output_type": "display_data"
    }
   ],
   "source": [
    "# t-test\n",
    "## 회귀계수\n",
    "b1 <- 0.670\n",
    "b2 <- 4.872\n",
    "\n",
    "## 회귀계수의 표준오차\n",
    "sb1 <- 0.949\n",
    "sb2 <- 0.415\n",
    "\n",
    "## t_value\n",
    "t_value1 <- b1 / sb1\n",
    "t_value2 <- b2 / sb2\n",
    "\n",
    "## p_value\n",
    "(p_value1 <- pt(t_value1, 12, lower.tail = F))\n",
    "(p_value2 <- pt(t_value2, 12, lower.tail = F))"
   ]
  },
  {
   "cell_type": "markdown",
   "metadata": {},
   "source": [
    "변수 '온도'의 회귀계수에 대한 p값은 0.247이다. 따라서 유의수준 1%에서 귀무가설은 기각되지 않는다. 즉, 온도와 가스주입량 간에는 통계적으로 유의한 선형관계가 있다고 볼 수 있다. \n",
    "반면, 변수 '압력'의 회귀계수에 대한 p값은 매우 작다. 따라서 귀무가설은 기각된다. 즉, 압력과 가스주입량 간에는 통계적으로 유의한 선형관계가 있다고 보기 어렵다. "
   ]
  },
  {
   "cell_type": "markdown",
   "metadata": {},
   "source": [
    "#### 5. 다음과 같은 다중회귀모형을 추정한다고 하자. \n",
    "\n",
    "$$\n",
    "Y = \\beta_{0} + \\beta_{1} X_{1} + \\beta_{2} X_{2} + \\beta_{3} X_{3} + \\epsilon\n",
    "$$\n",
    "\n",
    "표본크기 n=30인 자료를 가지고 위의 회귀모형을 실제로 추정한 결과는 아래와 같았다. \n",
    "\n",
    "$$ \n",
    "\\hat{y} = 3.4 - 4.6 X_{1} + 2.7 X_{2} + 0.93 X_{3}\n",
    "$$\n",
    "\n",
    "그리고 회귀계수추정치들의 표준에러인 SE($\\beta_{2}$)와 SE($\\beta_{3}$)는 각각 1.86, 0.29이었다.\n",
    "#### a.$H_{0}: \\beta_{2} = 0$의 귀무가설과 $H_{a}: \\beta_{2} \\neq 0$ 대립가설에 대한 통계적 가설검정을 수행하여라. (단, 유의수준은 0.05라 가정함)\n"
   ]
  },
  {
   "cell_type": "code",
   "execution_count": 7,
   "metadata": {
    "scrolled": true
   },
   "outputs": [
    {
     "data": {
      "text/html": [
       "1.45161290322581"
      ],
      "text/latex": [
       "1.45161290322581"
      ],
      "text/markdown": [
       "1.45161290322581"
      ],
      "text/plain": [
       "[1] 1.451613"
      ]
     },
     "metadata": {},
     "output_type": "display_data"
    },
    {
     "data": {
      "text/html": [
       "0.0792849313455996"
      ],
      "text/latex": [
       "0.0792849313455996"
      ],
      "text/markdown": [
       "0.0792849313455996"
      ],
      "text/plain": [
       "[1] 0.07928493"
      ]
     },
     "metadata": {},
     "output_type": "display_data"
    }
   ],
   "source": [
    "## beta 2\n",
    "(t_value2 <- 2.7 / 1.86)\n",
    "(p_value2 <- pt(t_value2, 26, lower.tail = F))"
   ]
  },
  {
   "cell_type": "markdown",
   "metadata": {},
   "source": [
    "$\\beta_{2}$에 대한 t검정 수행 결과, t통계량은 1.452, p값은 0.079이다. 따라서 유의수준 5%하에서 귀무가설은 기각될 수 없다. 즉, $\\beta_{2}$는 통계적으로 유의하다고 볼 수 없다."
   ]
  },
  {
   "cell_type": "markdown",
   "metadata": {},
   "source": [
    "#### b. $H_{0}: \\beta_{3} = 0$의 귀무가설과 $H_{a}: \\beta_{3} \\neq 0$ 대립가설에 대한 유의수준 5%의 통계적 가설검정을 해보라."
   ]
  },
  {
   "cell_type": "code",
   "execution_count": 8,
   "metadata": {},
   "outputs": [
    {
     "data": {
      "text/html": [
       "3.20689655172414"
      ],
      "text/latex": [
       "3.20689655172414"
      ],
      "text/markdown": [
       "3.20689655172414"
      ],
      "text/plain": [
       "[1] 3.206897"
      ]
     },
     "metadata": {},
     "output_type": "display_data"
    },
    {
     "data": {
      "text/html": [
       "0.00177083165564957"
      ],
      "text/latex": [
       "0.00177083165564957"
      ],
      "text/markdown": [
       "0.00177083165564957"
      ],
      "text/plain": [
       "[1] 0.001770832"
      ]
     },
     "metadata": {},
     "output_type": "display_data"
    }
   ],
   "source": [
    "## beta 3\n",
    "(t_value3 <- 0.93 / 0.29)\n",
    "(p_value3 <- pt(t_value3, 26, lower.tail = F))"
   ]
  },
  {
   "cell_type": "markdown",
   "metadata": {},
   "source": [
    "$\\beta_{3}$에 대한 t검정 수행 결과, t통계량은 3.207, p값은 0.002다. 따라서 유의수준 5%하에서 귀무가설은 기각된다. 즉, $\\beta_{2}$는 통계적으로 유의하다고 볼 수 있다.\n",
    "\n",
    "#### c. $H_{0}: \\beta_{2} = 0$의 귀무가설은 기각되지 않은 데 반해,  $H_{0}: \\beta_{3} = 0$의 가설이 기각된다. $\\beta_{2}$의 추정치가 $\\beta_{3}$의 추정치보다 큼에도 불구하고, 이런 경우가 발생하는 것에 대하여 설명하여라. \n",
    "\n",
    "$\\beta_{2}$의 표준오차가 $\\beta_{3}$의 표준오차보다 크기 때문에 t통계량은 오히려 더 작아지기 때문이다. "
   ]
  },
  {
   "cell_type": "markdown",
   "metadata": {},
   "source": [
    "#### 11. 미국 12개 해군병원에서 마취에 필요한 매월 인시간(man-hours)(Y)을 수술수(X1), 병원 사용 가능 인구수(X2, 단위 1000명), 수술실수(X3)로 설명하는 관계식을 세우려 한다. 회귀선을 추정하여라. 인시간은 1인 1시간의 단위이다. 예를 들어, 한 사람이 6시간 일하는 것이나, 세 사람이 두 시간 일하는 것이나 인시간으로 나타낼 때는 똑같이 6인시간이 된다. "
   ]
  },
  {
   "cell_type": "code",
   "execution_count": 2,
   "metadata": {},
   "outputs": [
    {
     "data": {
      "text/html": [
       "<table class=\"dataframe\">\n",
       "<caption>A data.frame: 12 × 4</caption>\n",
       "<thead>\n",
       "\t<tr><th scope=col>y</th><th scope=col>x1</th><th scope=col>x2</th><th scope=col>x3</th></tr>\n",
       "\t<tr><th scope=col>&lt;dbl&gt;</th><th scope=col>&lt;dbl&gt;</th><th scope=col>&lt;dbl&gt;</th><th scope=col>&lt;dbl&gt;</th></tr>\n",
       "</thead>\n",
       "<tbody>\n",
       "\t<tr><td> 304.37</td><td> 89</td><td> 25.5</td><td> 4</td></tr>\n",
       "\t<tr><td>2616.32</td><td>513</td><td>294.3</td><td>11</td></tr>\n",
       "\t<tr><td>1139.12</td><td>231</td><td> 83.7</td><td> 4</td></tr>\n",
       "\t<tr><td> 285.43</td><td> 68</td><td> 30.7</td><td> 2</td></tr>\n",
       "\t<tr><td>1413.77</td><td>319</td><td>129.8</td><td> 6</td></tr>\n",
       "\t<tr><td>1555.68</td><td>276</td><td>180.8</td><td> 6</td></tr>\n",
       "\t<tr><td> 383.78</td><td> 82</td><td> 43.4</td><td> 4</td></tr>\n",
       "\t<tr><td>2174.27</td><td>427</td><td>165.2</td><td>10</td></tr>\n",
       "\t<tr><td> 845.30</td><td>193</td><td> 74.3</td><td> 4</td></tr>\n",
       "\t<tr><td>1125.28</td><td>224</td><td> 60.8</td><td> 5</td></tr>\n",
       "\t<tr><td>3462.60</td><td>729</td><td>319.2</td><td>12</td></tr>\n",
       "\t<tr><td>3682.33</td><td>951</td><td>376.2</td><td>12</td></tr>\n",
       "</tbody>\n",
       "</table>\n"
      ],
      "text/latex": [
       "A data.frame: 12 × 4\n",
       "\\begin{tabular}{llll}\n",
       " y & x1 & x2 & x3\\\\\n",
       " <dbl> & <dbl> & <dbl> & <dbl>\\\\\n",
       "\\hline\n",
       "\t  304.37 &  89 &  25.5 &  4\\\\\n",
       "\t 2616.32 & 513 & 294.3 & 11\\\\\n",
       "\t 1139.12 & 231 &  83.7 &  4\\\\\n",
       "\t  285.43 &  68 &  30.7 &  2\\\\\n",
       "\t 1413.77 & 319 & 129.8 &  6\\\\\n",
       "\t 1555.68 & 276 & 180.8 &  6\\\\\n",
       "\t  383.78 &  82 &  43.4 &  4\\\\\n",
       "\t 2174.27 & 427 & 165.2 & 10\\\\\n",
       "\t  845.30 & 193 &  74.3 &  4\\\\\n",
       "\t 1125.28 & 224 &  60.8 &  5\\\\\n",
       "\t 3462.60 & 729 & 319.2 & 12\\\\\n",
       "\t 3682.33 & 951 & 376.2 & 12\\\\\n",
       "\\end{tabular}\n"
      ],
      "text/markdown": [
       "\n",
       "A data.frame: 12 × 4\n",
       "\n",
       "| y &lt;dbl&gt; | x1 &lt;dbl&gt; | x2 &lt;dbl&gt; | x3 &lt;dbl&gt; |\n",
       "|---|---|---|---|\n",
       "|  304.37 |  89 |  25.5 |  4 |\n",
       "| 2616.32 | 513 | 294.3 | 11 |\n",
       "| 1139.12 | 231 |  83.7 |  4 |\n",
       "|  285.43 |  68 |  30.7 |  2 |\n",
       "| 1413.77 | 319 | 129.8 |  6 |\n",
       "| 1555.68 | 276 | 180.8 |  6 |\n",
       "|  383.78 |  82 |  43.4 |  4 |\n",
       "| 2174.27 | 427 | 165.2 | 10 |\n",
       "|  845.30 | 193 |  74.3 |  4 |\n",
       "| 1125.28 | 224 |  60.8 |  5 |\n",
       "| 3462.60 | 729 | 319.2 | 12 |\n",
       "| 3682.33 | 951 | 376.2 | 12 |\n",
       "\n"
      ],
      "text/plain": [
       "   y       x1  x2    x3\n",
       "1   304.37  89  25.5  4\n",
       "2  2616.32 513 294.3 11\n",
       "3  1139.12 231  83.7  4\n",
       "4   285.43  68  30.7  2\n",
       "5  1413.77 319 129.8  6\n",
       "6  1555.68 276 180.8  6\n",
       "7   383.78  82  43.4  4\n",
       "8  2174.27 427 165.2 10\n",
       "9   845.30 193  74.3  4\n",
       "10 1125.28 224  60.8  5\n",
       "11 3462.60 729 319.2 12\n",
       "12 3682.33 951 376.2 12"
      ]
     },
     "metadata": {},
     "output_type": "display_data"
    }
   ],
   "source": [
    "# Assigning data\n",
    "y <- c(304.37, 2616.32, 1139.12, 285.43, \n",
    "               1413.77, 1555.68, 383.78, 2174.27, \n",
    "               845.30, 1125.28, 3462.60, 3682.33)\n",
    "x1 <- c(89, 513, 231, 68,\n",
    "       319, 276, 82, 427, \n",
    "       193, 224, 729, 951)\n",
    "x2 <- c(25.5, 294.3, 83.7, 30.7,\n",
    "        129.8, 180.8, 43.4, 165.2, \n",
    "        74.3, 60.8, 319.2, 376.2)\n",
    "x3 <- c(4, 11, 4, 2,\n",
    "        6, 6, 4, 10,\n",
    "        4, 5, 12, 12)\n",
    "\n",
    "(df_q11 <- data.frame(y, x1, x2, x3))"
   ]
  },
  {
   "cell_type": "markdown",
   "metadata": {},
   "source": [
    "우선 설명변수와 반응변수 간의 선형성을 확인하기 위해 산점도와 상관계수를 구해보면 다음과 같다."
   ]
  },
  {
   "cell_type": "code",
   "execution_count": 3,
   "metadata": {
    "scrolled": false
   },
   "outputs": [
    {
     "data": {
      "image/png": "[encoded data removed]",
      "text/plain": [
       "Plot with title \"Y ~ X1\""
      ]
     },
     "metadata": {
      "image/png": {
       "height": 420,
       "width": 420
      }
     },
     "output_type": "display_data"
    },
    {
     "data": {
      "image/png": "[encoded data removed]",
      "text/plain": [
       "Plot with title \"Y ~ X2\""
      ]
     },
     "metadata": {
      "image/png": {
       "height": 420,
       "width": 420
      }
     },
     "output_type": "display_data"
    },
    {
     "data": {
      "image/png": "[encoded data removed]",
      "text/plain": [
       "Plot with title \"Y ~ X3\""
      ]
     },
     "metadata": {
      "image/png": {
       "height": 420,
       "width": 420
      }
     },
     "output_type": "display_data"
    }
   ],
   "source": [
    "# Scattor plot\n",
    "plot(y ~ x1, main = \"Y ~ X1\")\n",
    "plot(y ~ x2, main = \"Y ~ X2\")\n",
    "plot(y ~ x3, main = \"Y ~ X3\")"
   ]
  },
  {
   "cell_type": "code",
   "execution_count": 4,
   "metadata": {},
   "outputs": [
    {
     "data": {
      "text/html": [
       "<table class=\"dataframe\">\n",
       "<caption>A matrix: 4 × 4 of type dbl</caption>\n",
       "<thead>\n",
       "\t<tr><th></th><th scope=col>y</th><th scope=col>x1</th><th scope=col>x2</th><th scope=col>x3</th></tr>\n",
       "</thead>\n",
       "<tbody>\n",
       "\t<tr><th scope=row>y</th><td>1.0000000</td><td>0.9802365</td><td>0.9749010</td><td>0.9630730</td></tr>\n",
       "\t<tr><th scope=row>x1</th><td>0.9802365</td><td>1.0000000</td><td>0.9602926</td><td>0.9264237</td></tr>\n",
       "\t<tr><th scope=row>x2</th><td>0.9749010</td><td>0.9602926</td><td>1.0000000</td><td>0.9399181</td></tr>\n",
       "\t<tr><th scope=row>x3</th><td>0.9630730</td><td>0.9264237</td><td>0.9399181</td><td>1.0000000</td></tr>\n",
       "</tbody>\n",
       "</table>\n"
      ],
      "text/latex": [
       "A matrix: 4 × 4 of type dbl\n",
       "\\begin{tabular}{r|llll}\n",
       "  & y & x1 & x2 & x3\\\\\n",
       "\\hline\n",
       "\ty & 1.0000000 & 0.9802365 & 0.9749010 & 0.9630730\\\\\n",
       "\tx1 & 0.9802365 & 1.0000000 & 0.9602926 & 0.9264237\\\\\n",
       "\tx2 & 0.9749010 & 0.9602926 & 1.0000000 & 0.9399181\\\\\n",
       "\tx3 & 0.9630730 & 0.9264237 & 0.9399181 & 1.0000000\\\\\n",
       "\\end{tabular}\n"
      ],
      "text/markdown": [
       "\n",
       "A matrix: 4 × 4 of type dbl\n",
       "\n",
       "| <!--/--> | y | x1 | x2 | x3 |\n",
       "|---|---|---|---|---|\n",
       "| y | 1.0000000 | 0.9802365 | 0.9749010 | 0.9630730 |\n",
       "| x1 | 0.9802365 | 1.0000000 | 0.9602926 | 0.9264237 |\n",
       "| x2 | 0.9749010 | 0.9602926 | 1.0000000 | 0.9399181 |\n",
       "| x3 | 0.9630730 | 0.9264237 | 0.9399181 | 1.0000000 |\n",
       "\n"
      ],
      "text/plain": [
       "   y         x1        x2        x3       \n",
       "y  1.0000000 0.9802365 0.9749010 0.9630730\n",
       "x1 0.9802365 1.0000000 0.9602926 0.9264237\n",
       "x2 0.9749010 0.9602926 1.0000000 0.9399181\n",
       "x3 0.9630730 0.9264237 0.9399181 1.0000000"
      ]
     },
     "metadata": {},
     "output_type": "display_data"
    }
   ],
   "source": [
    "# Correlation\n",
    "cor(df_q11)"
   ]
  },
  {
   "cell_type": "markdown",
   "metadata": {},
   "source": [
    "산점도에선 X2(병원 사용 가능 인구수)와 인시간은 선형성을 보이고 있으나, X1(수술수), X3(수수실수)와 인시간 간에는 다소 곡선 경향이 있음을 확인할 수 있다.\n",
    "\n",
    "반면, 상관계수를 구한 결과 X1, X2, X3와 Y 간의 상관계수는 순서대로 0.980, 0.975, 0.963으로, 선형성이 있다고 판단할 수 있다. 따라서 다중선형모형으로 회귀식을 추정할 수 있다.\n",
    "\n",
    "그러나 이와 같이 각각의 단순회귀에서 유의적이라도 다중회귀에서는 설명변수들끼리 높은 상관계수값을 갖게 되면 그들 중 일부 변수가 비유의적으로 되는 경우가 상당히 많다. 설명변수 간의 관계를 파악하기 위해 추가로 산점도행렬을 그려보면 다음과 같다."
   ]
  },
  {
   "cell_type": "code",
   "execution_count": 5,
   "metadata": {},
   "outputs": [
    {
     "data": {
      "image/png": "[encoded data removed]",
      "text/plain": [
       "plot without title"
      ]
     },
     "metadata": {
      "image/png": {
       "height": 420,
       "width": 420
      }
     },
     "output_type": "display_data"
    }
   ],
   "source": [
    "# Scattor plot matrix\n",
    "pairs(df_q11)"
   ]
  },
  {
   "cell_type": "markdown",
   "metadata": {},
   "source": [
    "X1과 X2의 상관계수는 0.960이었고, 산점도를 통해서도 다소 강한 선형성을 보이고 있음을 확인할 수 있다. 더불어, X2와 X3의 상관계수는 0.940이다. 따라서 다중공선성을 의심해 볼 필요가 있다. \n",
    "\n",
    "Y와 X1, X2, X3 간의 선형관계는 다음과 같은 다중선형회귀모형으로 요약될 수 있다.\n",
    "\n",
    "$$\n",
    "Y = \\beta_{0} + \\beta_{1} X_{1} + \\beta_{2} X_{2} + \\beta_{3} X_{3} + \\epsilon\n",
    "$$\n",
    "\n",
    "다중선형회귀모형의 오차항은 다음과 같은 가정사항을 충족한다.\n",
    "$$\n",
    "\\epsilon_{i} \\sim  iid N(0, \\sigma^2)\n",
    "$$\n",
    "\n",
    " \n",
    "1. 등분산성: 모든 오차항( 𝜖𝑖 )들의 평균은 0이고, 분산은  𝜎2 로 동일하다.\n",
    "2. 독립성: 오차항( 𝜖𝑖 )들은 서로 독립이다.\n",
    "3. 정규성: 오차항( 𝜖𝑖 )은 정규분포를 따른다.\n",
    "\n",
    "가정사항을 충족한다는 가정하에서 회귀식을 추정하면 다음과 같다."
   ]
  },
  {
   "cell_type": "code",
   "execution_count": 6,
   "metadata": {},
   "outputs": [
    {
     "data": {
      "text/plain": [
       "\n",
       "Call:\n",
       "lm(formula = y ~ x1 + x2 + x3)\n",
       "\n",
       "Coefficients:\n",
       "(Intercept)           x1           x2           x3  \n",
       "   -114.590        2.032        2.271       99.725  \n"
      ]
     },
     "metadata": {},
     "output_type": "display_data"
    }
   ],
   "source": [
    "# multiple linear model\n",
    "lm_q11 <- lm(y ~ x1 + x2 + x3)\n",
    "lm_q11"
   ]
  },
  {
   "cell_type": "markdown",
   "metadata": {},
   "source": [
    "$$\n",
    "\\hat{y} = -114.590 + 2.032 x_{1} + 2.271 x_{2} + 99.725 x_{3}\n",
    "$$\n",
    "\n",
    "추정된 회귀식의 유의성을 검정하면 다음과 같다."
   ]
  },
  {
   "cell_type": "code",
   "execution_count": 7,
   "metadata": {},
   "outputs": [
    {
     "data": {
      "text/plain": [
       "\n",
       "Call:\n",
       "lm(formula = y ~ x1 + x2 + x3)\n",
       "\n",
       "Residuals:\n",
       "     Min       1Q   Median       3Q      Max \n",
       "-218.669  -98.962   -3.585  112.429  195.408 \n",
       "\n",
       "Coefficients:\n",
       "             Estimate Std. Error t value Pr(>|t|)  \n",
       "(Intercept) -114.5895   130.3392  -0.879   0.4049  \n",
       "x1             2.0315     0.6778   2.997   0.0171 *\n",
       "x2             2.2714     1.6820   1.350   0.2138  \n",
       "x3            99.7254    42.2158   2.362   0.0458 *\n",
       "---\n",
       "Signif. codes:  0 '***' 0.001 '**' 0.01 '*' 0.05 '.' 0.1 ' ' 1\n",
       "\n",
       "Residual standard error: 165.5 on 8 degrees of freedom\n",
       "Multiple R-squared:  0.9855,\tAdjusted R-squared:   0.98 \n",
       "F-statistic:   181 on 3 and 8 DF,  p-value: 1.087e-07\n"
      ]
     },
     "metadata": {},
     "output_type": "display_data"
    }
   ],
   "source": [
    "summary(lm_q11)"
   ]
  },
  {
   "cell_type": "markdown",
   "metadata": {},
   "source": [
    "우선, F통계량은 181이며, 자유도 (3, 8)인 F분포에서의 p값은 매우 작다. 따라서 귀무가설($H_{0}: \\beta_{1} = \\beta_{2} = \\beta_{3} = 0$)은 기각되며, 총체적 검정인 F검정 결과 세 설명변수 수술수(X1), 병원 사용 가능 인구수(X2, 단위 1000명), 수술실수(X3) 중 적어도 하나는 인시간과 유의한 선형적 관계를 가진다고 볼 수 있다.\n",
    "\n",
    "각 회귀계수에 대한 t통계량은 각각 2.997, 1.350, 2.362이며, 자유도가 8인 t분포에서 p값은 각각 0.017, 0.214, 0.046이다. 따라서 유의수준이 5%하에서 X2의 계수에 대한 귀무가설($H_{0}: \\beta_{2} \\neq 0$)만 기각될 수 없다. 즉, 수술수(X1), 수술실수(X3)와 인시간 간에는 통계적으로 유의한 선형관계가 있는 것으로 해석될 수 있는 반면, 병원 사용 가능 인구수(X2, 단위 1000명)와 인시간 간의 관계는 통계적으로 비유의하다고 해석할 수 있다.\n",
    "\n",
    "따라서, 병원 사용 가능 인구수(X2)를 제거하고 회귀식을 다시 추정해 보면 다음과 같다."
   ]
  },
  {
   "cell_type": "code",
   "execution_count": 8,
   "metadata": {},
   "outputs": [
    {
     "data": {
      "text/plain": [
       "\n",
       "Call:\n",
       "lm(formula = y ~ x1 + x3)\n",
       "\n",
       "Coefficients:\n",
       "(Intercept)           x1           x3  \n",
       "   -176.805        2.669      127.015  \n"
      ]
     },
     "metadata": {},
     "output_type": "display_data"
    },
    {
     "data": {
      "text/plain": [
       "\n",
       "Call:\n",
       "lm(formula = y ~ x1 + x3)\n",
       "\n",
       "Residuals:\n",
       "    Min      1Q  Median      3Q     Max \n",
       "-264.44  -85.68   12.80   94.21  233.72 \n",
       "\n",
       "Coefficients:\n",
       "             Estimate Std. Error t value Pr(>|t|)    \n",
       "(Intercept) -176.8046   127.3824  -1.388 0.198538    \n",
       "x1             2.6691     0.5081   5.253 0.000525 ***\n",
       "x3           127.0154    38.7236   3.280 0.009529 ** \n",
       "---\n",
       "Signif. codes:  0 '***' 0.001 '**' 0.01 '*' 0.05 '.' 0.1 ' ' 1\n",
       "\n",
       "Residual standard error: 172.9 on 9 degrees of freedom\n",
       "Multiple R-squared:  0.9822,\tAdjusted R-squared:  0.9782 \n",
       "F-statistic: 247.9 on 2 and 9 DF,  p-value: 1.348e-08\n"
      ]
     },
     "metadata": {},
     "output_type": "display_data"
    }
   ],
   "source": [
    "## X2 eliminated\n",
    "lm_q11.2 <- lm(y ~ x1 + x3)\n",
    "lm_q11.2\n",
    "\n",
    "summary(lm_q11.2)"
   ]
  },
  {
   "cell_type": "markdown",
   "metadata": {},
   "source": [
    "$$\n",
    "\\hat{y} = -176.805 + 2.669 x_{1} + 127.015 x_{3}\n",
    "$$\n",
    "\n",
    "F검정 결과 p값은 매우 작다. 따라서, 추정된 회귀식은 통계적으로 유의하다. 더불어 각 회귀계수에 대한 t검정 결과 p값은 각각 0.001, 0.010으로, 마찬가지로 통계적으로 유의함을 확인할 수 있다. \n",
    "\n",
    "더불어, 가정한 회귀모형이 오차에 대한 가정사항을 잘 만족하고 있는지 확인하기 위해 잔차그림을 그려보면 다음과 같다."
   ]
  },
  {
   "cell_type": "code",
   "execution_count": 12,
   "metadata": {},
   "outputs": [
    {
     "data": {
      "image/png": "[encoded data removed]",
      "text/plain": [
       "Plot with title \"잔차그림\""
      ]
     },
     "metadata": {
      "image/png": {
       "height": 420,
       "width": 420
      }
     },
     "output_type": "display_data"
    },
    {
     "data": {
      "image/png": "[encoded data removed]",
      "text/plain": [
       "Plot with title \"잔차그림\""
      ]
     },
     "metadata": {
      "image/png": {
       "height": 420,
       "width": 420
      }
     },
     "output_type": "display_data"
    },
    {
     "data": {
      "image/png": "[encoded data removed]",
      "text/plain": [
       "Plot with title \"잔차그림\""
      ]
     },
     "metadata": {
      "image/png": {
       "height": 420,
       "width": 420
      }
     },
     "output_type": "display_data"
    }
   ],
   "source": [
    "# residual plot\n",
    "plot(lm_q11.2$fitted.values, lm_q11.2$residuals, xlab = \"인시간 - hat\", ylab = \"잔차\", main = \"잔차그림\")\n",
    "abline(0,0)\n",
    "\n",
    "plot(x1, lm_q11.2$residuals, xlab=\"수술수\", ylab=\"잔차\", main=\"잔차그림\")\n",
    "abline(0,0)\n",
    "\n",
    "plot(x3, lm_q11.2$residuals, xlab=\"수술실수\", ylab=\"잔차\", main=\"잔차그림\")\n",
    "abline(0,0)"
   ]
  },
  {
   "cell_type": "markdown",
   "metadata": {},
   "source": [
    " 추정된 인시간과 각 설명변수에 대한 잔차그림을 그려본 결과, 잔차들이 곡선 경향을 보이며 분포하고 있는 것으로 보인다. 그러나 자료의 수가 적어 뚜렷한 패턴을 단정적으로 말하기는 어렵다. "
   ]
  },
  {
   "cell_type": "markdown",
   "metadata": {},
   "source": [
    "#### 12. 다음은 어느 지역 주택들의 난방비용 추정을 위하여 조사된 자료이다."
   ]
  },
  {
   "cell_type": "code",
   "execution_count": 13,
   "metadata": {},
   "outputs": [
    {
     "data": {
      "text/html": [
       "<table class=\"dataframe\">\n",
       "<caption>A data.frame: 20 × 5</caption>\n",
       "<thead>\n",
       "\t<tr><th scope=col>난방비($)</th><th scope=col>외부 최저기온</th><th scope=col>단열재 두께</th><th scope=col>창문수</th><th scope=col>굴뚝사용년수</th></tr>\n",
       "\t<tr><th scope=col>&lt;dbl&gt;</th><th scope=col>&lt;dbl&gt;</th><th scope=col>&lt;dbl&gt;</th><th scope=col>&lt;dbl&gt;</th><th scope=col>&lt;dbl&gt;</th></tr>\n",
       "</thead>\n",
       "<tbody>\n",
       "\t<tr><td>250</td><td>35</td><td> 3</td><td>10</td><td> 6</td></tr>\n",
       "\t<tr><td>380</td><td>29</td><td> 4</td><td> 1</td><td>10</td></tr>\n",
       "\t<tr><td>165</td><td>36</td><td> 7</td><td> 9</td><td> 3</td></tr>\n",
       "\t<tr><td> 43</td><td>60</td><td> 6</td><td> 8</td><td> 9</td></tr>\n",
       "\t<tr><td> 92</td><td>65</td><td> 5</td><td> 8</td><td> 6</td></tr>\n",
       "\t<tr><td>200</td><td>30</td><td> 5</td><td> 9</td><td> 5</td></tr>\n",
       "\t<tr><td>355</td><td>10</td><td> 6</td><td>14</td><td> 7</td></tr>\n",
       "\t<tr><td>290</td><td> 7</td><td>10</td><td> 9</td><td>10</td></tr>\n",
       "\t<tr><td>230</td><td>21</td><td> 9</td><td>11</td><td>11</td></tr>\n",
       "\t<tr><td>120</td><td>55</td><td> 2</td><td> 9</td><td> 5</td></tr>\n",
       "\t<tr><td> 73</td><td>54</td><td>12</td><td>11</td><td> 4</td></tr>\n",
       "\t<tr><td>205</td><td>48</td><td> 5</td><td>10</td><td> 1</td></tr>\n",
       "\t<tr><td>400</td><td>20</td><td> 5</td><td>12</td><td>15</td></tr>\n",
       "\t<tr><td>320</td><td>39</td><td> 4</td><td>10</td><td> 7</td></tr>\n",
       "\t<tr><td> 72</td><td>60</td><td> 8</td><td> 8</td><td> 6</td></tr>\n",
       "\t<tr><td>272</td><td>20</td><td> 5</td><td>10</td><td> 8</td></tr>\n",
       "\t<tr><td> 94</td><td>58</td><td> 7</td><td>10</td><td> 3</td></tr>\n",
       "\t<tr><td>190</td><td>40</td><td> 8</td><td>11</td><td>11</td></tr>\n",
       "\t<tr><td>235</td><td>27</td><td> 9</td><td>14</td><td> 8</td></tr>\n",
       "\t<tr><td>139</td><td>30</td><td> 7</td><td> 9</td><td> 5</td></tr>\n",
       "</tbody>\n",
       "</table>\n"
      ],
      "text/latex": [
       "A data.frame: 20 × 5\n",
       "\\begin{tabular}{lllll}\n",
       " 난방비(\\$) & 외부 최저기온 & 단열재 두께 & 창문수 & 굴뚝사용년수\\\\\n",
       " <dbl> & <dbl> & <dbl> & <dbl> & <dbl>\\\\\n",
       "\\hline\n",
       "\t 250 & 35 &  3 & 10 &  6\\\\\n",
       "\t 380 & 29 &  4 &  1 & 10\\\\\n",
       "\t 165 & 36 &  7 &  9 &  3\\\\\n",
       "\t  43 & 60 &  6 &  8 &  9\\\\\n",
       "\t  92 & 65 &  5 &  8 &  6\\\\\n",
       "\t 200 & 30 &  5 &  9 &  5\\\\\n",
       "\t 355 & 10 &  6 & 14 &  7\\\\\n",
       "\t 290 &  7 & 10 &  9 & 10\\\\\n",
       "\t 230 & 21 &  9 & 11 & 11\\\\\n",
       "\t 120 & 55 &  2 &  9 &  5\\\\\n",
       "\t  73 & 54 & 12 & 11 &  4\\\\\n",
       "\t 205 & 48 &  5 & 10 &  1\\\\\n",
       "\t 400 & 20 &  5 & 12 & 15\\\\\n",
       "\t 320 & 39 &  4 & 10 &  7\\\\\n",
       "\t  72 & 60 &  8 &  8 &  6\\\\\n",
       "\t 272 & 20 &  5 & 10 &  8\\\\\n",
       "\t  94 & 58 &  7 & 10 &  3\\\\\n",
       "\t 190 & 40 &  8 & 11 & 11\\\\\n",
       "\t 235 & 27 &  9 & 14 &  8\\\\\n",
       "\t 139 & 30 &  7 &  9 &  5\\\\\n",
       "\\end{tabular}\n"
      ],
      "text/markdown": [
       "\n",
       "A data.frame: 20 × 5\n",
       "\n",
       "| 난방비($) &lt;dbl&gt; | 외부 최저기온 &lt;dbl&gt; | 단열재 두께 &lt;dbl&gt; | 창문수 &lt;dbl&gt; | 굴뚝사용년수 &lt;dbl&gt; |\n",
       "|---|---|---|---|---|\n",
       "| 250 | 35 |  3 | 10 |  6 |\n",
       "| 380 | 29 |  4 |  1 | 10 |\n",
       "| 165 | 36 |  7 |  9 |  3 |\n",
       "|  43 | 60 |  6 |  8 |  9 |\n",
       "|  92 | 65 |  5 |  8 |  6 |\n",
       "| 200 | 30 |  5 |  9 |  5 |\n",
       "| 355 | 10 |  6 | 14 |  7 |\n",
       "| 290 |  7 | 10 |  9 | 10 |\n",
       "| 230 | 21 |  9 | 11 | 11 |\n",
       "| 120 | 55 |  2 |  9 |  5 |\n",
       "|  73 | 54 | 12 | 11 |  4 |\n",
       "| 205 | 48 |  5 | 10 |  1 |\n",
       "| 400 | 20 |  5 | 12 | 15 |\n",
       "| 320 | 39 |  4 | 10 |  7 |\n",
       "|  72 | 60 |  8 |  8 |  6 |\n",
       "| 272 | 20 |  5 | 10 |  8 |\n",
       "|  94 | 58 |  7 | 10 |  3 |\n",
       "| 190 | 40 |  8 | 11 | 11 |\n",
       "| 235 | 27 |  9 | 14 |  8 |\n",
       "| 139 | 30 |  7 |  9 |  5 |\n",
       "\n"
      ],
      "text/plain": [
       "   난방비($) 외부 최저기온 단열재 두께 창문수 굴뚝사용년수\n",
       "1  250       35             3          10      6          \n",
       "2  380       29             4           1     10          \n",
       "3  165       36             7           9      3          \n",
       "4   43       60             6           8      9          \n",
       "5   92       65             5           8      6          \n",
       "6  200       30             5           9      5          \n",
       "7  355       10             6          14      7          \n",
       "8  290        7            10           9     10          \n",
       "9  230       21             9          11     11          \n",
       "10 120       55             2           9      5          \n",
       "11  73       54            12          11      4          \n",
       "12 205       48             5          10      1          \n",
       "13 400       20             5          12     15          \n",
       "14 320       39             4          10      7          \n",
       "15  72       60             8           8      6          \n",
       "16 272       20             5          10      8          \n",
       "17  94       58             7          10      3          \n",
       "18 190       40             8          11     11          \n",
       "19 235       27             9          14      8          \n",
       "20 139       30             7           9      5          "
      ]
     },
     "metadata": {},
     "output_type": "display_data"
    }
   ],
   "source": [
    "# Assigning data\n",
    "cost <- c(250, 380, 165, 43, 92, 200,\n",
    "          355, 290, 230, 120, 73, 205, \n",
    "          400, 320, 72, 272, 94, 190, 235, 139)\n",
    "temp <- c(35, 29, 36, 60, 65, 30, \n",
    "          10, 7, 21, 55, 54, 48,\n",
    "          20, 39, 60, 20, 58, 40, 27, 30)\n",
    "thick <- c(3, 4, 7, 6, 5, 5, \n",
    "           6, 10, 9, 2, 12, 5,\n",
    "           5, 4, 8, 5, 7, 8, 9, 7)\n",
    "window <- c(10, 1, 9, 8, 8, 9, 14, 9, 11, \n",
    "            9, 11, 10, 12, 10, 8, 10, 10, 11, 14, 9)\n",
    "chimney <- c(6, 10, 3, 9, 6, 5, 7, 10, \n",
    "             11, 5, 4, 1, 15, 7, 6, 8, 3, 11, 8, 5)\n",
    "\n",
    "df_q12 <- data.frame(cost, temp, thick, window, chimney)\n",
    "colnames(df_q12) <- c(\"난방비($)\", \"외부 최저기온\", \"단열재 두께\",\n",
    "                      \"창문수\", \"굴뚝사용년수\")\n",
    "df_q12"
   ]
  },
  {
   "cell_type": "markdown",
   "metadata": {},
   "source": [
    "#### a. 설명변수 외부 최저기온, 단열재 두께, 창문수, 굴뚝사용년수 자료와 피설명변수 난방비 간의 관계를 보여 줄 수 있는 그림을 그려보고, 간단히 특징을 묘사하여라.\n",
    "각 설명변수와 반응변수 간의 관계를 산점도로 나타내면 다음과 같다."
   ]
  },
  {
   "cell_type": "code",
   "execution_count": 14,
   "metadata": {},
   "outputs": [
    {
     "data": {
      "image/png": "[encoded data removed]",
      "text/plain": [
       "plot without title"
      ]
     },
     "metadata": {
      "image/png": {
       "height": 420,
       "width": 420
      }
     },
     "output_type": "display_data"
    }
   ],
   "source": [
    "# Scatter plot\n",
    "par(mfrow=c(2,2))\n",
    "plot(cost ~ temp)\n",
    "plot(cost ~ thick)\n",
    "plot(cost ~ window)\n",
    "plot(cost ~ chimney)"
   ]
  },
  {
   "cell_type": "markdown",
   "metadata": {},
   "source": [
    "산점도를 통해 외부 최저기온과 난방비, 단열재 두께와 난방비 간에는 음의 관계가, 굴뚝 사용년수와 난방비 간에는 양의 관계가 있음을 확인할 수 있다. 그러나 산점도에선 각 설명변수와 반응변수 간의 뚜렷한 선형적 관계를 확인하기 어렵다. 더불어, 창문수와 난방비 간에는 선형관계가 존재한다고 보기 어렵다.\n",
    "\n",
    "#### b. 4개의 설명변수들 사이의 상관계수행렬을 구하여라."
   ]
  },
  {
   "cell_type": "code",
   "execution_count": 15,
   "metadata": {},
   "outputs": [
    {
     "data": {
      "text/html": [
       "<table class=\"dataframe\">\n",
       "<caption>A matrix: 5 × 5 of type dbl</caption>\n",
       "<thead>\n",
       "\t<tr><th></th><th scope=col>난방비($)</th><th scope=col>외부 최저기온</th><th scope=col>단열재 두께</th><th scope=col>창문수</th><th scope=col>굴뚝사용년수</th></tr>\n",
       "</thead>\n",
       "<tbody>\n",
       "\t<tr><th scope=row>난방비($)</th><td> 1.00000000</td><td>-0.8038836</td><td>-0.2625167</td><td> 0.06417549</td><td> 0.53742933</td></tr>\n",
       "\t<tr><th scope=row>외부 최저기온</th><td>-0.80388361</td><td> 1.0000000</td><td>-0.1030161</td><td>-0.25628085</td><td>-0.48598770</td></tr>\n",
       "\t<tr><th scope=row>단열재 두께</th><td>-0.26251674</td><td>-0.1030161</td><td> 1.0000000</td><td> 0.30704240</td><td> 0.06361740</td></tr>\n",
       "\t<tr><th scope=row>창문수</th><td> 0.06417549</td><td>-0.2562809</td><td> 0.3070424</td><td> 1.00000000</td><td> 0.02960467</td></tr>\n",
       "\t<tr><th scope=row>굴뚝사용년수</th><td> 0.53742933</td><td>-0.4859877</td><td> 0.0636174</td><td> 0.02960467</td><td> 1.00000000</td></tr>\n",
       "</tbody>\n",
       "</table>\n"
      ],
      "text/latex": [
       "A matrix: 5 × 5 of type dbl\n",
       "\\begin{tabular}{r|lllll}\n",
       "  & 난방비(\\$) & 외부 최저기온 & 단열재 두께 & 창문수 & 굴뚝사용년수\\\\\n",
       "\\hline\n",
       "\t난방비(\\$) &  1.00000000 & -0.8038836 & -0.2625167 &  0.06417549 &  0.53742933\\\\\n",
       "\t외부 최저기온 & -0.80388361 &  1.0000000 & -0.1030161 & -0.25628085 & -0.48598770\\\\\n",
       "\t단열재 두께 & -0.26251674 & -0.1030161 &  1.0000000 &  0.30704240 &  0.06361740\\\\\n",
       "\t창문수 &  0.06417549 & -0.2562809 &  0.3070424 &  1.00000000 &  0.02960467\\\\\n",
       "\t굴뚝사용년수 &  0.53742933 & -0.4859877 &  0.0636174 &  0.02960467 &  1.00000000\\\\\n",
       "\\end{tabular}\n"
      ],
      "text/markdown": [
       "\n",
       "A matrix: 5 × 5 of type dbl\n",
       "\n",
       "| <!--/--> | 난방비($) | 외부 최저기온 | 단열재 두께 | 창문수 | 굴뚝사용년수 |\n",
       "|---|---|---|---|---|---|\n",
       "| 난방비($) |  1.00000000 | -0.8038836 | -0.2625167 |  0.06417549 |  0.53742933 |\n",
       "| 외부 최저기온 | -0.80388361 |  1.0000000 | -0.1030161 | -0.25628085 | -0.48598770 |\n",
       "| 단열재 두께 | -0.26251674 | -0.1030161 |  1.0000000 |  0.30704240 |  0.06361740 |\n",
       "| 창문수 |  0.06417549 | -0.2562809 |  0.3070424 |  1.00000000 |  0.02960467 |\n",
       "| 굴뚝사용년수 |  0.53742933 | -0.4859877 |  0.0636174 |  0.02960467 |  1.00000000 |\n",
       "\n"
      ],
      "text/plain": [
       "              난방비($)   외부 최저기온 단열재 두께 창문수      굴뚝사용년수\n",
       "난방비($)      1.00000000 -0.8038836    -0.2625167   0.06417549  0.53742933 \n",
       "외부 최저기온 -0.80388361  1.0000000    -0.1030161  -0.25628085 -0.48598770 \n",
       "단열재 두께   -0.26251674 -0.1030161     1.0000000   0.30704240  0.06361740 \n",
       "창문수         0.06417549 -0.2562809     0.3070424   1.00000000  0.02960467 \n",
       "굴뚝사용년수   0.53742933 -0.4859877     0.0636174   0.02960467  1.00000000 "
      ]
     },
     "metadata": {},
     "output_type": "display_data"
    }
   ],
   "source": [
    "# correlation\n",
    "cor(df_q12)"
   ]
  },
  {
   "cell_type": "markdown",
   "metadata": {},
   "source": [
    "#### c. 위 4개의 설명변수를 가지고 난방비를 추정하려는 다중회귀모형식의 이론적 형태를 써보라.\n",
    "$$\n",
    "난방비 = \\beta_{0} + \\beta_{1} 외부 최저기온 + \\beta_{2} 단열재 두께 + \\beta_{3} 창문수 + \\beta_{4} 굴뚝사용년수 + \\epsilon\n",
    "$$"
   ]
  },
  {
   "cell_type": "markdown",
   "metadata": {},
   "source": [
    "#### d. 위 c에서 설정한 다중회귀모형을 주어진 자료를 가지고 추정하여라.\n",
    "\n",
    "다중선형회귀모형의 오차항은 다음과 같은 가정사항을 충족한다.\n",
    "$$\n",
    "\\epsilon_{i} \\sim  iid N(o, \\sigma^2)\n",
    "$$\n",
    "\n",
    " \n",
    "1. 등분산성: 모든 오차항( 𝜖𝑖 )들의 평균은 0이고, 분산은  𝜎2 로 동일하다.\n",
    "2. 독립성: 오차항( 𝜖𝑖 )들은 서로 독립이다.\n",
    "3. 정규성: 오차항( 𝜖𝑖 )은 정규분포를 따른다.\n",
    "\n",
    "가정사항을 충족한다는 가정하에서 회귀식을 추정하면 다음과 같다."
   ]
  },
  {
   "cell_type": "code",
   "execution_count": 16,
   "metadata": {},
   "outputs": [
    {
     "data": {
      "text/plain": [
       "\n",
       "Call:\n",
       "lm(formula = cost ~ temp + thick + window + chimney)\n",
       "\n",
       "Coefficients:\n",
       "(Intercept)         temp        thick       window      chimney  \n",
       "    441.031       -4.643      -14.907       -1.165        6.263  \n"
      ]
     },
     "metadata": {},
     "output_type": "display_data"
    }
   ],
   "source": [
    "# multiple linear model\n",
    "lm_q12 <- lm(cost ~ temp + thick + window + chimney)\n",
    "lm_q12"
   ]
  },
  {
   "cell_type": "markdown",
   "metadata": {},
   "source": [
    "난방비를 y, 각 설명변수를 순서대로 $x_{1}$, $x_{2}$, $x_{3}$, $x_{4}$라고 하면 추정된 회귀식은 다음과 같이 쓸 수 있다.\n",
    "\n",
    "$$\n",
    "\\hat{y} = 441.031 - 4.643 x_{1} - 14.907 x_{2} - 1.165 x_{3} + 6.263 x_{4}\n",
    "$$"
   ]
  },
  {
   "cell_type": "markdown",
   "metadata": {},
   "source": [
    "#### e. 난방비 추정을 위한 회귀분석모형에 바탕을 둔 분산분석표를 작성하여라.\n",
    "\n",
    "|변동요인|SS|자유도|MS|검정통계량|\n",
    "|:-:|:-:|:-:|:-:|:-:|\n",
    "|처리|175042.4|4|43760.59|F = 14.77|\n",
    "|오차|44443.38|15|2962.892||\n",
    "|계|219485.8|19|||"
   ]
  },
  {
   "cell_type": "code",
   "execution_count": 17,
   "metadata": {},
   "outputs": [
    {
     "data": {
      "text/html": [
       "44443.3830511834"
      ],
      "text/latex": [
       "44443.3830511834"
      ],
      "text/markdown": [
       "44443.3830511834"
      ],
      "text/plain": [
       "[1] 44443.38"
      ]
     },
     "metadata": {},
     "output_type": "display_data"
    },
    {
     "data": {
      "text/html": [
       "175042.366948817"
      ],
      "text/latex": [
       "175042.366948817"
      ],
      "text/markdown": [
       "175042.366948817"
      ],
      "text/plain": [
       "[1] 175042.4"
      ]
     },
     "metadata": {},
     "output_type": "display_data"
    },
    {
     "data": {
      "text/html": [
       "14.7695524281333"
      ],
      "text/latex": [
       "14.7695524281333"
      ],
      "text/markdown": [
       "14.7695524281333"
      ],
      "text/plain": [
       "[1] 14.76955"
      ]
     },
     "metadata": {},
     "output_type": "display_data"
    }
   ],
   "source": [
    "# F-test\n",
    "cost_hat <- lm_q12$fitted.values\n",
    "cost_mean <- mean(cost)\n",
    "\n",
    "(SSE <- sum((cost - cost_hat) ** 2))\n",
    "(SSR <- sum((cost_hat - cost_mean) **2))\n",
    "\n",
    "(f_value <- (SSR/4)/(SSE/15))"
   ]
  },
  {
   "cell_type": "markdown",
   "metadata": {},
   "source": [
    "#### f. $H_{0}: \\beta_{1}=\\beta_{2}=\\beta_{3}=\\beta_{4}=0$의 귀무가설과 $H_{a}$: 모든 회귀계수가 0이 아니다 라는 대립가설에 대한 통계적 검정을 수행하여라.\n",
    "회귀식의 모든 회귀계수에 대한 총체적 유의성 검정은 F검정으로 수행한다. F값은 14.77이며, 이때 p값은 매우 작다. 따라서 귀무가설은 기각되며, 네 설명변수 외부최저기온(X1), 단열재 두께(X2), 창문수(X3), 굴뚝사용년수(X4) 중 적어도 하나는 난방비와 유의한 선형적 관계를 가진다고 볼 수 있다.\n"
   ]
  },
  {
   "cell_type": "code",
   "execution_count": 18,
   "metadata": {},
   "outputs": [
    {
     "data": {
      "text/html": [
       "4.3847448142399e-05"
      ],
      "text/latex": [
       "4.3847448142399e-05"
      ],
      "text/markdown": [
       "4.3847448142399e-05"
      ],
      "text/plain": [
       "[1] 4.384745e-05"
      ]
     },
     "metadata": {},
     "output_type": "display_data"
    }
   ],
   "source": [
    "# p_vlaue\n",
    "(pf(f_value, 4, 15, lower.tail = F))"
   ]
  },
  {
   "cell_type": "markdown",
   "metadata": {},
   "source": [
    "#### g. 4개의 설명변수의 회귀계수들이 0과 유의적으로 다른지의 여부($H_{0}: \\beta_{i} = 0, i = 1, 2, 3, 4$)에 대한 개별적인 통계적 검정을 수행하여라."
   ]
  },
  {
   "cell_type": "code",
   "execution_count": 19,
   "metadata": {},
   "outputs": [
    {
     "data": {
      "text/plain": [
       "\n",
       "Call:\n",
       "lm(formula = cost ~ temp + thick + window + chimney)\n",
       "\n",
       "Residuals:\n",
       "    Min      1Q  Median      3Q     Max \n",
       "-79.221 -36.600  -1.548  28.339  87.483 \n",
       "\n",
       "Coefficients:\n",
       "            Estimate Std. Error t value Pr(>|t|)    \n",
       "(Intercept) 441.0307    81.8043   5.391 7.49e-05 ***\n",
       "temp         -4.6428     0.8541  -5.436 6.89e-05 ***\n",
       "thick       -14.9071     5.3066  -2.809   0.0132 *  \n",
       "window       -1.1654     5.1142  -0.228   0.8228    \n",
       "chimney       6.2627     4.3104   1.453   0.1668    \n",
       "---\n",
       "Signif. codes:  0 '***' 0.001 '**' 0.01 '*' 0.05 '.' 0.1 ' ' 1\n",
       "\n",
       "Residual standard error: 54.43 on 15 degrees of freedom\n",
       "Multiple R-squared:  0.7975,\tAdjusted R-squared:  0.7435 \n",
       "F-statistic: 14.77 on 4 and 15 DF,  p-value: 4.385e-05\n"
      ]
     },
     "metadata": {},
     "output_type": "display_data"
    }
   ],
   "source": [
    "# t-test\n",
    "summary(lm_q12)"
   ]
  },
  {
   "cell_type": "markdown",
   "metadata": {},
   "source": [
    "각 회귀계수에 대한 t통계량은 각각 -5.436, -2.809, -0.228, 1.453이며, 자유도가 15인 t분포에서 p값은 각각 0.000, 0.0132, 0.8228, 0.1668이다. 따라서 유의수준이 5%라면 X3과 X4의 계수에 대한 귀무가설은 기각될 수 없다. 즉, 외부최저기온(X1), 단열재 두께(X2)와 난방비 간에는 통계적으로 유의한 선형관계가 있는 것으로 해석될 수 있는 반면, 창문수(X3)와 굴뚝사용년수(X4)와 난방비 간의 관계는 통계적으로 유의하지 않다고 볼 수 있다."
   ]
  },
  {
   "cell_type": "markdown",
   "metadata": {},
   "source": [
    "#### h. 위 g에서 수행한 검정결과를 바탕으로 최종 회귀분석모형을 식별하여라.\n",
    "통계적으로 유의하지 않은 창문수(X3)와 굴뚝사용년수(X4)를 제거한 후의 회귀분석모형은 다음과 같다.\n",
    "$$\n",
    "난방비 = \\beta_{0} + \\beta_{1} 외부 최저기온 + \\beta_{2} 단열재 두께 + \\epsilon\n",
    "$$\n",
    "\n",
    "회귀식을 추정하면 다음과 같다."
   ]
  },
  {
   "cell_type": "code",
   "execution_count": 20,
   "metadata": {},
   "outputs": [
    {
     "data": {
      "text/plain": [
       "\n",
       "Call:\n",
       "lm(formula = cost ~ temp + thick)\n",
       "\n",
       "Coefficients:\n",
       "(Intercept)         temp        thick  \n",
       "    495.299       -5.185      -15.147  \n"
      ]
     },
     "metadata": {},
     "output_type": "display_data"
    }
   ],
   "source": [
    "# eliminated x3, x4\n",
    "lm_q12.2 <- lm(cost ~ temp + thick)\n",
    "lm_q12.2"
   ]
  },
  {
   "cell_type": "markdown",
   "metadata": {},
   "source": [
    "$$\n",
    "난방비 = 495.299 -5.185 외부 최저기온 -15.147 단열재 두께 \n",
    "$$\n",
    "\n",
    "가정한 회귀모형이 오차에 대한 가정사항을 잘 만족하고 있는지 확인하기 위해 잔차그림을 그려보면 다음과 같다."
   ]
  },
  {
   "cell_type": "code",
   "execution_count": 21,
   "metadata": {},
   "outputs": [
    {
     "data": {
      "image/png": "[encoded data removed]",
      "text/plain": [
       "Plot with title \"잔차그림\""
      ]
     },
     "metadata": {
      "image/png": {
       "height": 420,
       "width": 420
      }
     },
     "output_type": "display_data"
    },
    {
     "data": {
      "image/png": "[encoded data removed]",
      "text/plain": [
       "Plot with title \"잔차그림\""
      ]
     },
     "metadata": {
      "image/png": {
       "height": 420,
       "width": 420
      }
     },
     "output_type": "display_data"
    },
    {
     "data": {
      "image/png": "[encoded data removed]",
      "text/plain": [
       "Plot with title \"잔차그림\""
      ]
     },
     "metadata": {
      "image/png": {
       "height": 420,
       "width": 420
      }
     },
     "output_type": "display_data"
    }
   ],
   "source": [
    "# residual plot\n",
    "plot(lm_q12.2$fitted.values, lm_q12.2$residuals, xlab = \"난방비 - hat\", ylab = \"잔차\", main = \"잔차그림\")\n",
    "abline(0,0)\n",
    "\n",
    "plot(temp, lm_q12.2$residuals, xlab=\"외부최저기온\", ylab=\"잔차\", main=\"잔차그림\")\n",
    "abline(0,0)\n",
    "\n",
    "plot(thick, lm_q12.2$residuals, xlab=\"단열재두께\", ylab=\"잔차\", main=\"잔차그림\")\n",
    "abline(0,0)"
   ]
  },
  {
   "cell_type": "markdown",
   "metadata": {},
   "source": [
    "전반적으로 잔차가 띠 형태로 분포한다고 확정짓긴 어려우나, 자료의 수가 적어 패턴을 단정하기는 어렵다."
   ]
  }
 ],
 "metadata": {
  "kernelspec": {
   "display_name": "R",
   "language": "R",
   "name": "ir"
  },
  "language_info": {
   "codemirror_mode": "r",
   "file_extension": ".r",
   "mimetype": "text/x-r-source",
   "name": "R",
   "pygments_lexer": "r",
   "version": "3.6.3"
  }
 },
 "nbformat": 4,
 "nbformat_minor": 4
}
