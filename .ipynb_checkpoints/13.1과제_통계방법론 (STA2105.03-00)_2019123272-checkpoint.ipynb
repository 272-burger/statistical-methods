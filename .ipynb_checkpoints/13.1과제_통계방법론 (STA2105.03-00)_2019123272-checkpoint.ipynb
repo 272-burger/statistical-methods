{
 "cells": [
  {
   "cell_type": "markdown",
   "metadata": {},
   "source": [
    "#### 5. 비교하고자 하는 그룹이 4개인 일원분산분석에서 각 그룹당 8개의 관찰값을 구하였다. \n",
    "<br/>\n",
    "\n",
    "ANOVA는 독립성, 정규성, 등분산성 세 가지의 기본 가정사항이 성립할 때 유효하다. 가정이 성립한다면 4개 그룹 간 비교를 위한 가설은 다음과 같이 설정할 수 있다. \n",
    "\n",
    "> H0: $\\mu_{1}$ = $\\mu_{2}$ = $\\mu_{3}$ = $\\mu_{4}$  <br>\n",
    "> H1: not H0\n",
    "\n",
    "\n",
    "one-way ANOVA를 수행하면 다음과 같다. \n",
    "\n",
    "#### a. 다음 분산분석표에 비어 있는 곳을 채워라.\n",
    "\n",
    "> $k$ = 4, $n$ = 32\n",
    "\n",
    "| <center>변동요인</center> |<center>자유도</center>|<center>제곱합</center>|<center>평균제곱합</center>|<center>F통계량</center>|\n",
    "|:--------:|:--------:|:--------:|:--------:|:--------:|\n",
    "|<center>처리</center>|<center>3</center>|<center>240</center>|<center>80</center>|<center>4</center>|\n",
    "|<center>오차</center>|<center>28</center>|<center>560</center>|<center>20</center>|<center></center>|\n",
    "|<center>계</center>|<center>31</center>|<center>800</center>|<center></center>|<center></center>|"
   ]
  },
  {
   "cell_type": "markdown",
   "metadata": {},
   "source": [
    "#### b. 유의수준을 5%로 할 때 임곗값은 얼마인가?\n",
    "\n",
    "유의수준 0.05에 해당하는 자유도가 (3, 28)인 F분포의 임곗값은 2.9467이다. "
   ]
  },
  {
   "cell_type": "code",
   "execution_count": 36,
   "metadata": {
    "scrolled": false
   },
   "outputs": [
    {
     "data": {
      "text/html": [
       "2.9467"
      ],
      "text/latex": [
       "2.9467"
      ],
      "text/markdown": [
       "2.9467"
      ],
      "text/plain": [
       "[1] 2.9467"
      ]
     },
     "metadata": {},
     "output_type": "display_data"
    }
   ],
   "source": [
    "# Quantile value\n",
    "round(qf(p = 0.95, df1 = 3, df2 = 28, lower.tail = T),4)"
   ]
  },
  {
   "cell_type": "markdown",
   "metadata": {},
   "source": [
    "#### c. 4개 그룹의 모집단 평균들이 모두 동일하다는 가설을 검정하고 통계적 결론을 도출하여라. \n",
    "    \n",
    "F분포의 임곗값은 2.9467, F통계량값은 4이므로, F통계량값이 귀무가설을 기각할 정도로 큰 값이라고 판단할 수 있다. 따라서 4개 그룹의 모집단 평균들이 모두 동일하다고 볼 수 없다."
   ]
  },
  {
   "cell_type": "code",
   "execution_count": 37,
   "metadata": {},
   "outputs": [
    {
     "data": {
      "image/png": "[encoded data removed]",
      "text/plain": [
       "plot without title"
      ]
     },
     "metadata": {
      "image/png": {
       "height": 420,
       "width": 420
      }
     },
     "output_type": "display_data"
    }
   ],
   "source": [
    "# Visualization\n",
    "curve(df(x, 3, 28),  from = 0, to = 10)\n",
    "abline(v = qf(0.95, 3, 28), col = \"blue\")\n",
    "abline(v = 4, col = \"red\")"
   ]
  },
  {
   "cell_type": "markdown",
   "metadata": {},
   "source": [
    "#### d. Tukey 다중비교 방법을 사용하려 한다. 적절한 자유도 p와 f는 각각 무엇인가? 그리고 유의수준 5%에서 적절한 q값을 구하여라. \n",
    "\n",
    "1) Tukey 다중비교 방법의 기초가 되는 분포는 q분포이다. q분포의 모양은 두 개의 모수 p와 f에 의하여 결정되는데, 이때 p는 고려되는 모집단의  개수, f는 자유도이다. 이 경우 p = k, f = n - k다.\n",
    "> $p$ = 4 <br/>\n",
    "> $f$ = 28\n",
    "\n",
    "2) $p$ = 4와 $f$ = 28의 모수를 갖는 q분포에서 $q_{0.05}$, 즉 오른쪽 영역이 0.05의 면적을 갖는 q값은 3.8612다."
   ]
  },
  {
   "cell_type": "code",
   "execution_count": 38,
   "metadata": {},
   "outputs": [
    {
     "data": {
      "text/html": [
       "3.8612"
      ],
      "text/latex": [
       "3.8612"
      ],
      "text/markdown": [
       "3.8612"
      ],
      "text/plain": [
       "[1] 3.8612"
      ]
     },
     "metadata": {},
     "output_type": "display_data"
    }
   ],
   "source": [
    "# q-Quantile value\n",
    "round(qtukey(0.95, nmeans = 4, df = 28),4)"
   ]
  },
  {
   "cell_type": "markdown",
   "metadata": {},
   "source": [
    "#### 11. 소비자단체는 세 가지 브랜드별 진통제의 약효가 나타나기까지, 소요되는 시간이 동일한지 아닌지에 대해서 조사하고자 한다. 세 가지 브랜드별 진통제를 먹은 환자들에게서 관찰한 약효발생까지 걸린 시간의 기록은 다음과 같다. \n",
    "| <center>진통제1</center> |<center>진통제2</center>|<center>진통제3</center>|\n",
    "|:--------:|:--------:|:--------:|\n",
    "|25|15|44|\n",
    "|38|21|39|\n",
    "|40|19|52|\n",
    "|65|23|58|\n",
    "|47|  |73|\n",
    "|52|  |  |"
   ]
  },
  {
   "cell_type": "markdown",
   "metadata": {},
   "source": [
    "#### (11 추가문제) 통계분석의 전제가 되는 가정 사항들을 설명하여라\n",
    "ANOVA는 독립성, 정규성, 등분산성 세 가지의 기본 가정사항이 성립할 때 유효하다.\n",
    "1. 독립성 가정: 모집단에서 추출된 표본은 각각 독립이다. (random sampling)\n",
    "2. 정규성 가정: 각 모집단의 반응변수는 정규분포를 따른다.\n",
    "3. 등분산 가정: 반응변수의 분산은 모든 모집단에서 동일하다. \n",
    "\n",
    "통계분석에 앞서 가정사항의 충족여부를 통계적으로 검정하면 유의수준에 영향을 줄 수 있다. 따라서 일반적으로 알려진 사실이나 참고문헌 등에 근거하여 가정 충족여부를 판단해야 한다.\n",
    "\n",
    "이 경우 모집단의 반응변수는 각 브랜드의 진통제의 약효가 나타나기까지 '소요되는 시간'이다. \n",
    "1. 독립성 가정: 해당 자료들이 모집단에서 무작위로 추출되었다면 독립성 가정은 성립할 것이다. 문제에 주어진 정보만으로는 독립성 가정이 성립한다고 확신하기는 어렵다. <br>\n",
    "2. 정규성 가정: 일반적으로 시간에 대한 분포는 정규성을 가지지 않는 것으로 알려져 있다는 점에서 정규성 가정이 성립한다고 확신하기는 어렵다. <br>\n",
    "3. 등분산 가정: 브랜드 별로 추출한 표본의 크기가 각각 다르다는 점에서 등분산 가정이 성립한다고 확신하기는 어렵다. \n",
    "\n",
    "그러나 분산분석은 정규성 가정과 등분산 가정에 강건(robust)한 성질을 갖고 있어서 약간의 가정위반은 큰 영향을 주지 못할 것이라고 판단할 수 있다. 이에 가정사항들을 충족한다고 간주하고 분산분석을 수행하면 다음과 같다."
   ]
  },
  {
   "cell_type": "markdown",
   "metadata": {},
   "source": [
    "#### 2.5% 유의수준하에서 세 가지 종류의 진통제가 약효를 내기까지 소요되는 시간은 모두 같다는 결론을 내릴 수 있겠는가? \n",
    "\n",
    "세 진통제가 약효를 내기까지 소요되는 시간의 평균을 각각 $\\mu_{1}$, $\\mu_{2}$, $\\mu_{3}$라하면 세 종류의 진통제가 약효를 내기까지 소요되는 시간이 모두 같은지에 대한 검정을 수행하기 위한 가설은 다음과 같이 설정할 수 있다. \n",
    "\n",
    "> H0: $\\mu_{1}$ = $\\mu_{2}$ = $\\mu_{3}$ <br/>\n",
    "> H1: not H0\n",
    "\n",
    "우선 세 그룹의 평균을 비교한 그래프를 통해 '진통제3', '진통제1', '진통제2'의 순으로 약효를 내기까지 소요되는 시간의 평균이 길다는 것을 확인할 수 있다. 즉, 세 그룹의 평균 간에는 차이가 있다."
   ]
  },
  {
   "cell_type": "code",
   "execution_count": 39,
   "metadata": {
    "scrolled": false
   },
   "outputs": [
    {
     "data": {
      "text/html": [
       "<style>\n",
       ".dl-inline {width: auto; margin:0; padding: 0}\n",
       ".dl-inline>dt, .dl-inline>dd {float: none; width: auto; display: inline-block}\n",
       ".dl-inline>dt::after {content: \":\\0020\"; padding-right: .5ex}\n",
       ".dl-inline>dt:not(:first-of-type) {padding-left: .5ex}\n",
       "</style><dl class=dl-inline><dt>진통제1</dt><dd>44.5</dd><dt>진통제2</dt><dd>19.5</dd><dt>진통제3</dt><dd>53.2</dd></dl>\n"
      ],
      "text/latex": [
       "\\begin{description*}\n",
       "\\item[진통제1] 44.5\n",
       "\\item[진통제2] 19.5\n",
       "\\item[진통제3] 53.2\n",
       "\\end{description*}\n"
      ],
      "text/markdown": [
       "진통제1\n",
       ":   44.5진통제2\n",
       ":   19.5진통제3\n",
       ":   53.2\n",
       "\n"
      ],
      "text/plain": [
       "진통제1 진통제2 진통제3 \n",
       "   44.5    19.5    53.2 "
      ]
     },
     "metadata": {},
     "output_type": "display_data"
    },
    {
     "data": {
      "image/png": "[encoded data removed]",
      "text/plain": [
       "plot without title"
      ]
     },
     "metadata": {
      "image/png": {
       "height": 420,
       "width": 420
      }
     },
     "output_type": "display_data"
    }
   ],
   "source": [
    "# Assigning data\n",
    "painkiller.data <- data.frame(\"진통제1\" = c(25, 38, 40, 65, 47, 52),\n",
    "                            \"진통제2\" = c(15, 21, 19, 23, NA, NA),\n",
    "                            \"진통제3\" = c(44, 39, 52, 58, 73, NA))\n",
    "\n",
    "\n",
    "# Calculating means\n",
    "(painkiller.means <- colMeans(painkiller.data, na.rm = T))\n",
    "\n",
    "par(mfrow=c(1,2))\n",
    "plot(painkiller.means, pch=19, lwd=5) # 점 그래프\n",
    "barplot(painkiller.means) # 막대그래프"
   ]
  },
  {
   "cell_type": "markdown",
   "metadata": {},
   "source": [
    "검정에 앞서 각 그룹 자료들의 분포가 어떠한지 확인해 보면 다음과 같다.\n",
    "\n",
    "1. Stripchart: '진통제1'과 '진통제3'의 자료들끼리 겹치고 있으나, '진통제2'의 자료들은 나머지 두 그룹의 자료들과 겹치지 않음을 확인할 수 있다. \n",
    "\n",
    "2. Confidence Interval: '진통제1'과 '진통제3'의 신뢰구간들끼리 겹치고 있으나, '진통제2'의 신뢰구간은 나머지 두 그룹의 자료들과 겹치지 않음을 확인할 수 있다. \n",
    "\n",
    "자료들 간에 겹치는 부분이 있기 때문에 세 그룹의 평균 간의 차이가 통계적으로도 유의미한지 ANOVA 검정을 수행해볼 필요가 있다. "
   ]
  },
  {
   "cell_type": "code",
   "execution_count": 40,
   "metadata": {
    "scrolled": false
   },
   "outputs": [
    {
     "data": {
      "image/png": "[encoded data removed]",
      "text/plain": [
       "plot without title"
      ]
     },
     "metadata": {
      "image/png": {
       "height": 420,
       "width": 420
      }
     },
     "output_type": "display_data"
    },
    {
     "data": {
      "image/png": "[encoded data removed]",
      "text/plain": [
       "plot without title"
      ]
     },
     "metadata": {
      "image/png": {
       "height": 420,
       "width": 420
      }
     },
     "output_type": "display_data"
    }
   ],
   "source": [
    "# Dataframe\n",
    "obs <- na.omit(as.vector(as.matrix(painkiller.data)))\n",
    "group <- c(rep(\"진통제1\", 6), rep(\"진통제2\", 4), rep(\"진통제3\", 5))\n",
    "painkiller.df <- data.frame(obs, group)\n",
    "\n",
    "# Data Visualization\n",
    "## Strip chart\n",
    "stripchart1 <- stripchart(obs ~ group, data = painkiller.df, vertical=T)\n",
    "\n",
    "## Confidence interval\n",
    "library(gplots)\n",
    "plotmeans(obs ~ group, data = painkiller.df)"
   ]
  },
  {
   "cell_type": "markdown",
   "metadata": {},
   "source": [
    "ANOVA 검정을 하면 다음과 같다."
   ]
  },
  {
   "cell_type": "code",
   "execution_count": 41,
   "metadata": {
    "scrolled": true
   },
   "outputs": [
    {
     "data": {
      "text/plain": [
       "            Df Sum Sq Mean Sq F value  Pr(>F)   \n",
       "group        2   2666  1332.8   9.616 0.00322 **\n",
       "Residuals   12   1663   138.6                   \n",
       "---\n",
       "Signif. codes:  0 '***' 0.001 '**' 0.01 '*' 0.05 '.' 0.1 ' ' 1"
      ]
     },
     "metadata": {},
     "output_type": "display_data"
    },
    {
     "data": {
      "text/html": [
       "9.61570372151747"
      ],
      "text/latex": [
       "9.61570372151747"
      ],
      "text/markdown": [
       "9.61570372151747"
      ],
      "text/plain": [
       "[1] 9.615704"
      ]
     },
     "metadata": {},
     "output_type": "display_data"
    },
    {
     "data": {
      "text/html": [
       "0.00321764509136602"
      ],
      "text/latex": [
       "0.00321764509136602"
      ],
      "text/markdown": [
       "0.00321764509136602"
      ],
      "text/plain": [
       "[1] 0.003217645"
      ]
     },
     "metadata": {},
     "output_type": "display_data"
    }
   ],
   "source": [
    "# ANOVA\n",
    "aov.painkiller <- aov(obs ~ group, data = painkiller.df)\n",
    "summary(aov.painkiller)\n",
    "\n",
    "## Calculation\n",
    "group.means <- painkiller.means # x_j_bar\n",
    "obs.mean <- mean(obs) # x_bar \n",
    "\n",
    "tr_1 <- 6 * (group.means[1] - obs.mean) ** 2\n",
    "tr_2 <- 4 * (group.means[2] - obs.mean) ** 2\n",
    "tr_3 <- 5 * (group.means[3] - obs.mean) ** 2\n",
    "sstr.painkiller <- sum(tr_1, tr_2, tr_3)\n",
    "sst.painkiller <- sum((obs - obs.mean) ** 2)\n",
    "\n",
    "### Decomposition\n",
    "sse.painkiller <- sst.painkiller - sstr.painkiller\n",
    "\n",
    "## p.value\n",
    "(F.value <- (sstr.painkiller/2)/(sse.painkiller/12))\n",
    "(p.value <- 1 - pf(F.value, 2, 12))"
   ]
  },
  {
   "cell_type": "markdown",
   "metadata": {},
   "source": [
    "p값은 0.0032다. 따라서 유의수준 2.5%하에서 귀무가설은 기각된다. 즉, 세 그룹의 평균은 모두 동일하다고 볼 수 없다. 따라서 세 가지 종류의 진통제가 약효를 내기까지 소요되는 시간은 모두 같다는 결론을 내릴 수 없다."
   ]
  },
  {
   "cell_type": "markdown",
   "metadata": {},
   "source": [
    "#### (11번 관련 문제)\n",
    "#### a. 자료의 시간 단위는 분이었다. 이를 초 단위로 바꾸어 분석하면 어떻게 달라지는가? \n",
    "자료의 시간 단위를 분에서 초로 바꾸면 다음과 같아진다. "
   ]
  },
  {
   "cell_type": "code",
   "execution_count": 42,
   "metadata": {
    "scrolled": true
   },
   "outputs": [
    {
     "data": {
      "text/html": [
       "<table class=\"dataframe\">\n",
       "<caption>A data.frame: 6 × 3</caption>\n",
       "<thead>\n",
       "\t<tr><th scope=col>진통제1</th><th scope=col>진통제2</th><th scope=col>진통제3</th></tr>\n",
       "\t<tr><th scope=col>&lt;dbl&gt;</th><th scope=col>&lt;dbl&gt;</th><th scope=col>&lt;dbl&gt;</th></tr>\n",
       "</thead>\n",
       "<tbody>\n",
       "\t<tr><td>1500</td><td> 900</td><td>2640</td></tr>\n",
       "\t<tr><td>2280</td><td>1260</td><td>2340</td></tr>\n",
       "\t<tr><td>2400</td><td>1140</td><td>3120</td></tr>\n",
       "\t<tr><td>3900</td><td>1380</td><td>3480</td></tr>\n",
       "\t<tr><td>2820</td><td>  NA</td><td>4380</td></tr>\n",
       "\t<tr><td>3120</td><td>  NA</td><td>  NA</td></tr>\n",
       "</tbody>\n",
       "</table>\n"
      ],
      "text/latex": [
       "A data.frame: 6 × 3\n",
       "\\begin{tabular}{lll}\n",
       " 진통제1 & 진통제2 & 진통제3\\\\\n",
       " <dbl> & <dbl> & <dbl>\\\\\n",
       "\\hline\n",
       "\t 1500 &  900 & 2640\\\\\n",
       "\t 2280 & 1260 & 2340\\\\\n",
       "\t 2400 & 1140 & 3120\\\\\n",
       "\t 3900 & 1380 & 3480\\\\\n",
       "\t 2820 &   NA & 4380\\\\\n",
       "\t 3120 &   NA &   NA\\\\\n",
       "\\end{tabular}\n"
      ],
      "text/markdown": [
       "\n",
       "A data.frame: 6 × 3\n",
       "\n",
       "| 진통제1 &lt;dbl&gt; | 진통제2 &lt;dbl&gt; | 진통제3 &lt;dbl&gt; |\n",
       "|---|---|---|\n",
       "| 1500 |  900 | 2640 |\n",
       "| 2280 | 1260 | 2340 |\n",
       "| 2400 | 1140 | 3120 |\n",
       "| 3900 | 1380 | 3480 |\n",
       "| 2820 |   NA | 4380 |\n",
       "| 3120 |   NA |   NA |\n",
       "\n"
      ],
      "text/plain": [
       "  진통제1 진통제2 진통제3\n",
       "1 1500     900    2640   \n",
       "2 2280    1260    2340   \n",
       "3 2400    1140    3120   \n",
       "4 3900    1380    3480   \n",
       "5 2820      NA    4380   \n",
       "6 3120      NA      NA   "
      ]
     },
     "metadata": {},
     "output_type": "display_data"
    }
   ],
   "source": [
    "# Assigning data\n",
    "painkiller.data <- data.frame(\"진통제1\" = c(25, 38, 40, 65, 47, 52),\n",
    "                               \"진통제2\" = c(15, 21, 19, 23, NA, NA),\n",
    "                               \"진통제3\" = c(44, 39, 52, 58, 73, NA))\n",
    "\n",
    "(painkiller.data_mul <- painkiller.data * 60)"
   ]
  },
  {
   "cell_type": "markdown",
   "metadata": {},
   "source": [
    "모든 자료가 동일하게 60배 커졌으므로 평균도 60배 커진다. \n",
    "\n",
    "$$\n",
    "E(60X) = 60E(X)\n",
    "$$\n",
    "\n",
    "따라서 단위를 바꾸어도 그룹 간 평균의 상대적인 차이는 동일한데, 이는 그룹 간의 평균 차이를 나타낸 그래프의 모양이 단위 변환 전과 같다는 점에서도 확인해 볼 수 있다. "
   ]
  },
  {
   "cell_type": "code",
   "execution_count": 43,
   "metadata": {
    "scrolled": false
   },
   "outputs": [
    {
     "data": {
      "text/html": [
       "<style>\n",
       ".dl-inline {width: auto; margin:0; padding: 0}\n",
       ".dl-inline>dt, .dl-inline>dd {float: none; width: auto; display: inline-block}\n",
       ".dl-inline>dt::after {content: \":\\0020\"; padding-right: .5ex}\n",
       ".dl-inline>dt:not(:first-of-type) {padding-left: .5ex}\n",
       "</style><dl class=dl-inline><dt>진통제1</dt><dd>2670</dd><dt>진통제2</dt><dd>1170</dd><dt>진통제3</dt><dd>3192</dd></dl>\n"
      ],
      "text/latex": [
       "\\begin{description*}\n",
       "\\item[진통제1] 2670\n",
       "\\item[진통제2] 1170\n",
       "\\item[진통제3] 3192\n",
       "\\end{description*}\n"
      ],
      "text/markdown": [
       "진통제1\n",
       ":   2670진통제2\n",
       ":   1170진통제3\n",
       ":   3192\n",
       "\n"
      ],
      "text/plain": [
       "진통제1 진통제2 진통제3 \n",
       "   2670    1170    3192 "
      ]
     },
     "metadata": {},
     "output_type": "display_data"
    },
    {
     "data": {
      "image/png": "[encoded data removed]",
      "text/plain": [
       "plot without title"
      ]
     },
     "metadata": {
      "image/png": {
       "height": 420,
       "width": 420
      }
     },
     "output_type": "display_data"
    }
   ],
   "source": [
    "# Calculating means\n",
    "(painkiller.means_mul <- colMeans(painkiller.data_mul, na.rm = T))\n",
    "\n",
    "par(mfrow=c(1,2))\n",
    "plot(painkiller.means_mul, pch=19, lwd=5) # 점 그래프\n",
    "barplot(painkiller.means_mul) # 막대그래프"
   ]
  },
  {
   "cell_type": "markdown",
   "metadata": {},
   "source": [
    "단위 변환에 따라 ANOVA 분석 결과가 다른지 검정하여 보면 다음과 같다. "
   ]
  },
  {
   "cell_type": "code",
   "execution_count": 44,
   "metadata": {},
   "outputs": [
    {
     "data": {
      "text/plain": [
       "            Df  Sum Sq Mean Sq F value  Pr(>F)   \n",
       "group_mul    2 9596280 4798140   9.616 0.00322 **\n",
       "Residuals   12 5987880  498990                   \n",
       "---\n",
       "Signif. codes:  0 '***' 0.001 '**' 0.01 '*' 0.05 '.' 0.1 ' ' 1"
      ]
     },
     "metadata": {},
     "output_type": "display_data"
    }
   ],
   "source": [
    "# Dataframe\n",
    "obs_mul <- na.omit(as.vector(as.matrix(painkiller.data_mul)))\n",
    "group_mul <- c(rep(\"A\", 6), rep(\"B\", 4), rep(\"C\", 5))\n",
    "painkiller.df_mul <- data.frame(obs_mul, group_mul)\n",
    "\n",
    "\n",
    "# ANOVA\n",
    "aov.painkiller_mul <- aov(obs_mul ~ group_mul, data = painkiller.df_mul)\n",
    "summary(aov.painkiller_mul)"
   ]
  },
  {
   "cell_type": "markdown",
   "metadata": {},
   "source": [
    "모든 자료의 값이 60배 커짐에 따라 SSTR과 SSE 값은 $60^2$배만큼 커진다. 따라서 SSTR과 SSE의 비율인 F통계량값은 단위 변환 후에도 9.616으로 일정하다. 즉, 분에서 초 단위로 변환을 하여도 ANOVA 분석 결과는 변하지 않는다. "
   ]
  },
  {
   "cell_type": "markdown",
   "metadata": {},
   "source": [
    "#### b. 각 자료에 2분을 더하여 분석하면 어떻게 달라지는가?\n",
    "각 자료에 2분을 더하면 다음과 같다. "
   ]
  },
  {
   "cell_type": "code",
   "execution_count": 45,
   "metadata": {},
   "outputs": [
    {
     "data": {
      "text/html": [
       "<table class=\"dataframe\">\n",
       "<caption>A data.frame: 6 × 3</caption>\n",
       "<thead>\n",
       "\t<tr><th scope=col>진통제1</th><th scope=col>진통제2</th><th scope=col>진통제3</th></tr>\n",
       "\t<tr><th scope=col>&lt;dbl&gt;</th><th scope=col>&lt;dbl&gt;</th><th scope=col>&lt;dbl&gt;</th></tr>\n",
       "</thead>\n",
       "<tbody>\n",
       "\t<tr><td>27</td><td>17</td><td>46</td></tr>\n",
       "\t<tr><td>40</td><td>23</td><td>41</td></tr>\n",
       "\t<tr><td>42</td><td>21</td><td>54</td></tr>\n",
       "\t<tr><td>67</td><td>25</td><td>60</td></tr>\n",
       "\t<tr><td>49</td><td>NA</td><td>75</td></tr>\n",
       "\t<tr><td>54</td><td>NA</td><td>NA</td></tr>\n",
       "</tbody>\n",
       "</table>\n"
      ],
      "text/latex": [
       "A data.frame: 6 × 3\n",
       "\\begin{tabular}{lll}\n",
       " 진통제1 & 진통제2 & 진통제3\\\\\n",
       " <dbl> & <dbl> & <dbl>\\\\\n",
       "\\hline\n",
       "\t 27 & 17 & 46\\\\\n",
       "\t 40 & 23 & 41\\\\\n",
       "\t 42 & 21 & 54\\\\\n",
       "\t 67 & 25 & 60\\\\\n",
       "\t 49 & NA & 75\\\\\n",
       "\t 54 & NA & NA\\\\\n",
       "\\end{tabular}\n"
      ],
      "text/markdown": [
       "\n",
       "A data.frame: 6 × 3\n",
       "\n",
       "| 진통제1 &lt;dbl&gt; | 진통제2 &lt;dbl&gt; | 진통제3 &lt;dbl&gt; |\n",
       "|---|---|---|\n",
       "| 27 | 17 | 46 |\n",
       "| 40 | 23 | 41 |\n",
       "| 42 | 21 | 54 |\n",
       "| 67 | 25 | 60 |\n",
       "| 49 | NA | 75 |\n",
       "| 54 | NA | NA |\n",
       "\n"
      ],
      "text/plain": [
       "  진통제1 진통제2 진통제3\n",
       "1 27      17      46     \n",
       "2 40      23      41     \n",
       "3 42      21      54     \n",
       "4 67      25      60     \n",
       "5 49      NA      75     \n",
       "6 54      NA      NA     "
      ]
     },
     "metadata": {},
     "output_type": "display_data"
    }
   ],
   "source": [
    "# Assigning data\n",
    "painkiller.data <- data.frame(\"진통제1\" = c(25, 38, 40, 65, 47, 52),\n",
    "                               \"진통제2\" = c(15, 21, 19, 23, NA, NA),\n",
    "                               \"진통제3\" = c(44, 39, 52, 58, 73, NA))\n",
    "\n",
    "(painkiller.data_add <- painkiller.data + 2)"
   ]
  },
  {
   "cell_type": "markdown",
   "metadata": {},
   "source": [
    "모든 자료가 동일하게 2만큼 커졌으므로 그 평균도 동일하게 2만큼 커진다. \n",
    "\n",
    "$$\n",
    "E(X+2) = E(X) + 2\n",
    "$$\n",
    "\n",
    "따라서 모든 자료에 2분을 더하여도 그룹 간 평균의 상대적인 차이는 동일한데, 이는 그룹 간의 평균 차이를 나타낸 그래프의 모양이 더하기 전과 같다는 점에서도 확인해 볼 수 있다."
   ]
  },
  {
   "cell_type": "code",
   "execution_count": 46,
   "metadata": {
    "scrolled": false
   },
   "outputs": [
    {
     "data": {
      "text/html": [
       "<style>\n",
       ".dl-inline {width: auto; margin:0; padding: 0}\n",
       ".dl-inline>dt, .dl-inline>dd {float: none; width: auto; display: inline-block}\n",
       ".dl-inline>dt::after {content: \":\\0020\"; padding-right: .5ex}\n",
       ".dl-inline>dt:not(:first-of-type) {padding-left: .5ex}\n",
       "</style><dl class=dl-inline><dt>진통제1</dt><dd>46.5</dd><dt>진통제2</dt><dd>21.5</dd><dt>진통제3</dt><dd>55.2</dd></dl>\n"
      ],
      "text/latex": [
       "\\begin{description*}\n",
       "\\item[진통제1] 46.5\n",
       "\\item[진통제2] 21.5\n",
       "\\item[진통제3] 55.2\n",
       "\\end{description*}\n"
      ],
      "text/markdown": [
       "진통제1\n",
       ":   46.5진통제2\n",
       ":   21.5진통제3\n",
       ":   55.2\n",
       "\n"
      ],
      "text/plain": [
       "진통제1 진통제2 진통제3 \n",
       "   46.5    21.5    55.2 "
      ]
     },
     "metadata": {},
     "output_type": "display_data"
    },
    {
     "data": {
      "image/png": "[encoded data removed]",
      "text/plain": [
       "plot without title"
      ]
     },
     "metadata": {
      "image/png": {
       "height": 420,
       "width": 420
      }
     },
     "output_type": "display_data"
    }
   ],
   "source": [
    "# Calculating means\n",
    "(painkiller.means_add <- colMeans(painkiller.data_add, na.rm = T))\n",
    "\n",
    "par(mfrow=c(1,2))\n",
    "plot(painkiller.means_add, pch=19, lwd=5) # 점 그래프\n",
    "barplot(painkiller.means_add) # 막대그래프"
   ]
  },
  {
   "cell_type": "markdown",
   "metadata": {},
   "source": [
    "모든 자료가 2만큼 커짐에 따라 ANOVA 분석 결과가 다른지 검정하여 보면 다음과 같다."
   ]
  },
  {
   "cell_type": "code",
   "execution_count": 47,
   "metadata": {},
   "outputs": [
    {
     "data": {
      "text/plain": [
       "            Df Sum Sq Mean Sq F value  Pr(>F)   \n",
       "group_add    2   2666  1332.8   9.616 0.00322 **\n",
       "Residuals   12   1663   138.6                   \n",
       "---\n",
       "Signif. codes:  0 '***' 0.001 '**' 0.01 '*' 0.05 '.' 0.1 ' ' 1"
      ]
     },
     "metadata": {},
     "output_type": "display_data"
    }
   ],
   "source": [
    "# Dataframe\n",
    "obs_add <- na.omit(as.vector(as.matrix(painkiller.data_add)))\n",
    "group_add <- c(rep(\"A\", 6), rep(\"B\", 4), rep(\"C\", 5))\n",
    "painkiller.df_add <- data.frame(obs_add, group_add)\n",
    "\n",
    "\n",
    "# ANOVA\n",
    "aov.painkiller_add <- aov(obs_add ~ group_add, data = painkiller.df_add)\n",
    "summary(aov.painkiller_add)"
   ]
  },
  {
   "cell_type": "markdown",
   "metadata": {},
   "source": [
    "모든 자료가 2만큼 커져도 SSTR과 SSE는 변하지 않는다. 이는 자료의 평균도 함께 2만큼 커지기 때문에 계산 과정에서 상쇄되기 때문이다. 따라서 모든 자료에 동일하게 2분을 더하여도 ANOVA 분석의 결과는 변하지 않는다는 것을 확인할 수 있다.\n",
    "\n",
    "다음은 변화하기 전 자료, 단위 변환 후 자료, 2분만큼 더한 자료들의 분포를 나타낸 그래프이다. 자료들의 값들만 변했을뿐, 그 분포는 같음을 확인할 수 있다. "
   ]
  },
  {
   "cell_type": "code",
   "execution_count": 48,
   "metadata": {},
   "outputs": [
    {
     "data": {
      "image/png": "[encoded data removed]",
      "text/plain": [
       "plot without title"
      ]
     },
     "metadata": {
      "image/png": {
       "height": 420,
       "width": 420
      }
     },
     "output_type": "display_data"
    }
   ],
   "source": [
    "# Comparison\n",
    "par(mfrow = c(1,3))\n",
    "## Origin\n",
    "stripchart(obs ~ group, data = painkiller.df, vertical=T)\n",
    "## Multiplication\n",
    "stripchart(obs_mul ~ group_mul, data = painkiller.df_mul, vertical=T)\n",
    "## Addition\n",
    "stripchart(obs_add ~ group_add, data = painkiller.df_add, vertical=T)"
   ]
  },
  {
   "cell_type": "markdown",
   "metadata": {},
   "source": [
    "#### 12. 어떤 청량음료회사에서는 새로운 제품을 출시하여 그 제품의 판매량을 극대화시키고자 한다. 판매량에 영향을 미치는 요인 중에는 음료병의 디자인이 중요하다고 생각되어 A, B, C라는 세 가지 디자인 중에 하나를 선택하려 한다. 이를 위해 청량음료회사는 세 가지 디자인의 음료병을 만들어서 하루동안 판매하였다. 음료의 판매량이 매우 유사한 15개의 슈퍼마켓을 선정하여 임의로 A, B, C라는 세 가지 디자인 중에 하나를 배정하였다. 판매된 음료병의 개수를 조사하여 얻은 데이터는 다음 표와 같다.\n",
    "| <center>A</center> |<center>B</center>|<center>C</center>|\n",
    "|:--------:|:--------:|:--------:|\n",
    "|19|30|23|\n",
    "|17|32|26|\n",
    "|18|31|27|\n",
    "|14|29|24|\n",
    "|15|35|22|"
   ]
  },
  {
   "cell_type": "code",
   "execution_count": 49,
   "metadata": {
    "scrolled": false
   },
   "outputs": [],
   "source": [
    "# Assigning data\n",
    "drink <- matrix(c(19, 30, 23, 17, 32, 26,\n",
    "                   18, 31, 27, 14, 29, 24,\n",
    "                   15, 35, 22), nrow = 5, ncol = 3, byrow = T,\n",
    "                 dimnames = list(NULL, c(\"A\", \"B\", \"C\")))"
   ]
  },
  {
   "cell_type": "markdown",
   "metadata": {},
   "source": [
    "#### a. 이 실험에 있어서 반응변수, 요인 그리고 처리가 각각 무엇인지 밝혀라. <br>\n",
    "이 실험에서 사용된 2개의 변수는 '음료병의 디자인'과 '판매량'이다. 실험의 목적이 음료병의 디자인 별로 평균 판매량의 차이가 있는지 보는 것이므로 '판매량'변수가 반응변수, '음료병의 디자인' 변수가 요인(독립변수)이다. 더불어, 관찰되는 요인의 구체적인 값들인 'A, B, C'가 처리(treatment)로, 비교대상이 되는 그룹들을 정의하게 된다."
   ]
  },
  {
   "cell_type": "markdown",
   "metadata": {},
   "source": [
    "#### b. $\\mu_{A}$, $\\mu_{B}$, $\\mu_{C}$는 각각 세 종류의 음료병이 모든 수퍼마켓에서 하루에 판매되는 평균 판매량이라고 하자. 유의수준 5%를 이용하여 $\\mu_{A}$, $\\mu_{B}$, $\\mu_{C}$가 모두 동일하다는 귀무가설을 검정하여라. \n",
    "\n",
    "> H0: $\\mu_{A}$ = $\\mu_{B}$ = $\\mu_{C}$ <br/>\n",
    "> H1: not H0\n",
    "\n",
    "우선 각 집단의 평균을 구하면 다음과 같다. 그래프에서 확인할 수 있듯, 평균 판매량은 B, C, A 순으로 많다. "
   ]
  },
  {
   "cell_type": "code",
   "execution_count": 50,
   "metadata": {
    "scrolled": false
   },
   "outputs": [
    {
     "data": {
      "text/html": [
       "<style>\n",
       ".dl-inline {width: auto; margin:0; padding: 0}\n",
       ".dl-inline>dt, .dl-inline>dd {float: none; width: auto; display: inline-block}\n",
       ".dl-inline>dt::after {content: \":\\0020\"; padding-right: .5ex}\n",
       ".dl-inline>dt:not(:first-of-type) {padding-left: .5ex}\n",
       "</style><dl class=dl-inline><dt>A</dt><dd>16.6</dd><dt>B</dt><dd>31.4</dd><dt>C</dt><dd>24.4</dd></dl>\n"
      ],
      "text/latex": [
       "\\begin{description*}\n",
       "\\item[A] 16.6\n",
       "\\item[B] 31.4\n",
       "\\item[C] 24.4\n",
       "\\end{description*}\n"
      ],
      "text/markdown": [
       "A\n",
       ":   16.6B\n",
       ":   31.4C\n",
       ":   24.4\n",
       "\n"
      ],
      "text/plain": [
       "   A    B    C \n",
       "16.6 31.4 24.4 "
      ]
     },
     "metadata": {},
     "output_type": "display_data"
    },
    {
     "data": {
      "image/png": "[encoded data removed]",
      "text/plain": [
       "plot without title"
      ]
     },
     "metadata": {
      "image/png": {
       "height": 420,
       "width": 420
      }
     },
     "output_type": "display_data"
    }
   ],
   "source": [
    "# Calculating means\n",
    "(drink.means <- colMeans(drink))\n",
    " \n",
    "## Visualization\n",
    "par(mfrow=c(1,2))\n",
    "plot(drink.means, pch=19, lwd=5) # 점 그래프\n",
    "barplot(drink.means) # 막대그래프"
   ]
  },
  {
   "cell_type": "markdown",
   "metadata": {},
   "source": [
    "이러한 세 그룹 간 평균의 차이가 통계적으로도 유의미한지 ANOVA 검정을 수행해볼 필요가 있다. 검정에 앞서, 주어진 자료들을 나타낸 그래프를 통해 세 그룹 평균들 간의 차이가 유의미한지 시각적으로 확인해 볼 수 있다. \n",
    "\n",
    "* Stripchart\n",
    "세 그룹의 자료들끼리 겹치지 않고 있음을 확인할 수 있다.  \n",
    "\n",
    "* Confidence Interval\n",
    "세 그룹의 신뢰구간끼리 겹치지 않고 있음을 확인할 수 있다.\n",
    "\n",
    "그래프를 통해 세 그룹의 평균들 간의 차이는 통계적으로 유의미할 것임을 예측해볼 수 있는데, 이는 그룹의 자료들 간에 겹치는 부분이 없기 때문에 그 평균값들의 차이는 세 그룹 자료들 간의 차이를 잘 대표하는 것이라고 볼 수 있기 때문이다. "
   ]
  },
  {
   "cell_type": "code",
   "execution_count": 51,
   "metadata": {},
   "outputs": [
    {
     "data": {
      "image/png": "[encoded data removed]",
      "text/plain": [
       "plot without title"
      ]
     },
     "metadata": {
      "image/png": {
       "height": 420,
       "width": 420
      }
     },
     "output_type": "display_data"
    },
    {
     "data": {
      "image/png": "[encoded data removed]",
      "text/plain": [
       "plot without title"
      ]
     },
     "metadata": {
      "image/png": {
       "height": 420,
       "width": 420
      }
     },
     "output_type": "display_data"
    }
   ],
   "source": [
    "# Dataframe\n",
    "obs <- as.vector(drink)\n",
    "group <- gl(n=3, k=5, length=15, labels=c(\"A\", \"B\", \"C\"))\n",
    "drink.df <- data.frame(obs, group)\n",
    "\n",
    "# Data Visualization\n",
    "## Strip chart\n",
    "stripchart(obs ~ group, data = drink.df, vertical=T)\n",
    "\n",
    "## Confidence interval\n",
    "library(gplots)\n",
    "plotmeans(obs ~ group, data = drink.df)"
   ]
  },
  {
   "cell_type": "markdown",
   "metadata": {},
   "source": [
    "ANOVA 검정을 하면 다음과 같다."
   ]
  },
  {
   "cell_type": "code",
   "execution_count": 52,
   "metadata": {},
   "outputs": [
    {
     "data": {
      "text/plain": [
       "            Df Sum Sq Mean Sq F value  Pr(>F)    \n",
       "group        2  548.1  274.07   59.15 6.1e-07 ***\n",
       "Residuals   12   55.6    4.63                    \n",
       "---\n",
       "Signif. codes:  0 '***' 0.001 '**' 0.01 '*' 0.05 '.' 0.1 ' ' 1"
      ]
     },
     "metadata": {},
     "output_type": "display_data"
    },
    {
     "data": {
      "text/html": [
       "<strong>C:</strong> 59.1510791366906"
      ],
      "text/latex": [
       "\\textbf{C:} 59.1510791366906"
      ],
      "text/markdown": [
       "**C:** 59.1510791366906"
      ],
      "text/plain": [
       "       C \n",
       "59.15108 "
      ]
     },
     "metadata": {},
     "output_type": "display_data"
    },
    {
     "data": {
      "text/html": [
       "<strong>C:</strong> 6.10067403483683e-07"
      ],
      "text/latex": [
       "\\textbf{C:} 6.10067403483683e-07"
      ],
      "text/markdown": [
       "**C:** 6.10067403483683e-07"
      ],
      "text/plain": [
       "           C \n",
       "6.100674e-07 "
      ]
     },
     "metadata": {},
     "output_type": "display_data"
    }
   ],
   "source": [
    "# ANOVA\n",
    "aov.drink <- aov(obs ~ group, data = drink.df)\n",
    "summary(aov.drink)\n",
    "\n",
    "## Calculation\n",
    "group.means <- drink.means # x_j_bar\n",
    "obs.mean <- mean(group.means) # x_bar \n",
    "sstr.drink <- sum(5 * (group.means - obs.mean) ** 2)\n",
    "sse.drink <- 0\n",
    "for (j in 1:3) {\n",
    "    for (i in 1:5) {\n",
    "        sse.drink = (data.frame(drink)[i, j] - group.means[j]) ** 2 + sse.drink\n",
    "    }\n",
    "}\n",
    "(F.value <- (sstr.drink/2)/(sse.drink/12))\n",
    "(p.value <- 1 - pf(F.value, 2, 12))"
   ]
  },
  {
   "cell_type": "markdown",
   "metadata": {},
   "source": [
    "F통계량값은 59.1511로 임곗값인 3.4903보다 크다. 더불어, p값도 매우 작다. 따라서 유의수준 5%하에서 귀무가설은 기각된다. 즉, 세 그룹의 평균은 모두 동일하다고 볼 수 없다."
   ]
  },
  {
   "cell_type": "code",
   "execution_count": 28,
   "metadata": {},
   "outputs": [
    {
     "data": {
      "image/png": "[encoded data removed]",
      "text/plain": [
       "plot without title"
      ]
     },
     "metadata": {
      "image/png": {
       "height": 420,
       "width": 420
      }
     },
     "output_type": "display_data"
    }
   ],
   "source": [
    "## ANOVA Visualizaiton\n",
    "curve(df(x, df1 = 2, df2 = 12), from = 0, to = 60)\n",
    "abline(v = qf(0.95, 2, 12), col = \"blue\")\n",
    "abline(v = F.value, col=\"red\")"
   ]
  },
  {
   "cell_type": "markdown",
   "metadata": {},
   "source": [
    "#### c. 세 디자인에 따라 음료 판매량이 달라진다고 결론지을 수 있는가?\n",
    "ANOVA 결과 귀무가설은 기각된다. 즉, 세 그룹의 평균 간의 차이는 통계적으로 유의하다. 따라서 세 디자인 별로 판매량의 차이가 난다고 결론지을 수 있다. "
   ]
  },
  {
   "cell_type": "markdown",
   "metadata": {},
   "source": [
    "#### d. 세 종류의 음료병 평균 판매량을 짝을 지어 비교하는 것을 고려하여 보자. 즉, Tukey 방법을 사용하여 다음과 같은 모집단의 평균차 $\\mu_{A}$ - $\\mu_{B}$, $\\mu_{A}$ - $\\mu_{C}$,  $\\mu_{B}$ - $\\mu_{C}$에 대한 신뢰구간을 각각 구하여라. \n",
    "\n",
    "두 집단 간 평균 차에 대한 신뢰구간을 구하면 다음과 같다. "
   ]
  },
  {
   "cell_type": "code",
   "execution_count": 53,
   "metadata": {
    "scrolled": false
   },
   "outputs": [
    {
     "data": {
      "text/plain": [
       "  Tukey multiple comparisons of means\n",
       "    95% family-wise confidence level\n",
       "\n",
       "Fit: aov(formula = obs ~ group, data = drink.df)\n",
       "\n",
       "$group\n",
       "    diff        lwr       upr     p adj\n",
       "B-A 14.8  11.168046 18.431954 0.0000004\n",
       "C-A  7.8   4.168046 11.431954 0.0002580\n",
       "C-B -7.0 -10.631954 -3.368046 0.0006604\n"
      ]
     },
     "metadata": {},
     "output_type": "display_data"
    },
    {
     "data": {
      "text/html": [
       "<table class=\"dataframe\">\n",
       "<caption>A matrix: 3 × 2 of type dbl</caption>\n",
       "<tbody>\n",
       "\t<tr><td>-18.431954</td><td>-11.168046</td></tr>\n",
       "\t<tr><td>  3.368046</td><td> 10.631954</td></tr>\n",
       "\t<tr><td>-11.431954</td><td> -4.168046</td></tr>\n",
       "</tbody>\n",
       "</table>\n"
      ],
      "text/latex": [
       "A matrix: 3 × 2 of type dbl\n",
       "\\begin{tabular}{ll}\n",
       "\t -18.431954 & -11.168046\\\\\n",
       "\t   3.368046 &  10.631954\\\\\n",
       "\t -11.431954 &  -4.168046\\\\\n",
       "\\end{tabular}\n"
      ],
      "text/markdown": [
       "\n",
       "A matrix: 3 × 2 of type dbl\n",
       "\n",
       "| -18.431954 | -11.168046 |\n",
       "|   3.368046 |  10.631954 |\n",
       "| -11.431954 |  -4.168046 |\n",
       "\n"
      ],
      "text/plain": [
       "     [,1]       [,2]      \n",
       "[1,] -18.431954 -11.168046\n",
       "[2,]   3.368046  10.631954\n",
       "[3,] -11.431954  -4.168046"
      ]
     },
     "metadata": {},
     "output_type": "display_data"
    },
    {
     "data": {
      "image/png": "[encoded data removed]",
      "text/plain": [
       "Plot with title \"95% family-wise confidence level\n",
       "\""
      ]
     },
     "metadata": {
      "image/png": {
       "height": 420,
       "width": 420
      }
     },
     "output_type": "display_data"
    }
   ],
   "source": [
    "# Multiple comparison\n",
    "## Tukey HSD\n",
    "TukeyHSD(aov.drink)\n",
    "plot(TukeyHSD(aov.drink))\n",
    "\n",
    "## Calculation\n",
    "mse.drink <- sse.drink / 12\n",
    "q.value <- qtukey(0.95, 3, 12)\n",
    "\n",
    "low_1 <- (drink.means[1] - drink.means[2]) - q.value/sqrt(2)*sqrt(mse.drink*(1/5 + 1/5))\n",
    "up_1 <- (drink.means[1] - drink.means[2]) + q.value/sqrt(2)*sqrt(mse.drink*(1/5 + 1/5))\n",
    "low_2 <- (drink.means[2] - drink.means[3]) - q.value/sqrt(2)*sqrt(mse.drink*(1/5 + 1/5))\n",
    "up_2 <- (drink.means[2] - drink.means[3]) + q.value/sqrt(2)*sqrt(mse.drink*(1/5 + 1/5))\n",
    "low_3 <- (drink.means[1] - drink.means[3]) - q.value/sqrt(2)*sqrt(mse.drink*(1/5 + 1/5))\n",
    "up_3 <- (drink.means[1] - drink.means[3]) + q.value/sqrt(2)*sqrt(mse.drink*(1/5 + 1/5))\n",
    "(tukey_drinks <- matrix(c(low_1, up_1, low_2, up_2, low_3, up_3), nrow = 3, ncol = 2, byrow = T))"
   ]
  },
  {
   "cell_type": "markdown",
   "metadata": {},
   "source": [
    "이를 표로 정리하면 다음과 같다. \n",
    "\n",
    "|  | <center>A</center> |<center>B</center>|<center>C</center>|\n",
    "|:--------:|:--------:|:--------:|--------:|\n",
    "|B|(11.17, 18.43)|  | |\n",
    "|C|(4.17, 11.43)|(-10.63, -3.37)|  |\n",
    "\n",
    "만약 위에서 구한 차이에 대한 신뢰구간이 0을 포함하지 않는다면 두 모평균이 다르다고 결론 지을 수 있다. 세 신뢰구간 모두 0을 포함하지 않는다. 따라서 A, B, C 세 그룹들 중 어떤 두 그룹의 평균 차도 통계적으로 유의하다. "
   ]
  },
  {
   "cell_type": "markdown",
   "metadata": {},
   "source": [
    "#### 20. 어떤 가전제품 공장에 TV를 생산하는 3개의 조립라인이 있다고 가정하자. 공장장 L씨는 각 조립라인별 생산률이 서로 다르다고 생각되어 각 조립라인별 생산대수를 조사하기로 하였다. 한 달의 기간 중에 각 조립라인마다 임의로 6일 동안의 생산량을 요약한 표는 다음과 같다. \n",
    "| <center>조립라인</center>   | <center>조사일수</center> |<center>평균생산대수</center>|<center>분산</center>|\n",
    "|:--------:|:--------:|:--------:|--------:|\n",
    "|A라인|6|41.667|0.267|\n",
    "|B라인|6|43.333|0.667|\n",
    "|C라인|6|41.500|0.700|\n",
    "\n",
    "#### 분산분석표는 다음과 같다.\n",
    "| <center>변동요인</center> |<center>자유도</center>|<center>제곱합</center>|<center>평균제곱합</center>|<center>F통계량</center>|\n",
    "|:--------:|:--------:|:--------:|:--------:|:--------:|\n",
    "|<center>처리</center>|<center>2</center>|<center>12.333</center>|<center>6.167</center>|<center>11.327</center>|\n",
    "|<center>오차</center>|<center>15</center>|<center>8.167</center>|<center>0.544</center>|<center></center>|\n",
    "|<center>계</center>|<center>17</center>|<center>20.500</center>|<center></center>|<center></center>|\n",
    "\n",
    "#### a. 적절한 p값을 구하여라. <br>\n",
    "ANOVA는 독립성, 정규성, 등분산성 세 가지의 기본 가정사항이 성립할 때 유효하다. 가정이 성립한다면 3개 조립라인 간 비교를 위한 가설은 다음과 같이 설정할 수 있다.\n",
    "\n",
    "> H0: $\\mu_{A}$ = $\\mu_{B}$ = $\\mu_{C}$ <br/>\n",
    "> H1: not H0\n",
    "\n",
    "분산분석표에서 주어진 F통계량값에 해당하는 p값은 0.001이다. "
   ]
  },
  {
   "cell_type": "code",
   "execution_count": 54,
   "metadata": {
    "scrolled": true
   },
   "outputs": [
    {
     "data": {
      "text/html": [
       "0.001"
      ],
      "text/latex": [
       "0.001"
      ],
      "text/markdown": [
       "0.001"
      ],
      "text/plain": [
       "[1] 0.001"
      ]
     },
     "metadata": {},
     "output_type": "display_data"
    }
   ],
   "source": [
    "# p.value\n",
    "round(1 - pf(11.327, 2, 15), 4)"
   ]
  },
  {
   "cell_type": "markdown",
   "metadata": {},
   "source": [
    "#### b. 유의수준 5%에서 F분포표를 이용하여 적절한 임곗값을 구하여라.\n",
    "유의수준 5%에서 자유도가 (2, 15)인 F분포의 임곗값은 3.6823이다. "
   ]
  },
  {
   "cell_type": "code",
   "execution_count": 55,
   "metadata": {
    "scrolled": false
   },
   "outputs": [
    {
     "data": {
      "text/html": [
       "3.6823"
      ],
      "text/latex": [
       "3.6823"
      ],
      "text/markdown": [
       "3.6823"
      ],
      "text/plain": [
       "[1] 3.6823"
      ]
     },
     "metadata": {},
     "output_type": "display_data"
    },
    {
     "data": {
      "image/png": "[encoded data removed]",
      "text/plain": [
       "plot without title"
      ]
     },
     "metadata": {
      "image/png": {
       "height": 420,
       "width": 420
      }
     },
     "output_type": "display_data"
    }
   ],
   "source": [
    "# F-Quantile value\n",
    "round(qf(p = 0.95, 2, 15, lower.tail = T),4)\n",
    "\n",
    "## Visualization\n",
    "curve(df(x, 2, 15),  from = 0, to = 5)\n",
    "abline(v = qf(0.95, 2, 15), col = \"blue\")"
   ]
  },
  {
   "cell_type": "markdown",
   "metadata": {},
   "source": [
    "#### c. 유의수준 5%에서 각 조립라인별 생산률이 서로 다르다고 결론지을 수 있는가?\n",
    "\n",
    "1) p값 방법 <br>\n",
    "F통계량값에 해당하는 p값은 0.001이다. 따라서 유의수준 5%하에서 귀무가설은 기각된다. \n",
    "<br>\n",
    "2) 임곗값 방법 <br>\n",
    "F통계량값은 11.327, 유의수준 5%에 해당하는 F분포의 임곗값은 3.6823이다. 따라서 F통계량값은 귀무가설을 기각할 정도로 충분히 큰 값이라고 판단할 수 있다. \n",
    "\n",
    "이 조사의 목적은 조립라인별 생산률 간의 차이가 있는지를 검정하는 것이었다. 따라서 귀무가설이 기각됨에 따라 조립라인 별 생산률이 서로 다르다는 결론을 내릴 수 있다. "
   ]
  },
  {
   "cell_type": "code",
   "execution_count": 56,
   "metadata": {
    "scrolled": false
   },
   "outputs": [
    {
     "data": {
      "image/png": "[encoded data removed]",
      "text/plain": [
       "plot without title"
      ]
     },
     "metadata": {
      "image/png": {
       "height": 420,
       "width": 420
      }
     },
     "output_type": "display_data"
    }
   ],
   "source": [
    "# Visualization\n",
    "curve(df(x, 2, 15), from = 0, to = 15)\n",
    "abline(v = qf(0.95, 2, 15), col = \"blue\")\n",
    "abline(v = 11.327, col=\"red\")"
   ]
  },
  {
   "cell_type": "markdown",
   "metadata": {},
   "source": [
    "#### d. Tukey의 다중비교 방법을 사용하여 조립라인 B와 C의 평균생산량의 차이에 대한 99%의 신뢰구간을 구하여라."
   ]
  },
  {
   "cell_type": "code",
   "execution_count": 57,
   "metadata": {},
   "outputs": [
    {
     "data": {
      "text/html": [
       "0.3769"
      ],
      "text/latex": [
       "0.3769"
      ],
      "text/markdown": [
       "0.3769"
      ],
      "text/plain": [
       "[1] 0.3769"
      ]
     },
     "metadata": {},
     "output_type": "display_data"
    },
    {
     "data": {
      "text/html": [
       "3.2891"
      ],
      "text/latex": [
       "3.2891"
      ],
      "text/markdown": [
       "3.2891"
      ],
      "text/plain": [
       "[1] 3.2891"
      ]
     },
     "metadata": {},
     "output_type": "display_data"
    }
   ],
   "source": [
    "# Multiple comparison\n",
    "## Calculation\n",
    "mse.prod <- 0.544\n",
    "q.value <- qtukey(0.99, 3, 15)\n",
    "\n",
    "round(low <- (43.333 - 41.500) - q.value/sqrt(2)*sqrt(mse.prod*(1/6 + 1/6)),4)\n",
    "round(up <- (43.333 - 41.500) + q.value/sqrt(2)*sqrt(mse.prod*(1/6 + 1/6)),4)"
   ]
  },
  {
   "cell_type": "markdown",
   "metadata": {},
   "source": [
    "생산라인 B와 C의 평균생산량 차이에 대한 99%의 신뢰구간은 (0.3769, 3.2891)이다. 신뢰구간이 0을 포함하지 않기 때문에 두 생산라인의 평균생산량 차이는 통계적으로 유의미하다고 할 수 있다."
   ]
  }
 ],
 "metadata": {
  "kernelspec": {
   "display_name": "R",
   "language": "R",
   "name": "ir"
  },
  "language_info": {
   "codemirror_mode": "r",
   "file_extension": ".r",
   "mimetype": "text/x-r-source",
   "name": "R",
   "pygments_lexer": "r",
   "version": "3.6.3"
  }
 },
 "nbformat": 4,
 "nbformat_minor": 4
}
