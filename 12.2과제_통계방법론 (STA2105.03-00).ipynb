{
 "cells": [
  {
   "cell_type": "markdown",
   "metadata": {},
   "source": [
    "**2019123272 최연수**\n",
    "\n",
    "> 풀이 과정에서 나오는 모든 값들은 소수 넷째 자리에서 반올림하여 표기하였습니다.\n",
    "\n",
    "**12.20 다음은 흡연 여부와 심장병 여부에 대한 자료이다.**\n",
    "\n",
    "\n",
    "**a. 두 변수의 관련성에 대해 검정하여라**\n",
    "\n",
    "우선 주어진 자료를 R코드로 나타내면 다음과 같다. "
   ]
  },
  {
   "cell_type": "code",
   "execution_count": 10,
   "metadata": {},
   "outputs": [
    {
     "data": {
      "text/html": [
       "<table class=\"dataframe\">\n",
       "<caption>A matrix: 2 × 2 of type dbl</caption>\n",
       "<thead>\n",
       "\t<tr><th></th><th scope=col>있음</th><th scope=col>없음</th></tr>\n",
       "</thead>\n",
       "<tbody>\n",
       "\t<tr><th scope=row>흡연</th><td>10</td><td>24</td></tr>\n",
       "\t<tr><th scope=row>비흡연</th><td>30</td><td>60</td></tr>\n",
       "</tbody>\n",
       "</table>\n"
      ],
      "text/latex": [
       "A matrix: 2 × 2 of type dbl\n",
       "\\begin{tabular}{r|ll}\n",
       "  & 있음 & 없음\\\\\n",
       "\\hline\n",
       "\t흡연 & 10 & 24\\\\\n",
       "\t비흡연 & 30 & 60\\\\\n",
       "\\end{tabular}\n"
      ],
      "text/markdown": [
       "\n",
       "A matrix: 2 × 2 of type dbl\n",
       "\n",
       "| <!--/--> | 있음 | 없음 |\n",
       "|---|---|---|\n",
       "| 흡연 | 10 | 24 |\n",
       "| 비흡연 | 30 | 60 |\n",
       "\n"
      ],
      "text/plain": [
       "       있음 없음\n",
       "흡연   10   24  \n",
       "비흡연 30   60  "
      ]
     },
     "metadata": {},
     "output_type": "display_data"
    }
   ],
   "source": [
    "# Assigning data\n",
    "\n",
    "obs <- matrix(c(10, 24, 30, 60), nrow=2, ncol=2, byrow = T)\n",
    "dimnames(obs) <- list( c(\"흡연\", \"비흡연\"), c(\"있음\",\"없음\"))\n",
    "obs"
   ]
  },
  {
   "cell_type": "markdown",
   "metadata": {},
   "source": [
    "'흡연 여부'와 '심장병 여부' 간의 관련성을 검정하기 위한 가설은 다음과 같다.\n",
    "***\n",
    "H0: '흡연 여부'와 '심장병 여부'는 독립이다.\n",
    "\n",
    "H1: '흡연 여부'와 '심장병 여부'는 독립이 아니다.\n",
    "***\n",
    "\n",
    "귀무가설이 사실이라는 가정 하에서 결합확률을 추정하면 다음과 같다.\n",
    "\n",
    "$$\n",
    "\\pi_{ij} = \\pi_{i}\\cdot\\pi_{j}\n",
    "$$"
   ]
  },
  {
   "cell_type": "code",
   "execution_count": 11,
   "metadata": {},
   "outputs": [
    {
     "data": {
      "text/html": [
       "<table class=\"dataframe\">\n",
       "<caption>A matrix: 2 × 2 of type dbl</caption>\n",
       "<thead>\n",
       "\t<tr><th></th><th scope=col>있음</th><th scope=col>없음</th></tr>\n",
       "</thead>\n",
       "<tbody>\n",
       "\t<tr><th scope=row>흡연</th><td>0.08844953</td><td>0.1857440</td></tr>\n",
       "\t<tr><th scope=row>비흡연</th><td>0.23413111</td><td>0.4916753</td></tr>\n",
       "</tbody>\n",
       "</table>\n"
      ],
      "text/latex": [
       "A matrix: 2 × 2 of type dbl\n",
       "\\begin{tabular}{r|ll}\n",
       "  & 있음 & 없음\\\\\n",
       "\\hline\n",
       "\t흡연 & 0.08844953 & 0.1857440\\\\\n",
       "\t비흡연 & 0.23413111 & 0.4916753\\\\\n",
       "\\end{tabular}\n"
      ],
      "text/markdown": [
       "\n",
       "A matrix: 2 × 2 of type dbl\n",
       "\n",
       "| <!--/--> | 있음 | 없음 |\n",
       "|---|---|---|\n",
       "| 흡연 | 0.08844953 | 0.1857440 |\n",
       "| 비흡연 | 0.23413111 | 0.4916753 |\n",
       "\n"
      ],
      "text/plain": [
       "       있음       없음     \n",
       "흡연   0.08844953 0.1857440\n",
       "비흡연 0.23413111 0.4916753"
      ]
     },
     "metadata": {},
     "output_type": "display_data"
    }
   ],
   "source": [
    "# Probability\n",
    "\n",
    "margin.col <- c(40, 84)\n",
    "margin.row <- c(34, 90)\n",
    "\n",
    "margin.col.prob <- margin.col/124\n",
    "margin.row.prob <- margin.row/124\n",
    "\n",
    "joint.prob <- margin.row.prob %o% margin.col.prob\n",
    "dimnames(joint.prob) <- list( c(\"흡연\", \"비흡연\"), c(\"있음\",\"없음\"))\n",
    "joint.prob"
   ]
  },
  {
   "cell_type": "markdown",
   "metadata": {},
   "source": [
    "이 결합확률에 전체 표본수 124를 곱해 구한 기댓값는 다음과 같다."
   ]
  },
  {
   "cell_type": "code",
   "execution_count": 12,
   "metadata": {
    "scrolled": true
   },
   "outputs": [
    {
     "data": {
      "text/html": [
       "<table class=\"dataframe\">\n",
       "<caption>A matrix: 2 × 2 of type dbl</caption>\n",
       "<thead>\n",
       "\t<tr><th></th><th scope=col>있음</th><th scope=col>없음</th></tr>\n",
       "</thead>\n",
       "<tbody>\n",
       "\t<tr><th scope=row>흡연</th><td>10.96774</td><td>23.03226</td></tr>\n",
       "\t<tr><th scope=row>비흡연</th><td>29.03226</td><td>60.96774</td></tr>\n",
       "</tbody>\n",
       "</table>\n"
      ],
      "text/latex": [
       "A matrix: 2 × 2 of type dbl\n",
       "\\begin{tabular}{r|ll}\n",
       "  & 있음 & 없음\\\\\n",
       "\\hline\n",
       "\t흡연 & 10.96774 & 23.03226\\\\\n",
       "\t비흡연 & 29.03226 & 60.96774\\\\\n",
       "\\end{tabular}\n"
      ],
      "text/markdown": [
       "\n",
       "A matrix: 2 × 2 of type dbl\n",
       "\n",
       "| <!--/--> | 있음 | 없음 |\n",
       "|---|---|---|\n",
       "| 흡연 | 10.96774 | 23.03226 |\n",
       "| 비흡연 | 29.03226 | 60.96774 |\n",
       "\n"
      ],
      "text/plain": [
       "       있음     없음    \n",
       "흡연   10.96774 23.03226\n",
       "비흡연 29.03226 60.96774"
      ]
     },
     "metadata": {},
     "output_type": "display_data"
    }
   ],
   "source": [
    "# Calculating exp\n",
    "\n",
    "(exp <- joint.prob * 124)"
   ]
  },
  {
   "cell_type": "markdown",
   "metadata": {},
   "source": [
    "카이제곱합을 구하면 다음과 같다."
   ]
  },
  {
   "cell_type": "code",
   "execution_count": 13,
   "metadata": {},
   "outputs": [
    {
     "data": {
      "text/html": [
       "0.173669467787115"
      ],
      "text/latex": [
       "0.173669467787115"
      ],
      "text/markdown": [
       "0.173669467787115"
      ],
      "text/plain": [
       "[1] 0.1736695"
      ]
     },
     "metadata": {},
     "output_type": "display_data"
    }
   ],
   "source": [
    "# Calculating chisq\n",
    "\n",
    "chisq <- (obs-exp)^2 / exp\n",
    "(sum.chisq <- sum(chisq))"
   ]
  },
  {
   "cell_type": "markdown",
   "metadata": {},
   "source": [
    "이에 따라 p값을 구하면 다음과 같다."
   ]
  },
  {
   "cell_type": "code",
   "execution_count": 14,
   "metadata": {},
   "outputs": [
    {
     "data": {
      "text/html": [
       "0.6769"
      ],
      "text/latex": [
       "0.6769"
      ],
      "text/markdown": [
       "0.6769"
      ],
      "text/plain": [
       "[1] 0.6769"
      ]
     },
     "metadata": {},
     "output_type": "display_data"
    },
    {
     "data": {
      "text/plain": [
       "\n",
       "\tPearson's Chi-squared test\n",
       "\n",
       "data:  obs\n",
       "X-squared = 0.17367, df = 1, p-value = 0.6769\n"
      ]
     },
     "metadata": {},
     "output_type": "display_data"
    }
   ],
   "source": [
    "# Calculating p.value\n",
    "\n",
    "df = (nrow(obs) - 1) * (ncol(obs) - 1)\n",
    "round(p.value <- 1 - pchisq(sum(chisq), df),4)\n",
    "\n",
    "# Testing \n",
    "\n",
    "chisq.test(obs, correct=F)"
   ]
  },
  {
   "cell_type": "markdown",
   "metadata": {},
   "source": [
    "p값은 0.6769다. 따라서 검정 유의수준 5% 하에서 귀무가설은 기각될 수 없다. 즉, 두 변수 '흡연 여부'와 '심장병 여부'가 독립이 아니라고 볼 수 없다. 이는 두 변수 간에는 큰 관련성이 없음을 의미한다. \n",
    "\n",
    "주어진 자료를 막대그래프로 나타내면 '심장병 여부'와 **관계 없이** '비흡연'에 해당되는 관찰빈도가 더 많다는 것을 확인할 수 있다. "
   ]
  },
  {
   "cell_type": "code",
   "execution_count": 15,
   "metadata": {},
   "outputs": [
    {
     "data": {
      "image/png": "[encoded data removed]",
      "text/plain": [
       "Plot with title \"흡연 - 심장병\""
      ]
     },
     "metadata": {
      "image/png": {
       "height": 420,
       "width": 420
      }
     },
     "output_type": "display_data"
    }
   ],
   "source": [
    "# Visualization\n",
    "\n",
    "barplot(obs, beside = TRUE, legend = TRUE, main = \"흡연 - 심장병\", xlab = \"Observed frequencies in sample\")"
   ]
  },
  {
   "cell_type": "markdown",
   "metadata": {},
   "source": [
    "두 변수 간 관련성이 없음은 동질성 검정을 통해서도 확인할 수 있다. 동질성 검정을 위한 가설은 다음과 같이 설정할 수 있다. \n",
    "\n",
    "***\n",
    "H0: '흡연'집단과 '비흡연'집단의 '심장병 여부'에 대한 분포는 같다.\n",
    "\n",
    "H1: '흡연'집단과 '비흡연'집단의 '심장병 여부'에 대한 분포는 다르다.\n",
    "***\n",
    "\n",
    "\n",
    "귀무가설이 참이라는 가정하에서 '심장병 여부'에 대한 확률을 추정하면 다음과 같다.\n",
    "\n",
    "$$\n",
    "\\hat{p_{심장병있음}} = \\frac{(10+30)}{124}\n",
    "$$\n",
    "\n",
    "$$\n",
    "\\hat{p_{심장병없음}} = \\frac{(24+60)}{124}\n",
    "$$"
   ]
  },
  {
   "cell_type": "code",
   "execution_count": 16,
   "metadata": {},
   "outputs": [
    {
     "data": {
      "text/html": [
       "0.3226"
      ],
      "text/latex": [
       "0.3226"
      ],
      "text/markdown": [
       "0.3226"
      ],
      "text/plain": [
       "[1] 0.3226"
      ]
     },
     "metadata": {},
     "output_type": "display_data"
    },
    {
     "data": {
      "text/html": [
       "0.6774"
      ],
      "text/latex": [
       "0.6774"
      ],
      "text/markdown": [
       "0.6774"
      ],
      "text/plain": [
       "[1] 0.6774"
      ]
     },
     "metadata": {},
     "output_type": "display_data"
    }
   ],
   "source": [
    "# Probability\n",
    "\n",
    "round(prob.yes <- sum(obs[,1])/sum(obs),4)\n",
    "round(prob.no <- sum(obs[,2])/sum(obs),4)"
   ]
  },
  {
   "cell_type": "markdown",
   "metadata": {},
   "source": [
    "이에 두 집단의 표본수를 곱하여 구한 기댓값은 다음과 같다. "
   ]
  },
  {
   "cell_type": "code",
   "execution_count": 17,
   "metadata": {},
   "outputs": [
    {
     "data": {
      "text/html": [
       "<table class=\"dataframe\">\n",
       "<caption>A matrix: 2 × 2 of type dbl</caption>\n",
       "<thead>\n",
       "\t<tr><th></th><th scope=col>있음</th><th scope=col>없음</th></tr>\n",
       "</thead>\n",
       "<tbody>\n",
       "\t<tr><th scope=row>흡연</th><td>10.96774</td><td>23.03226</td></tr>\n",
       "\t<tr><th scope=row>비흡연</th><td>29.03226</td><td>60.96774</td></tr>\n",
       "</tbody>\n",
       "</table>\n"
      ],
      "text/latex": [
       "A matrix: 2 × 2 of type dbl\n",
       "\\begin{tabular}{r|ll}\n",
       "  & 있음 & 없음\\\\\n",
       "\\hline\n",
       "\t흡연 & 10.96774 & 23.03226\\\\\n",
       "\t비흡연 & 29.03226 & 60.96774\\\\\n",
       "\\end{tabular}\n"
      ],
      "text/markdown": [
       "\n",
       "A matrix: 2 × 2 of type dbl\n",
       "\n",
       "| <!--/--> | 있음 | 없음 |\n",
       "|---|---|---|\n",
       "| 흡연 | 10.96774 | 23.03226 |\n",
       "| 비흡연 | 29.03226 | 60.96774 |\n",
       "\n"
      ],
      "text/plain": [
       "       있음     없음    \n",
       "흡연   10.96774 23.03226\n",
       "비흡연 29.03226 60.96774"
      ]
     },
     "metadata": {},
     "output_type": "display_data"
    }
   ],
   "source": [
    "# Calculating exp\n",
    "\n",
    "exp.smoke <- c(prob.yes*34, prob.no*34)\n",
    "exp.dont_smoke <- c(prob.yes*90, prob.no*90)\n",
    "\n",
    "exp <- rbind(exp.smoke, exp.dont_smoke)\n",
    "dimnames(exp) <- list( c(\"흡연\", \"비흡연\"), c(\"있음\",\"없음\"))\n",
    "exp"
   ]
  },
  {
   "cell_type": "markdown",
   "metadata": {},
   "source": [
    "이때 독립성과 동질성의 서로 다른 가정하에서 구한 기댓값이 **서로 같은 값**이 됨을 확인할 수 있다. 서로 다른 이론적인 틀에서 출발했지만 두 검정의 결과는 같아진다. "
   ]
  },
  {
   "cell_type": "markdown",
   "metadata": {},
   "source": [
    "**b. 심장병에 따른 흡연비율은 각각 10/40=0.25, 24/84=0.29이다. 이 비율 간의 통계적 차이가 있는지를 z-test로 검정하여라. 또한 이 결과를 문제 a에서의 카이제곱검정 결과와 비교하여라.**\n",
    "\n",
    "\n",
    "'심장병 있음' 집단의 흡연률을 $p_{1}$, '심장병 없음' 집단의 흡연률을 $p_{2}$라 할 때, 두 비율 간의 통계적 차이를 검정하기 위한 가설은 다음과 같이 설정할 수 있다.\n",
    "***\n",
    "H0: 심장병 여부에 따른 두 흡연비율 간에는 차이가 없다. ($p_{1} = p_{2}$)\n",
    "\n",
    "H1: 심장병 여부에 따른 두 흡연비율 간에는 차이가 있다. ($p_{1}\\neq p_{2}$)\n",
    "***\n",
    "\n",
    "두 비율 차이의 추정량은 대표본인 경우 근사적으로 정규분포를 따른다. 대표본을 만족하기 위해선 $n_{1}p_{1}, n_{1}(1-p_{1}), n_{2}p_{2}, n_{2}(1-p_{2})$가 모두 5보다 크거나 같아야한다. 이 경우 해당 값들이 모두 5보다 크다. 따라서 두 흡연비율의 차이는 근사적으로 정규분포를 따른다고 판단할 수 있다. \n",
    "\n",
    "귀무가설하에서의 Z 검정통계량을 구하면 다음과 같다. "
   ]
  },
  {
   "cell_type": "code",
   "execution_count": 18,
   "metadata": {},
   "outputs": [
    {
     "data": {
      "text/html": [
       "-0.4167"
      ],
      "text/latex": [
       "-0.4167"
      ],
      "text/markdown": [
       "-0.4167"
      ],
      "text/plain": [
       "[1] -0.4167"
      ]
     },
     "metadata": {},
     "output_type": "display_data"
    }
   ],
   "source": [
    "p1 <- 10/40\n",
    "p2 <- 24/84\n",
    "p <- (10+24)/(40+84)\n",
    "\n",
    "x <- p1-p2\n",
    "y <- p*(1-p)*((1/40)+(1/84))\n",
    "\n",
    "round((z.stat <- x / sqrt(y)),4)"
   ]
  },
  {
   "cell_type": "markdown",
   "metadata": {},
   "source": [
    "z 검정통계량은 -0.4167이다. 이때 대립가설은 $p_{1}\\neq p_{2}$이므로 양측검정을 수행해야 한다. 이에 따라 유의수준 5%에서의 기각역은 다음과 같다. \n",
    "\n",
    "$$\n",
    "\\left| z \\right| > z_{0.025} = 1.96\n",
    "$$\n",
    "\n",
    "따라서 유의수준 5%에서 귀무가설은 기각되지 않는다. 즉, 심장병 여부에 따른 두 흡연비율 간에는 차이가 없지 않다고 볼 수 없다. 이는 앞서 독립성, 동질성 검정을 통해 도출한 결과와 같다. 두 비율 간에 차이가 없다는 것은 두 변수 '심장병 여부'와 '흡연 여부'는 크게 관련성이 없다는 것을 의미하기 때문이다. "
   ]
  },
  {
   "cell_type": "markdown",
   "metadata": {},
   "source": [
    "**12.26 한 연구자가 대학에 재학 중인 1 ~ 4학년 학부생 중 랜덤하게 선정된 학생들에게 졸업 후의 진로에 대하여 설문조사를 하였는데, 다음과 같이 정리되었다. 대학 학년과 졸업 후 진로에 대한 계획 사이에는 어떤 연관성이 있는지의 여부를 알아 보기 위해 유의수준 1%에서 통계적 검정을 수행하라.**\n",
    "\n",
    "우선 주어진 자료를 R코드로 나타내면 다음과 같다."
   ]
  },
  {
   "cell_type": "code",
   "execution_count": 19,
   "metadata": {},
   "outputs": [
    {
     "data": {
      "text/html": [
       "<table class=\"dataframe\">\n",
       "<caption>A matrix: 4 × 3 of type dbl</caption>\n",
       "<thead>\n",
       "\t<tr><th></th><th scope=col>취직</th><th scope=col>대학원 진학</th><th scope=col>미결정</th></tr>\n",
       "</thead>\n",
       "<tbody>\n",
       "\t<tr><th scope=row>1학년</th><td>22</td><td>20</td><td>48</td></tr>\n",
       "\t<tr><th scope=row>2학년</th><td>37</td><td>26</td><td>29</td></tr>\n",
       "\t<tr><th scope=row>3학년</th><td>58</td><td>31</td><td>15</td></tr>\n",
       "\t<tr><th scope=row>4학년</th><td>56</td><td>35</td><td> 9</td></tr>\n",
       "</tbody>\n",
       "</table>\n"
      ],
      "text/latex": [
       "A matrix: 4 × 3 of type dbl\n",
       "\\begin{tabular}{r|lll}\n",
       "  & 취직 & 대학원 진학 & 미결정\\\\\n",
       "\\hline\n",
       "\t1학년 & 22 & 20 & 48\\\\\n",
       "\t2학년 & 37 & 26 & 29\\\\\n",
       "\t3학년 & 58 & 31 & 15\\\\\n",
       "\t4학년 & 56 & 35 &  9\\\\\n",
       "\\end{tabular}\n"
      ],
      "text/markdown": [
       "\n",
       "A matrix: 4 × 3 of type dbl\n",
       "\n",
       "| <!--/--> | 취직 | 대학원 진학 | 미결정 |\n",
       "|---|---|---|---|\n",
       "| 1학년 | 22 | 20 | 48 |\n",
       "| 2학년 | 37 | 26 | 29 |\n",
       "| 3학년 | 58 | 31 | 15 |\n",
       "| 4학년 | 56 | 35 |  9 |\n",
       "\n"
      ],
      "text/plain": [
       "      취직 대학원 진학 미결정\n",
       "1학년 22   20          48    \n",
       "2학년 37   26          29    \n",
       "3학년 58   31          15    \n",
       "4학년 56   35           9    "
      ]
     },
     "metadata": {},
     "output_type": "display_data"
    }
   ],
   "source": [
    "# Assigning data\n",
    "\n",
    "obs <- matrix(c(22, 20, 48, 37, 26, 29, 58, 31, 15, 56, 35, 9), nrow = 4, ncol = 3, byrow = TRUE)\n",
    "dimnames(obs) <- list(c(\"1학년\",\"2학년\",\"3학년\",\"4학년\"),c(\"취직\", \"대학원 진학\", \"미결정\"))\n",
    "obs"
   ]
  },
  {
   "cell_type": "markdown",
   "metadata": {},
   "source": [
    "두 변수 '대학 학년'과 '졸업 후 진로' 간의 관련성을 검정하기 위한 가설은 다음과 같다.\n",
    "***\n",
    "H0: 두 변수 '대학 학년'과 '졸업 후 진로'는 독립이다.\n",
    "\n",
    "H1: 두 변수 '대학 학년'과 '졸업 후 진로'는 독립이 아니다.\n",
    "***\n",
    "\n",
    "귀무가설이 참이라는 가정하에서 결합확률을 추정하면 다음과 같다. \n"
   ]
  },
  {
   "cell_type": "code",
   "execution_count": 21,
   "metadata": {
    "scrolled": true
   },
   "outputs": [
    {
     "data": {
      "text/html": [
       "<table class=\"dataframe\">\n",
       "<caption>A matrix: 4 × 3 of type dbl</caption>\n",
       "<thead>\n",
       "\t<tr><th></th><th scope=col>취직</th><th scope=col>대학원 진학</th><th scope=col>미결정</th></tr>\n",
       "</thead>\n",
       "<tbody>\n",
       "\t<tr><th scope=row>1학년</th><td>0.1044994</td><td>0.06765282</td><td>0.06100835</td></tr>\n",
       "\t<tr><th scope=row>2학년</th><td>0.1068217</td><td>0.06915622</td><td>0.06236409</td></tr>\n",
       "\t<tr><th scope=row>3학년</th><td>0.1207549</td><td>0.07817660</td><td>0.07049854</td></tr>\n",
       "\t<tr><th scope=row>4학년</th><td>0.1161105</td><td>0.07516980</td><td>0.06778705</td></tr>\n",
       "</tbody>\n",
       "</table>\n"
      ],
      "text/latex": [
       "A matrix: 4 × 3 of type dbl\n",
       "\\begin{tabular}{r|lll}\n",
       "  & 취직 & 대학원 진학 & 미결정\\\\\n",
       "\\hline\n",
       "\t1학년 & 0.1044994 & 0.06765282 & 0.06100835\\\\\n",
       "\t2학년 & 0.1068217 & 0.06915622 & 0.06236409\\\\\n",
       "\t3학년 & 0.1207549 & 0.07817660 & 0.07049854\\\\\n",
       "\t4학년 & 0.1161105 & 0.07516980 & 0.06778705\\\\\n",
       "\\end{tabular}\n"
      ],
      "text/markdown": [
       "\n",
       "A matrix: 4 × 3 of type dbl\n",
       "\n",
       "| <!--/--> | 취직 | 대학원 진학 | 미결정 |\n",
       "|---|---|---|---|\n",
       "| 1학년 | 0.1044994 | 0.06765282 | 0.06100835 |\n",
       "| 2학년 | 0.1068217 | 0.06915622 | 0.06236409 |\n",
       "| 3학년 | 0.1207549 | 0.07817660 | 0.07049854 |\n",
       "| 4학년 | 0.1161105 | 0.07516980 | 0.06778705 |\n",
       "\n"
      ],
      "text/plain": [
       "      취직      대학원 진학 미결정    \n",
       "1학년 0.1044994 0.06765282  0.06100835\n",
       "2학년 0.1068217 0.06915622  0.06236409\n",
       "3학년 0.1207549 0.07817660  0.07049854\n",
       "4학년 0.1161105 0.07516980  0.06778705"
      ]
     },
     "metadata": {},
     "output_type": "display_data"
    }
   ],
   "source": [
    "# Joint probability\n",
    "\n",
    "margin.row <- c()\n",
    "for (i in  1:4){\n",
    "margin.row[i] <- sum(obs[i,])\n",
    "}\n",
    "\n",
    "margin.col <- c()\n",
    "for (i in  1:3){\n",
    "margin.col[i] <- sum(obs[,i])\n",
    "}\n",
    "\n",
    "margin.row.prob <- margin.row / sum(margin.row)\n",
    "margin.col.prob <- margin.col / sum(margin.col)\n",
    "\n",
    "joint.prob <- margin.row.prob %o% margin.col.prob\n",
    "dimnames(joint.prob) <- list(c(\"1학년\",\"2학년\",\"3학년\",\"4학년\"), c(\"취직\", \"대학원 진학\", \"미결정\"))\n",
    "joint.prob"
   ]
  },
  {
   "cell_type": "markdown",
   "metadata": {},
   "source": [
    "추정한 결합확률에 전체 표본수를 곱해 구한 기댓값은 다음과 같다."
   ]
  },
  {
   "cell_type": "code",
   "execution_count": 24,
   "metadata": {},
   "outputs": [
    {
     "data": {
      "text/html": [
       "<table class=\"dataframe\">\n",
       "<caption>A matrix: 4 × 3 of type dbl</caption>\n",
       "<thead>\n",
       "\t<tr><th></th><th scope=col>취직</th><th scope=col>대학원 진학</th><th scope=col>미결정</th></tr>\n",
       "</thead>\n",
       "<tbody>\n",
       "\t<tr><th scope=row>1학년</th><td>40.33679</td><td>26.11399</td><td>23.54922</td></tr>\n",
       "\t<tr><th scope=row>2학년</th><td>41.23316</td><td>26.69430</td><td>24.07254</td></tr>\n",
       "\t<tr><th scope=row>3학년</th><td>46.61140</td><td>30.17617</td><td>27.21244</td></tr>\n",
       "\t<tr><th scope=row>4학년</th><td>44.81865</td><td>29.01554</td><td>26.16580</td></tr>\n",
       "</tbody>\n",
       "</table>\n"
      ],
      "text/latex": [
       "A matrix: 4 × 3 of type dbl\n",
       "\\begin{tabular}{r|lll}\n",
       "  & 취직 & 대학원 진학 & 미결정\\\\\n",
       "\\hline\n",
       "\t1학년 & 40.33679 & 26.11399 & 23.54922\\\\\n",
       "\t2학년 & 41.23316 & 26.69430 & 24.07254\\\\\n",
       "\t3학년 & 46.61140 & 30.17617 & 27.21244\\\\\n",
       "\t4학년 & 44.81865 & 29.01554 & 26.16580\\\\\n",
       "\\end{tabular}\n"
      ],
      "text/markdown": [
       "\n",
       "A matrix: 4 × 3 of type dbl\n",
       "\n",
       "| <!--/--> | 취직 | 대학원 진학 | 미결정 |\n",
       "|---|---|---|---|\n",
       "| 1학년 | 40.33679 | 26.11399 | 23.54922 |\n",
       "| 2학년 | 41.23316 | 26.69430 | 24.07254 |\n",
       "| 3학년 | 46.61140 | 30.17617 | 27.21244 |\n",
       "| 4학년 | 44.81865 | 29.01554 | 26.16580 |\n",
       "\n"
      ],
      "text/plain": [
       "      취직     대학원 진학 미결정  \n",
       "1학년 40.33679 26.11399    23.54922\n",
       "2학년 41.23316 26.69430    24.07254\n",
       "3학년 46.61140 30.17617    27.21244\n",
       "4학년 44.81865 29.01554    26.16580"
      ]
     },
     "metadata": {},
     "output_type": "display_data"
    }
   ],
   "source": [
    "# Calculating exp\n",
    "\n",
    "(exp <- joint.prob * sum(margin.col))"
   ]
  },
  {
   "cell_type": "markdown",
   "metadata": {},
   "source": [
    "카이제곱합을 구하면 다음과 같다."
   ]
  },
  {
   "cell_type": "code",
   "execution_count": 25,
   "metadata": {},
   "outputs": [
    {
     "data": {
      "text/html": [
       "60.1863729006105"
      ],
      "text/latex": [
       "60.1863729006105"
      ],
      "text/markdown": [
       "60.1863729006105"
      ],
      "text/plain": [
       "[1] 60.18637"
      ]
     },
     "metadata": {},
     "output_type": "display_data"
    }
   ],
   "source": [
    "# Calculating chisq\n",
    "\n",
    "chisq <- (obs-exp)^2/exp\n",
    "(sum.chisq <- sum(chisq))"
   ]
  },
  {
   "cell_type": "markdown",
   "metadata": {},
   "source": [
    "p값을 구하면 다음과 같다."
   ]
  },
  {
   "cell_type": "code",
   "execution_count": 26,
   "metadata": {
    "scrolled": true
   },
   "outputs": [
    {
     "data": {
      "text/html": [
       "4.12520018144846e-11"
      ],
      "text/latex": [
       "4.12520018144846e-11"
      ],
      "text/markdown": [
       "4.12520018144846e-11"
      ],
      "text/plain": [
       "[1] 4.1252e-11"
      ]
     },
     "metadata": {},
     "output_type": "display_data"
    },
    {
     "data": {
      "text/plain": [
       "\n",
       "\tPearson's Chi-squared test\n",
       "\n",
       "data:  obs\n",
       "X-squared = 60.186, df = 6, p-value = 4.125e-11\n"
      ]
     },
     "metadata": {},
     "output_type": "display_data"
    }
   ],
   "source": [
    "# Calculating p.value\n",
    "\n",
    "df = (nrow(obs)-1) * (ncol(obs)-1)\n",
    "(p.value <- 1 - pchisq(sum.chisq, df))\n",
    "\n",
    "# Testing\n",
    "\n",
    "(x <- chisq.test(obs, correct=F))"
   ]
  },
  {
   "cell_type": "markdown",
   "metadata": {},
   "source": [
    "이때 p값은 4.125e-11로, 매우 작다. 따라서 유의수준 1%에서 귀무가설은 기각된다. 즉, 두 변수 '대학 학년'과 '졸업 후 진로에 대한 계획'은 독립이 아니다. \n",
    "\n",
    "주어진 자료를 막대그래프로 나타내면 다음과 같다. 만약 두 변수가 독립이라면 세 집단 '취직', '대학원 진학', '미결정'의 표본들의 분포는 같을 것이다. 그러나 그래프를 통해 확인할 수 있듯, 세 집단의 분포는 다르다. 이는 두 변수 '대학 학년'과 '졸업 후 진로에 대한 계획' 간에는 일정한 연관성이 있음을 의미한다고 해석할 수 있다. "
   ]
  },
  {
   "cell_type": "code",
   "execution_count": 28,
   "metadata": {},
   "outputs": [
    {
     "data": {
      "image/png": "[encoded data removed]",
      "text/plain": [
       "Plot with title \"학년 - 졸업 후 진로\""
      ]
     },
     "metadata": {
      "image/png": {
       "height": 420,
       "width": 420
      }
     },
     "output_type": "display_data"
    }
   ],
   "source": [
    "# Visualization\n",
    "\n",
    "barplot(obs, beside = TRUE, legend = TRUE, main = \"학년 - 졸업 후 진로\", xlab = \"Observed frequencies in sample\")"
   ]
  },
  {
   "cell_type": "markdown",
   "metadata": {},
   "source": [
    "**12.28 식당 내의 배경음악이 고객의 소비행태에 영향을 줄 수 있다는 연구결과가 있다. 한 마케팅 전문가가 배경음악이 고객의 소비행태에 어떠한 영향을 주는지 알아보기 위해 실험을 진행하였다. 이 실험에서 3개의 배경음악(발라드, 댄스, 배경음악 없음)이 고려되었고, 각 배경음악하에서 고객들이 어떠한 종류의 술을 주문하는지 조사하였다. 유의수준 5%에서 배경음악과 주문한 술의 종류 간의 독립성을 검정하여라.**\n",
    "\n",
    "주어진 자료를 R코드로 나타내면 다음과 같다."
   ]
  },
  {
   "cell_type": "code",
   "execution_count": 29,
   "metadata": {},
   "outputs": [
    {
     "data": {
      "text/html": [
       "<table class=\"dataframe\">\n",
       "<caption>A matrix: 3 × 3 of type dbl</caption>\n",
       "<thead>\n",
       "\t<tr><th></th><th scope=col>발라드</th><th scope=col>댄스</th><th scope=col>배경음악 없음</th></tr>\n",
       "</thead>\n",
       "<tbody>\n",
       "\t<tr><th scope=row>맥주</th><td>30</td><td>26</td><td>39</td></tr>\n",
       "\t<tr><th scope=row>소주</th><td>19</td><td>31</td><td>43</td></tr>\n",
       "\t<tr><th scope=row>다른 종류</th><td>35</td><td>34</td><td>22</td></tr>\n",
       "</tbody>\n",
       "</table>\n"
      ],
      "text/latex": [
       "A matrix: 3 × 3 of type dbl\n",
       "\\begin{tabular}{r|lll}\n",
       "  & 발라드 & 댄스 & 배경음악 없음\\\\\n",
       "\\hline\n",
       "\t맥주 & 30 & 26 & 39\\\\\n",
       "\t소주 & 19 & 31 & 43\\\\\n",
       "\t다른 종류 & 35 & 34 & 22\\\\\n",
       "\\end{tabular}\n"
      ],
      "text/markdown": [
       "\n",
       "A matrix: 3 × 3 of type dbl\n",
       "\n",
       "| <!--/--> | 발라드 | 댄스 | 배경음악 없음 |\n",
       "|---|---|---|---|\n",
       "| 맥주 | 30 | 26 | 39 |\n",
       "| 소주 | 19 | 31 | 43 |\n",
       "| 다른 종류 | 35 | 34 | 22 |\n",
       "\n"
      ],
      "text/plain": [
       "          발라드 댄스 배경음악 없음\n",
       "맥주      30     26   39           \n",
       "소주      19     31   43           \n",
       "다른 종류 35     34   22           "
      ]
     },
     "metadata": {},
     "output_type": "display_data"
    }
   ],
   "source": [
    "# Assigning data\n",
    "\n",
    "obs <- matrix(c(30,26,39,19,31,43,35,34,22), nrow = 3, ncol = 3, byrow = T)\n",
    "dimnames(obs) <- list(c(\"맥주\", \"소주\", \"다른 종류\"), c(\"발라드\", \"댄스\", \"배경음악 없음\"))\n",
    "obs"
   ]
  },
  {
   "cell_type": "markdown",
   "metadata": {},
   "source": [
    "두 변수 '배경음악'과 '술의 종류' 간의 독립성을 검정하기 위한 가설은 다음과 같이 설정할 수 있다. \n",
    "\n",
    "***\n",
    "H0: 두 변수 '배경음악'과 '술의 종류'는 독립이다.\n",
    "\n",
    "H1: 두 변수 '배경음악'과 '술의 종류'는 독립이 아니다.\n",
    "***\n",
    "\n",
    "귀무가설이 참이라는 가정하에서 결합확률을 추정하면 다음과 같다. "
   ]
  },
  {
   "cell_type": "code",
   "execution_count": 34,
   "metadata": {
    "scrolled": true
   },
   "outputs": [
    {
     "data": {
      "text/html": [
       "<table class=\"dataframe\">\n",
       "<caption>A matrix: 3 × 3 of type dbl</caption>\n",
       "<thead>\n",
       "\t<tr><th></th><th scope=col>발라드</th><th scope=col>댄스</th><th scope=col>배경음악 없음</th></tr>\n",
       "</thead>\n",
       "<tbody>\n",
       "\t<tr><th scope=row>맥주</th><td>0.10251667</td><td>0.1110597</td><td>0.1269254</td></tr>\n",
       "\t<tr><th scope=row>소주</th><td>0.10035842</td><td>0.1087216</td><td>0.1242533</td></tr>\n",
       "\t<tr><th scope=row>다른 종류</th><td>0.09820018</td><td>0.1063835</td><td>0.1215812</td></tr>\n",
       "</tbody>\n",
       "</table>\n"
      ],
      "text/latex": [
       "A matrix: 3 × 3 of type dbl\n",
       "\\begin{tabular}{r|lll}\n",
       "  & 발라드 & 댄스 & 배경음악 없음\\\\\n",
       "\\hline\n",
       "\t맥주 & 0.10251667 & 0.1110597 & 0.1269254\\\\\n",
       "\t소주 & 0.10035842 & 0.1087216 & 0.1242533\\\\\n",
       "\t다른 종류 & 0.09820018 & 0.1063835 & 0.1215812\\\\\n",
       "\\end{tabular}\n"
      ],
      "text/markdown": [
       "\n",
       "A matrix: 3 × 3 of type dbl\n",
       "\n",
       "| <!--/--> | 발라드 | 댄스 | 배경음악 없음 |\n",
       "|---|---|---|---|\n",
       "| 맥주 | 0.10251667 | 0.1110597 | 0.1269254 |\n",
       "| 소주 | 0.10035842 | 0.1087216 | 0.1242533 |\n",
       "| 다른 종류 | 0.09820018 | 0.1063835 | 0.1215812 |\n",
       "\n"
      ],
      "text/plain": [
       "          발라드     댄스      배경음악 없음\n",
       "맥주      0.10251667 0.1110597 0.1269254    \n",
       "소주      0.10035842 0.1087216 0.1242533    \n",
       "다른 종류 0.09820018 0.1063835 0.1215812    "
      ]
     },
     "metadata": {},
     "output_type": "display_data"
    }
   ],
   "source": [
    "# Joint probability\n",
    "\n",
    "margin.row <- c()\n",
    "for (i in  1:3){\n",
    "margin.row[i] <- sum(obs[i,])\n",
    "}\n",
    "\n",
    "margin.col <- c()\n",
    "for (i in  1:3){\n",
    "margin.col[i] <- sum(obs[,i])\n",
    "}\n",
    "\n",
    "margin.row.prob <- margin.row / sum(margin.row)\n",
    "margin.col.prob <- margin.col / sum(margin.col)\n",
    "\n",
    "joint.prob <- margin.row.prob %o% margin.col.prob\n",
    "dimnames(joint.prob) <- list(c(\"맥주\", \"소주\", \"다른 종류\"), c(\"발라드\", \"댄스\", \"배경음악 없음\"))\n",
    "joint.prob"
   ]
  },
  {
   "cell_type": "markdown",
   "metadata": {},
   "source": [
    "추정한 결합확률에 전체 표본수를 곱해 구한 기댓값은 다음과 같다."
   ]
  },
  {
   "cell_type": "code",
   "execution_count": 35,
   "metadata": {
    "scrolled": true
   },
   "outputs": [
    {
     "data": {
      "text/html": [
       "<table class=\"dataframe\">\n",
       "<caption>A matrix: 3 × 3 of type dbl</caption>\n",
       "<thead>\n",
       "\t<tr><th></th><th scope=col>발라드</th><th scope=col>댄스</th><th scope=col>배경음악 없음</th></tr>\n",
       "</thead>\n",
       "<tbody>\n",
       "\t<tr><th scope=row>맥주</th><td>28.60215</td><td>30.98566</td><td>35.41219</td></tr>\n",
       "\t<tr><th scope=row>소주</th><td>28.00000</td><td>30.33333</td><td>34.66667</td></tr>\n",
       "\t<tr><th scope=row>다른 종류</th><td>27.39785</td><td>29.68100</td><td>33.92115</td></tr>\n",
       "</tbody>\n",
       "</table>\n"
      ],
      "text/latex": [
       "A matrix: 3 × 3 of type dbl\n",
       "\\begin{tabular}{r|lll}\n",
       "  & 발라드 & 댄스 & 배경음악 없음\\\\\n",
       "\\hline\n",
       "\t맥주 & 28.60215 & 30.98566 & 35.41219\\\\\n",
       "\t소주 & 28.00000 & 30.33333 & 34.66667\\\\\n",
       "\t다른 종류 & 27.39785 & 29.68100 & 33.92115\\\\\n",
       "\\end{tabular}\n"
      ],
      "text/markdown": [
       "\n",
       "A matrix: 3 × 3 of type dbl\n",
       "\n",
       "| <!--/--> | 발라드 | 댄스 | 배경음악 없음 |\n",
       "|---|---|---|---|\n",
       "| 맥주 | 28.60215 | 30.98566 | 35.41219 |\n",
       "| 소주 | 28.00000 | 30.33333 | 34.66667 |\n",
       "| 다른 종류 | 27.39785 | 29.68100 | 33.92115 |\n",
       "\n"
      ],
      "text/plain": [
       "          발라드   댄스     배경음악 없음\n",
       "맥주      28.60215 30.98566 35.41219     \n",
       "소주      28.00000 30.33333 34.66667     \n",
       "다른 종류 27.39785 29.68100 33.92115     "
      ]
     },
     "metadata": {},
     "output_type": "display_data"
    }
   ],
   "source": [
    "# Calculating exp\n",
    "\n",
    "(exp <- joint.prob * sum(margin.col))"
   ]
  },
  {
   "cell_type": "markdown",
   "metadata": {},
   "source": [
    "카이제곱합을 구하면 다음과 같다. "
   ]
  },
  {
   "cell_type": "code",
   "execution_count": 36,
   "metadata": {},
   "outputs": [
    {
     "data": {
      "text/html": [
       "13.0721308766422"
      ],
      "text/latex": [
       "13.0721308766422"
      ],
      "text/markdown": [
       "13.0721308766422"
      ],
      "text/plain": [
       "[1] 13.07213"
      ]
     },
     "metadata": {},
     "output_type": "display_data"
    }
   ],
   "source": [
    "# Calculating chisq\n",
    "\n",
    "chisq <- (obs-exp)^2/exp\n",
    "(sum.chisq <- sum(chisq))"
   ]
  },
  {
   "cell_type": "markdown",
   "metadata": {},
   "source": [
    "p값을 구하면 다음과 같다."
   ]
  },
  {
   "cell_type": "code",
   "execution_count": 37,
   "metadata": {
    "scrolled": true
   },
   "outputs": [
    {
     "data": {
      "text/html": [
       "0.0109"
      ],
      "text/latex": [
       "0.0109"
      ],
      "text/markdown": [
       "0.0109"
      ],
      "text/plain": [
       "[1] 0.0109"
      ]
     },
     "metadata": {},
     "output_type": "display_data"
    }
   ],
   "source": [
    "# Calculating p.value\n",
    "\n",
    "df <- (nrow(obs) - 1)*(ncol(obs) - 1)\n",
    "round(p.value <- 1 - pchisq(sum.chisq, df),4)"
   ]
  },
  {
   "cell_type": "markdown",
   "metadata": {},
   "source": [
    "p값은 0.0109이다. 따라서 유의수준 5%에서 귀무가설은 기각된다. 즉, 두 변수 '배경음악'과 '술의 종류'는 독립이 아니다. \n",
    "\n",
    "주어진 자료를 막대그래프로 나타내면 다음과 같다. 만약 두 변수가 독립이라면 세 집단 '발라드', '댄스', '배경음악 없음'의 표본들의 분포는 같을 것이다. 그러나 그래프를 통해 확인할 수 있듯, 세 집단의 분포는 다르다. 이는 두 변수 '배경음악'과 '술의 종류' 간에는 일정한 연관성이 있음을 의미한다고 해석할 수 있다. "
   ]
  },
  {
   "cell_type": "code",
   "execution_count": 38,
   "metadata": {},
   "outputs": [
    {
     "data": {
      "image/png": "[encoded data removed]",
      "text/plain": [
       "Plot with title \"배경음악 - 술\""
      ]
     },
     "metadata": {
      "image/png": {
       "height": 420,
       "width": 420
      }
     },
     "output_type": "display_data"
    }
   ],
   "source": [
    "# Visualization\n",
    "\n",
    "barplot(obs, beside = TRUE, legend = TRUE, main = \"배경음악 - 술\", xlab = \"Observed frequencies in sample\")"
   ]
  },
  {
   "cell_type": "markdown",
   "metadata": {},
   "source": [
    "**12.32 한 고등학생이 대학교 진학을 앞두고 두 대학의 상경대학 중에서 취업률이 높은 곳에 지원하기를 원한다. 다음은 올해 두 대학의 상경대학을 졸업한 학생들의 취업률 자료이다.**\n",
    "\n",
    "우선 주어진 자료를 R코드로 나타내면 다음과 같다. "
   ]
  },
  {
   "cell_type": "code",
   "execution_count": 2,
   "metadata": {},
   "outputs": [
    {
     "data": {
      "text/html": [
       "<table class=\"dataframe\">\n",
       "<caption>A matrix: 2 × 2 of type dbl</caption>\n",
       "<thead>\n",
       "\t<tr><th></th><th scope=col>취업</th><th scope=col>미취업</th></tr>\n",
       "</thead>\n",
       "<tbody>\n",
       "\t<tr><th scope=row>대학교 1 상경대학</th><td>257</td><td>143</td></tr>\n",
       "\t<tr><th scope=row>대학교 2 상경대학</th><td>262</td><td>136</td></tr>\n",
       "</tbody>\n",
       "</table>\n"
      ],
      "text/latex": [
       "A matrix: 2 × 2 of type dbl\n",
       "\\begin{tabular}{r|ll}\n",
       "  & 취업 & 미취업\\\\\n",
       "\\hline\n",
       "\t대학교 1 상경대학 & 257 & 143\\\\\n",
       "\t대학교 2 상경대학 & 262 & 136\\\\\n",
       "\\end{tabular}\n"
      ],
      "text/markdown": [
       "\n",
       "A matrix: 2 × 2 of type dbl\n",
       "\n",
       "| <!--/--> | 취업 | 미취업 |\n",
       "|---|---|---|\n",
       "| 대학교 1 상경대학 | 257 | 143 |\n",
       "| 대학교 2 상경대학 | 262 | 136 |\n",
       "\n"
      ],
      "text/plain": [
       "                  취업 미취업\n",
       "대학교 1 상경대학 257  143   \n",
       "대학교 2 상경대학 262  136   "
      ]
     },
     "metadata": {},
     "output_type": "display_data"
    }
   ],
   "source": [
    "# Assigning data\n",
    "\n",
    "obs <- matrix(c(257,143,262,136), nrow=2, ncol=2, byrow = T)\n",
    "dimnames(obs) <- list(c(\"대학교 1 상경대학\", \"대학교 2 상경대학\"), c(\"취업\", \"미취업\"))\n",
    "obs"
   ]
  },
  {
   "cell_type": "markdown",
   "metadata": {},
   "source": [
    "**a. 상경대학별 취업률을 계산하고 이 고등학생이 어느 대학을 지원할지에 대해 설명하여라.** "
   ]
  },
  {
   "cell_type": "code",
   "execution_count": 3,
   "metadata": {},
   "outputs": [
    {
     "data": {
      "text/html": [
       "64.25"
      ],
      "text/latex": [
       "64.25"
      ],
      "text/markdown": [
       "64.25"
      ],
      "text/plain": [
       "[1] 64.25"
      ]
     },
     "metadata": {},
     "output_type": "display_data"
    },
    {
     "data": {
      "text/html": [
       "65.8291"
      ],
      "text/latex": [
       "65.8291"
      ],
      "text/markdown": [
       "65.8291"
      ],
      "text/plain": [
       "[1] 65.8291"
      ]
     },
     "metadata": {},
     "output_type": "display_data"
    }
   ],
   "source": [
    "round((uni_1.prob <- obs[1,1] / sum(obs[1,])) * 100,4)\n",
    "round((uni_2.prob <- obs[2,1] / sum(obs[2,]))*100,4)"
   ]
  },
  {
   "cell_type": "markdown",
   "metadata": {},
   "source": [
    "대학교 1 상경대학의 취업률은 64.25%, 대학교 2 상경대학의 취업률은 65.8291%이다.따라서 취업률이 더 높은 대학교 2에 지원할 것이다.\n",
    "\n",
    "**b. 유의수준 5%에서 상경대학별로 취업률에 유의한 차이가 있는지 검정하여라.**\n",
    "\n",
    "두 대학의 상경대학별 취업률에 유의한 차이가 있는지를 검정하기 위한 가설은 다음과 같이 설정할 수 있다.\n",
    "\n",
    "***\n",
    "H0: '대학교 1의 상경대학'과 '대학교 2의 상경대학'의 '취업'에 대한 분포는 같다.\n",
    "\n",
    "H1: '대학교 1의 상경대학'과 '대학교 2의 상경대학'의 '취업'에 대한 분포는 다르다. \n",
    "***\n",
    "\n",
    "\n",
    "귀무가설이 참이라는 가정하에서 취업률과 미취업률을 추정하면 다음과 같다.\n",
    "\n",
    "$$\n",
    "\\hat{p_{취업}} = \\frac{(257+262)}{798}\n",
    "$$\n",
    "\n",
    "$$\n",
    "\\hat{p_{미취업}} = \\frac{(143+136)}{798}\n",
    "$$"
   ]
  },
  {
   "cell_type": "code",
   "execution_count": 4,
   "metadata": {},
   "outputs": [
    {
     "data": {
      "text/html": [
       "0.6504"
      ],
      "text/latex": [
       "0.6504"
      ],
      "text/markdown": [
       "0.6504"
      ],
      "text/plain": [
       "[1] 0.6504"
      ]
     },
     "metadata": {},
     "output_type": "display_data"
    },
    {
     "data": {
      "text/html": [
       "0.3496"
      ],
      "text/latex": [
       "0.3496"
      ],
      "text/markdown": [
       "0.3496"
      ],
      "text/plain": [
       "[1] 0.3496"
      ]
     },
     "metadata": {},
     "output_type": "display_data"
    }
   ],
   "source": [
    "# Probability\n",
    "\n",
    "round(prob.yes <- sum(obs[,1])/sum(obs),4)\n",
    "round(prob.no <- sum(obs[,2])/sum(obs),4)"
   ]
  },
  {
   "cell_type": "markdown",
   "metadata": {},
   "source": [
    "이에 각 상경대학의 표본수를 곱하여 구한 기댓값은 다음과 같다."
   ]
  },
  {
   "cell_type": "code",
   "execution_count": 5,
   "metadata": {},
   "outputs": [
    {
     "data": {
      "text/html": [
       "<table class=\"dataframe\">\n",
       "<caption>A matrix: 2 × 2 of type dbl</caption>\n",
       "<thead>\n",
       "\t<tr><th></th><th scope=col>취업</th><th scope=col>미취업</th></tr>\n",
       "</thead>\n",
       "<tbody>\n",
       "\t<tr><th scope=row>대학교 1 상경대학</th><td>260.1504</td><td>139.8496</td></tr>\n",
       "\t<tr><th scope=row>대학교 2 상경대학</th><td>258.8496</td><td>139.1504</td></tr>\n",
       "</tbody>\n",
       "</table>\n"
      ],
      "text/latex": [
       "A matrix: 2 × 2 of type dbl\n",
       "\\begin{tabular}{r|ll}\n",
       "  & 취업 & 미취업\\\\\n",
       "\\hline\n",
       "\t대학교 1 상경대학 & 260.1504 & 139.8496\\\\\n",
       "\t대학교 2 상경대학 & 258.8496 & 139.1504\\\\\n",
       "\\end{tabular}\n"
      ],
      "text/markdown": [
       "\n",
       "A matrix: 2 × 2 of type dbl\n",
       "\n",
       "| <!--/--> | 취업 | 미취업 |\n",
       "|---|---|---|\n",
       "| 대학교 1 상경대학 | 260.1504 | 139.8496 |\n",
       "| 대학교 2 상경대학 | 258.8496 | 139.1504 |\n",
       "\n"
      ],
      "text/plain": [
       "                  취업     미취업  \n",
       "대학교 1 상경대학 260.1504 139.8496\n",
       "대학교 2 상경대학 258.8496 139.1504"
      ]
     },
     "metadata": {},
     "output_type": "display_data"
    }
   ],
   "source": [
    "# Calculating exp\n",
    "\n",
    "exp.job <- c(prob.yes*400, prob.no*400)\n",
    "exp.no_job <- c(prob.yes*398, prob.no*398)\n",
    "\n",
    "exp <- rbind(exp.job, exp.no_job)\n",
    "dimnames(exp) <- list( c(\"대학교 1 상경대학\", \"대학교 2 상경대학\"), c(\"취업\",\"미취업\"))\n",
    "exp"
   ]
  },
  {
   "cell_type": "markdown",
   "metadata": {},
   "source": [
    "카이제곱합을 구하면 다음과 같다."
   ]
  },
  {
   "cell_type": "code",
   "execution_count": 6,
   "metadata": {},
   "outputs": [
    {
     "data": {
      "text/html": [
       "0.218785639928151"
      ],
      "text/latex": [
       "0.218785639928151"
      ],
      "text/markdown": [
       "0.218785639928151"
      ],
      "text/plain": [
       "[1] 0.2187856"
      ]
     },
     "metadata": {},
     "output_type": "display_data"
    }
   ],
   "source": [
    "# Calculating chisq\n",
    "\n",
    "chisq <- (obs-exp)^2/exp\n",
    "(sum.chisq <- sum(chisq))"
   ]
  },
  {
   "cell_type": "markdown",
   "metadata": {},
   "source": [
    "p값을 구하면 다음과 같다."
   ]
  },
  {
   "cell_type": "code",
   "execution_count": 7,
   "metadata": {},
   "outputs": [
    {
     "data": {
      "text/html": [
       "0.64"
      ],
      "text/latex": [
       "0.64"
      ],
      "text/markdown": [
       "0.64"
      ],
      "text/plain": [
       "[1] 0.64"
      ]
     },
     "metadata": {},
     "output_type": "display_data"
    },
    {
     "data": {
      "text/plain": [
       "\n",
       "\tPearson's Chi-squared test\n",
       "\n",
       "data:  obs\n",
       "X-squared = 0.21879, df = 1, p-value = 0.64\n"
      ]
     },
     "metadata": {},
     "output_type": "display_data"
    }
   ],
   "source": [
    "# Calculating p.value\n",
    "\n",
    "df <- (nrow(obs)-1) * (ncol(obs)-1)\n",
    "round(p.value <- 1 - pchisq(sum.chisq,df),4)\n",
    "\n",
    "# Testing \n",
    "\n",
    "(x <- chisq.test(obs, correct=F))"
   ]
  },
  {
   "cell_type": "markdown",
   "metadata": {},
   "source": [
    "p값은 0.64이다. 따라서 유의수준 5%에서 귀무가설은 기각되지 않는다. 즉, '대학교 1의 상경대학'과 '대학교 2의 상경대학'의 '취업'에 대한 분포가 같지 않다고 볼 수 없다. 두 집단의 취업률에는 유의한 차이가 없다고 해석할 수 있다. \n",
    "\n",
    "주어진 자료를 막대그래프로 나타내면 다음과 같다. '대학교 1의 상경대학'과 '대학교 2의 상경대학' 모두 '취업' 표본수가 '미취업' 표본수보다 많으며, 그 수도 크게 차이가 나지 않는다는 점에서 두 집단의 '취업'에 대한 분포는 거의 같다는 것을 확인할 수 있다. "
   ]
  },
  {
   "cell_type": "code",
   "execution_count": 17,
   "metadata": {
    "scrolled": false
   },
   "outputs": [
    {
     "data": {
      "text/html": [
       "<table class=\"dataframe\">\n",
       "<caption>A matrix: 2 × 2 of type dbl</caption>\n",
       "<tbody>\n",
       "\t<tr><td>1.5</td><td>4.5</td></tr>\n",
       "\t<tr><td>2.5</td><td>5.5</td></tr>\n",
       "</tbody>\n",
       "</table>\n"
      ],
      "text/latex": [
       "A matrix: 2 × 2 of type dbl\n",
       "\\begin{tabular}{ll}\n",
       "\t 1.5 & 4.5\\\\\n",
       "\t 2.5 & 5.5\\\\\n",
       "\\end{tabular}\n"
      ],
      "text/markdown": [
       "\n",
       "A matrix: 2 × 2 of type dbl\n",
       "\n",
       "| 1.5 | 4.5 |\n",
       "| 2.5 | 5.5 |\n",
       "\n"
      ],
      "text/plain": [
       "     [,1] [,2]\n",
       "[1,] 1.5  4.5 \n",
       "[2,] 2.5  5.5 "
      ]
     },
     "metadata": {},
     "output_type": "display_data"
    },
    {
     "data": {
      "image/png": "[encoded data removed]",
      "text/plain": [
       "Plot with title \"대학 - 취업률\""
      ]
     },
     "metadata": {
      "image/png": {
       "height": 420,
       "width": 420
      }
     },
     "output_type": "display_data"
    }
   ],
   "source": [
    "# Visualization\n",
    "\n",
    "(barplot(t(obs), ylim = c(0, 300), beside = T, legend = T, main = \"대학 - 취업률\", xlab = \"Observed frequencies in sample\"))"
   ]
  },
  {
   "cell_type": "markdown",
   "metadata": {},
   "source": [
    "**c. 각 상경대학의 전공별 취업, 미취업자수와 취업률은 다음과 같다.**\n",
    "**d. 각 상경대학에서 전공별 취업률을 계산하여라.**\n",
    "\n",
    "주어진 자료를 바탕으로 표를 채우고 전공별 취업률을 계산하면 다음과 같다. ('대학교 1'의 표본수 400, '대학교 2'의 표본수를 398로 하였음.)\n"
   ]
  },
  {
   "cell_type": "code",
   "execution_count": 11,
   "metadata": {
    "scrolled": true
   },
   "outputs": [
    {
     "data": {
      "text/html": [
       "200"
      ],
      "text/latex": [
       "200"
      ],
      "text/markdown": [
       "200"
      ],
      "text/plain": [
       "[1] 200"
      ]
     },
     "metadata": {},
     "output_type": "display_data"
    },
    {
     "data": {
      "text/html": [
       "<table class=\"dataframe\">\n",
       "<caption>A matrix: 3 × 3 of type dbl</caption>\n",
       "<thead>\n",
       "\t<tr><th></th><th scope=col>취업</th><th scope=col>미취업</th><th scope=col>취업률(%)</th></tr>\n",
       "</thead>\n",
       "<tbody>\n",
       "\t<tr><th scope=row>경영학</th><td>126</td><td>74</td><td>63.0000</td></tr>\n",
       "\t<tr><th scope=row>경제학</th><td> 97</td><td>53</td><td>64.6667</td></tr>\n",
       "\t<tr><th scope=row>응용통계학</th><td> 34</td><td>16</td><td>68.0000</td></tr>\n",
       "</tbody>\n",
       "</table>\n"
      ],
      "text/latex": [
       "A matrix: 3 × 3 of type dbl\n",
       "\\begin{tabular}{r|lll}\n",
       "  & 취업 & 미취업 & 취업률(\\%)\\\\\n",
       "\\hline\n",
       "\t경영학 & 126 & 74 & 63.0000\\\\\n",
       "\t경제학 &  97 & 53 & 64.6667\\\\\n",
       "\t응용통계학 &  34 & 16 & 68.0000\\\\\n",
       "\\end{tabular}\n"
      ],
      "text/markdown": [
       "\n",
       "A matrix: 3 × 3 of type dbl\n",
       "\n",
       "| <!--/--> | 취업 | 미취업 | 취업률(%) |\n",
       "|---|---|---|---|\n",
       "| 경영학 | 126 | 74 | 63.0000 |\n",
       "| 경제학 |  97 | 53 | 64.6667 |\n",
       "| 응용통계학 |  34 | 16 | 68.0000 |\n",
       "\n"
      ],
      "text/plain": [
       "           취업 미취업 취업률(%)\n",
       "경영학     126  74     63.0000  \n",
       "경제학      97  53     64.6667  \n",
       "응용통계학  34  16     68.0000  "
      ]
     },
     "metadata": {},
     "output_type": "display_data"
    },
    {
     "data": {
      "text/html": [
       "<table class=\"dataframe\">\n",
       "<caption>A matrix: 3 × 3 of type dbl</caption>\n",
       "<thead>\n",
       "\t<tr><th></th><th scope=col>취업</th><th scope=col>미취업</th><th scope=col>취업률(%)</th></tr>\n",
       "</thead>\n",
       "<tbody>\n",
       "\t<tr><th scope=row>경영학</th><td> 31</td><td>19</td><td>63.0000</td></tr>\n",
       "\t<tr><th scope=row>경제학</th><td> 96</td><td>54</td><td>64.6667</td></tr>\n",
       "\t<tr><th scope=row>응용통계학</th><td>135</td><td>63</td><td>68.0000</td></tr>\n",
       "</tbody>\n",
       "</table>\n"
      ],
      "text/latex": [
       "A matrix: 3 × 3 of type dbl\n",
       "\\begin{tabular}{r|lll}\n",
       "  & 취업 & 미취업 & 취업률(\\%)\\\\\n",
       "\\hline\n",
       "\t경영학 &  31 & 19 & 63.0000\\\\\n",
       "\t경제학 &  96 & 54 & 64.6667\\\\\n",
       "\t응용통계학 & 135 & 63 & 68.0000\\\\\n",
       "\\end{tabular}\n"
      ],
      "text/markdown": [
       "\n",
       "A matrix: 3 × 3 of type dbl\n",
       "\n",
       "| <!--/--> | 취업 | 미취업 | 취업률(%) |\n",
       "|---|---|---|---|\n",
       "| 경영학 |  31 | 19 | 63.0000 |\n",
       "| 경제학 |  96 | 54 | 64.6667 |\n",
       "| 응용통계학 | 135 | 63 | 68.0000 |\n",
       "\n"
      ],
      "text/plain": [
       "           취업 미취업 취업률(%)\n",
       "경영학      31  19     63.0000  \n",
       "경제학      96  54     64.6667  \n",
       "응용통계학 135  63     68.0000  "
      ]
     },
     "metadata": {},
     "output_type": "display_data"
    }
   ],
   "source": [
    "# Assigning data\n",
    "\n",
    "uni_1 <- matrix(c(126,74,97,53,34,16), nrow=3, ncol=2, byrow = T)\n",
    "uni_2 <- matrix(c(31,19,96,54,135,63), nrow=3, ncol=2, byrow = T)\n",
    "\n",
    "# 대학교 1 전공별 취업률\n",
    "x <- c()\n",
    "sum(uni_1[1,])\n",
    "for (i in 1:3){\n",
    "x[i] <- uni_1[i,1] / sum(uni_1[i,]) *100\n",
    "}\n",
    "x <- round(x,4)\n",
    "\n",
    "# 대학교 2 전공별 취업률\n",
    "y <- c()\n",
    "for (i in 1:3){\n",
    "y[i] <- uni_2[i,1] / sum(uni_2[i,]) *100\n",
    "}\n",
    "y <- round(y,4)\n",
    "\n",
    "uni_1 <- cbind(uni_1, x)\n",
    "dimnames(uni_1) <- list(c(\"경영학\", \"경제학\", \"응용통계학\"), c(\"취업\", \"미취업\", \"취업률(%)\"))\n",
    "uni_1\n",
    "\n",
    "uni_2 <- cbind(uni_2, x)\n",
    "dimnames(uni_2) <- list(c(\"경영학\", \"경제학\", \"응용통계학\"), c(\"취업\", \"미취업\", \"취업률(%)\"))\n",
    "uni_2\n"
   ]
  },
  {
   "cell_type": "markdown",
   "metadata": {},
   "source": [
    "**e. 상경대학 간에 전공별로 취업률을 비교한 뒤, 이 고등학생의 선택에 어떠한 변화가 있을 것인지에 대해 논하여라.**\n",
    "\n",
    "전체 상경대학의 취업률은 '대학교 1'이 64.25%, '대학교 2'가 65.8291%로 '대학교 2'가 근소하게 앞섰다. 따라서 전체 취업률을 비교하여 판단할 경우 이 고등학생은 '대학교 2'를 선택하였을 것이다. 그러나 각 대학의 상경대학 별 취업률은 '경영학' 63%, '경제학' 64.67%, '응용통계학' 68%로 두 대학이 동일했다. 즉, 두 대학의 각 상경대학의 모집단의 '취업'에 대한 분포는 동질하다. 따라서 이 고등학생이 어떤 대학을 선택하든 취업률은 무차별할 것이다. \n",
    "\n",
    "주어진 자료를 막대그래프로 나타내면 다음과 같다. '대학교 1'의 표본수는 '경영학', '경제학', '응용통계학' 순으로 많았고, '대학교 2'는 그 반대라는 점에서 두 집단의 자료는 차이를 보인다. 두 대학 전체 취업률의 차이는 이러한 표본수의 차이에 기인한다. 취업률이 상대적으로 낮은 '경영학'의 표본이 많은 '대학교 1'의 취업률이 취업률이 상대적으로 높은 '응용통계학'의 표본이 많은 '대학교 2'의 취업률보다 낮은 것이다. "
   ]
  },
  {
   "cell_type": "code",
   "execution_count": 19,
   "metadata": {},
   "outputs": [
    {
     "data": {
      "text/html": [
       "<style>\n",
       ".list-inline {list-style: none; margin:0; padding: 0}\n",
       ".list-inline>li {display: inline-block}\n",
       ".list-inline>li:not(:last-child)::after {content: \"\\00b7\"; padding: 0 .5ex}\n",
       "</style>\n",
       "<ol class=list-inline><li>0.7</li><li>1.9</li><li>3.1</li></ol>\n"
      ],
      "text/latex": [
       "\\begin{enumerate*}\n",
       "\\item 0.7\n",
       "\\item 1.9\n",
       "\\item 3.1\n",
       "\\end{enumerate*}\n"
      ],
      "text/markdown": [
       "1. 0.7\n",
       "2. 1.9\n",
       "3. 3.1\n",
       "\n",
       "\n"
      ],
      "text/plain": [
       "[1] 0.7 1.9 3.1"
      ]
     },
     "metadata": {},
     "output_type": "display_data"
    },
    {
     "data": {
      "image/png": "[encoded data removed]",
      "text/plain": [
       "Plot with title \"대학교 1 상경대학별 취업률\""
      ]
     },
     "metadata": {
      "image/png": {
       "height": 420,
       "width": 420
      }
     },
     "output_type": "display_data"
    },
    {
     "data": {
      "text/html": [
       "<style>\n",
       ".list-inline {list-style: none; margin:0; padding: 0}\n",
       ".list-inline>li {display: inline-block}\n",
       ".list-inline>li:not(:last-child)::after {content: \"\\00b7\"; padding: 0 .5ex}\n",
       "</style>\n",
       "<ol class=list-inline><li>0.7</li><li>1.9</li><li>3.1</li></ol>\n"
      ],
      "text/latex": [
       "\\begin{enumerate*}\n",
       "\\item 0.7\n",
       "\\item 1.9\n",
       "\\item 3.1\n",
       "\\end{enumerate*}\n"
      ],
      "text/markdown": [
       "1. 0.7\n",
       "2. 1.9\n",
       "3. 3.1\n",
       "\n",
       "\n"
      ],
      "text/plain": [
       "[1] 0.7 1.9 3.1"
      ]
     },
     "metadata": {},
     "output_type": "display_data"
    },
    {
     "data": {
      "image/png": "[encoded data removed]",
      "text/plain": [
       "Plot with title \"대학교 2 상경대학별 취업률\""
      ]
     },
     "metadata": {
      "image/png": {
       "height": 420,
       "width": 420
      }
     },
     "output_type": "display_data"
    }
   ],
   "source": [
    "# Visualization\n",
    "\n",
    "(uni_1.plot <- barplot(t(uni_1[,-3]),ylim = c(0,200), legend = T, main = \"대학교 1 상경대학별 취업률\" ))\n",
    "(uni_2.plot <- barplot(t(uni_2[,-3]),ylim = c(0,200), legend = T, main = \"대학교 2 상경대학별 취업률\" ))"
   ]
  },
  {
   "cell_type": "markdown",
   "metadata": {},
   "source": [
    "**f. 유의수준 5%에서 대학교 1의 상경대학에서 전공별로 취업률에 유의한 차이가 있는지 검정하여라.**\n",
    "\n",
    "대학교 1의 상경대학 전공별로 취업률에 유의한 차이가 있는지 검정하기 위한 가설은 다음과 같이 설정할 수 있다.\n",
    "\n",
    "***\n",
    "H0: 세 집단 '경영학', '경제학', '응용통계학'의 '취업'에 대한 분포는 같다.\n",
    "\n",
    "H1: 세 집단 '경영학', '경제학', '응용통계학'의 '취업'에 대한 분포는 다르다.\n",
    "***\n",
    "\n",
    "귀무가설이 참이라는 가정하에서 취업률과 미취업률을 추정하면 다음과 같다.\n",
    "\n",
    "$$\n",
    "\\hat{p_{취업}} = \\frac{(126+97+34)}{400}\n",
    "$$\n",
    "\n",
    "$$\n",
    "\\hat{p_{미취업}} = \\frac{(74+53+16)}{400}\n",
    "$$"
   ]
  },
  {
   "cell_type": "code",
   "execution_count": 20,
   "metadata": {},
   "outputs": [
    {
     "data": {
      "text/html": [
       "0.6425"
      ],
      "text/latex": [
       "0.6425"
      ],
      "text/markdown": [
       "0.6425"
      ],
      "text/plain": [
       "[1] 0.6425"
      ]
     },
     "metadata": {},
     "output_type": "display_data"
    },
    {
     "data": {
      "text/html": [
       "0.3575"
      ],
      "text/latex": [
       "0.3575"
      ],
      "text/markdown": [
       "0.3575"
      ],
      "text/plain": [
       "[1] 0.3575"
      ]
     },
     "metadata": {},
     "output_type": "display_data"
    }
   ],
   "source": [
    "# Probability\n",
    "\n",
    "round(prob.yes <- sum(uni_1[,1])/400,4)\n",
    "round(prob.no <- sum(uni_1[,2])/400,4)"
   ]
  },
  {
   "cell_type": "markdown",
   "metadata": {},
   "source": [
    "각 전공별 표본수를 곱하여 구한 기댓값은 다음과 같다."
   ]
  },
  {
   "cell_type": "code",
   "execution_count": 21,
   "metadata": {},
   "outputs": [
    {
     "data": {
      "text/html": [
       "<table class=\"dataframe\">\n",
       "<caption>A matrix: 3 × 2 of type dbl</caption>\n",
       "<thead>\n",
       "\t<tr><th></th><th scope=col>취업</th><th scope=col>미취업</th></tr>\n",
       "</thead>\n",
       "<tbody>\n",
       "\t<tr><th scope=row>경영학</th><td>128.500</td><td>71.500</td></tr>\n",
       "\t<tr><th scope=row>경제학</th><td> 96.375</td><td>53.625</td></tr>\n",
       "\t<tr><th scope=row>응용통계학</th><td> 32.125</td><td>17.875</td></tr>\n",
       "</tbody>\n",
       "</table>\n"
      ],
      "text/latex": [
       "A matrix: 3 × 2 of type dbl\n",
       "\\begin{tabular}{r|ll}\n",
       "  & 취업 & 미취업\\\\\n",
       "\\hline\n",
       "\t경영학 & 128.500 & 71.500\\\\\n",
       "\t경제학 &  96.375 & 53.625\\\\\n",
       "\t응용통계학 &  32.125 & 17.875\\\\\n",
       "\\end{tabular}\n"
      ],
      "text/markdown": [
       "\n",
       "A matrix: 3 × 2 of type dbl\n",
       "\n",
       "| <!--/--> | 취업 | 미취업 |\n",
       "|---|---|---|\n",
       "| 경영학 | 128.500 | 71.500 |\n",
       "| 경제학 |  96.375 | 53.625 |\n",
       "| 응용통계학 |  32.125 | 17.875 |\n",
       "\n"
      ],
      "text/plain": [
       "           취업    미취업\n",
       "경영학     128.500 71.500\n",
       "경제학      96.375 53.625\n",
       "응용통계학  32.125 17.875"
      ]
     },
     "metadata": {},
     "output_type": "display_data"
    }
   ],
   "source": [
    "# Calculating exp\n",
    "\n",
    "exp.bs <- c(prob.yes*200, prob.no*200)\n",
    "exp.econ <- c(prob.yes*150, prob.no*150)\n",
    "exp.stat <- c(prob.yes*50, prob.no*50)\n",
    "\n",
    "exp.uni_1 <- rbind(exp.bs, exp.econ, exp.stat)\n",
    "dimnames(exp.uni_1) <- list(c(\"경영학\", \"경제학\", \"응용통계학\"), c(\"취업\", \"미취업\"))\n",
    "exp.uni_1"
   ]
  },
  {
   "cell_type": "markdown",
   "metadata": {},
   "source": [
    "카이제곱합은 다음과 같다."
   ]
  },
  {
   "cell_type": "code",
   "execution_count": 22,
   "metadata": {},
   "outputs": [
    {
     "data": {
      "text/html": [
       "0.453502399027691"
      ],
      "text/latex": [
       "0.453502399027691"
      ],
      "text/markdown": [
       "0.453502399027691"
      ],
      "text/plain": [
       "[1] 0.4535024"
      ]
     },
     "metadata": {},
     "output_type": "display_data"
    }
   ],
   "source": [
    "# Calculating chisq\n",
    "\n",
    "obs.uni_1 <- uni_1[, -3]\n",
    "\n",
    "chisq <- (obs.uni_1-exp.uni_1)^2/exp.uni_1\n",
    "(sum.chisq <- sum(chisq))"
   ]
  },
  {
   "cell_type": "markdown",
   "metadata": {},
   "source": [
    "p값을 구하면 다음과 같다."
   ]
  },
  {
   "cell_type": "code",
   "execution_count": 23,
   "metadata": {
    "scrolled": true
   },
   "outputs": [
    {
     "data": {
      "text/html": [
       "0.7971"
      ],
      "text/latex": [
       "0.7971"
      ],
      "text/markdown": [
       "0.7971"
      ],
      "text/plain": [
       "[1] 0.7971"
      ]
     },
     "metadata": {},
     "output_type": "display_data"
    },
    {
     "data": {
      "text/plain": [
       "\n",
       "\tPearson's Chi-squared test\n",
       "\n",
       "data:  obs.uni_1\n",
       "X-squared = 0.4535, df = 2, p-value = 0.7971\n"
      ]
     },
     "metadata": {},
     "output_type": "display_data"
    }
   ],
   "source": [
    "# Calculating p.value\n",
    "\n",
    "df <- (nrow(obs.uni_1)-1)*(ncol(obs.uni_1)-1)\n",
    "round((p.value <- 1 - pchisq(sum.chisq,df)),4)\n",
    "\n",
    "# Testing\n",
    "\n",
    "(x <- chisq.test(obs.uni_1, correct=F))"
   ]
  },
  {
   "cell_type": "markdown",
   "metadata": {},
   "source": [
    "p값은 0.7971이다. 따라서 유의수준 5%에서 귀무가설은 기각되지 않는다. 즉, 세 집단 '경영학', '경제학', '응용통계학'의 '취업'에 대한 분포는 같지 않다고 볼 수 없다. \n",
    "\n",
    "주어진 자료를 막대그래프로 나타내면 전공에 **관계없이** '취업' 표본수가 '미취업' 표본수보다 많다는 점을 확인할 수 있다. 따라서 전공과 취업률 간에는 일정한 관련성이 없으며, 각 전공별 취업률에는 유의한 차이가 없다는 결론을 내릴 수 있다. "
   ]
  },
  {
   "cell_type": "code",
   "execution_count": 26,
   "metadata": {
    "scrolled": false
   },
   "outputs": [
    {
     "data": {
      "text/html": [
       "<table class=\"dataframe\">\n",
       "<caption>A matrix: 2 × 3 of type dbl</caption>\n",
       "<tbody>\n",
       "\t<tr><td>1.5</td><td>4.5</td><td>7.5</td></tr>\n",
       "\t<tr><td>2.5</td><td>5.5</td><td>8.5</td></tr>\n",
       "</tbody>\n",
       "</table>\n"
      ],
      "text/latex": [
       "A matrix: 2 × 3 of type dbl\n",
       "\\begin{tabular}{lll}\n",
       "\t 1.5 & 4.5 & 7.5\\\\\n",
       "\t 2.5 & 5.5 & 8.5\\\\\n",
       "\\end{tabular}\n"
      ],
      "text/markdown": [
       "\n",
       "A matrix: 2 × 3 of type dbl\n",
       "\n",
       "| 1.5 | 4.5 | 7.5 |\n",
       "| 2.5 | 5.5 | 8.5 |\n",
       "\n"
      ],
      "text/plain": [
       "     [,1] [,2] [,3]\n",
       "[1,] 1.5  4.5  7.5 \n",
       "[2,] 2.5  5.5  8.5 "
      ]
     },
     "metadata": {},
     "output_type": "display_data"
    },
    {
     "data": {
      "image/png": "[encoded data removed]",
      "text/plain": [
       "Plot with title \"대학교 1, 전공 - 취업\""
      ]
     },
     "metadata": {
      "image/png": {
       "height": 420,
       "width": 420
      }
     },
     "output_type": "display_data"
    }
   ],
   "source": [
    "# Visualization\n",
    "\n",
    "(barplot(t(obs.uni_1), beside = T, legend = T, main = \"대학교 1, 전공 - 취업\"))"
   ]
  },
  {
   "cell_type": "markdown",
   "metadata": {},
   "source": [
    "**g. 유의수준 5%에서 대학교 2의 상경대학에서 전공별로 취업률에 유의한 차이가 있는지 검정하여라.**\n",
    "\n",
    "대학교 2의 상경대학 전공별로 취업률에 유의한 차이가 있는지 검정하기 위한 가설은 다음과 같이 설정할 수 있다.\n",
    "\n",
    "***\n",
    "H0: 세 집단 '경영학', '경제학', '응용통계학'의 '취업'에 대한 분포는 같다.\n",
    "\n",
    "H1: 세 집단 '경영학', '경제학', '응용통계학'의 '취업'에 대한 분포는 다르다.\n",
    "***\n",
    "\n",
    "\n",
    "귀무가설이 참이라는 가정하에서 취업률과 미취업률을 추정하면 다음과 같다.\n",
    "\n",
    "$$\n",
    "\\hat{p_{취업}} = \\frac{(31+96+135)}{398}\n",
    "$$\n",
    "\n",
    "$$\n",
    "\\hat{p_{미취업}} = \\frac{(19+54+63)}{398}\n",
    "$$"
   ]
  },
  {
   "cell_type": "code",
   "execution_count": 27,
   "metadata": {
    "scrolled": true
   },
   "outputs": [
    {
     "data": {
      "text/html": [
       "0.6583"
      ],
      "text/latex": [
       "0.6583"
      ],
      "text/markdown": [
       "0.6583"
      ],
      "text/plain": [
       "[1] 0.6583"
      ]
     },
     "metadata": {},
     "output_type": "display_data"
    },
    {
     "data": {
      "text/html": [
       "0.3417"
      ],
      "text/latex": [
       "0.3417"
      ],
      "text/markdown": [
       "0.3417"
      ],
      "text/plain": [
       "[1] 0.3417"
      ]
     },
     "metadata": {},
     "output_type": "display_data"
    }
   ],
   "source": [
    "# Probability\n",
    "\n",
    "round(prob.yes <- sum(uni_2[,1])/398,4)\n",
    "round(prob.no <- sum(uni_2[,2])/398,4)"
   ]
  },
  {
   "cell_type": "markdown",
   "metadata": {},
   "source": [
    "각 전공별 표본수를 곱하여 구한 기댓값은 다음과 같다."
   ]
  },
  {
   "cell_type": "code",
   "execution_count": 28,
   "metadata": {},
   "outputs": [
    {
     "data": {
      "text/html": [
       "<table class=\"dataframe\">\n",
       "<caption>A matrix: 3 × 2 of type dbl</caption>\n",
       "<thead>\n",
       "\t<tr><th></th><th scope=col>취업</th><th scope=col>미취업</th></tr>\n",
       "</thead>\n",
       "<tbody>\n",
       "\t<tr><th scope=row>경영학</th><td> 32.91457</td><td>17.08543</td></tr>\n",
       "\t<tr><th scope=row>경제학</th><td> 98.74372</td><td>51.25628</td></tr>\n",
       "\t<tr><th scope=row>응용통계학</th><td>130.34171</td><td>67.65829</td></tr>\n",
       "</tbody>\n",
       "</table>\n"
      ],
      "text/latex": [
       "A matrix: 3 × 2 of type dbl\n",
       "\\begin{tabular}{r|ll}\n",
       "  & 취업 & 미취업\\\\\n",
       "\\hline\n",
       "\t경영학 &  32.91457 & 17.08543\\\\\n",
       "\t경제학 &  98.74372 & 51.25628\\\\\n",
       "\t응용통계학 & 130.34171 & 67.65829\\\\\n",
       "\\end{tabular}\n"
      ],
      "text/markdown": [
       "\n",
       "A matrix: 3 × 2 of type dbl\n",
       "\n",
       "| <!--/--> | 취업 | 미취업 |\n",
       "|---|---|---|\n",
       "| 경영학 |  32.91457 | 17.08543 |\n",
       "| 경제학 |  98.74372 | 51.25628 |\n",
       "| 응용통계학 | 130.34171 | 67.65829 |\n",
       "\n"
      ],
      "text/plain": [
       "           취업      미취업  \n",
       "경영학      32.91457 17.08543\n",
       "경제학      98.74372 51.25628\n",
       "응용통계학 130.34171 67.65829"
      ]
     },
     "metadata": {},
     "output_type": "display_data"
    }
   ],
   "source": [
    "# Calculating exp\n",
    "\n",
    "exp.bs <- c(prob.yes*50, prob.no*50)\n",
    "exp.econ <- c(prob.yes*150, prob.no*150)\n",
    "exp.stat <- c(prob.yes*198, prob.no*198)\n",
    "\n",
    "exp.uni_2 <- rbind(exp.bs, exp.econ, exp.stat)\n",
    "dimnames(exp.uni_2) <- list(c(\"경영학\", \"경제학\", \"응용통계학\"), c(\"취업\", \"미취업\"))\n",
    "exp.uni_2"
   ]
  },
  {
   "cell_type": "markdown",
   "metadata": {},
   "source": [
    "카이제곱합은 다음과 같다."
   ]
  },
  {
   "cell_type": "code",
   "execution_count": 29,
   "metadata": {},
   "outputs": [
    {
     "data": {
      "text/html": [
       "1.03622647671143"
      ],
      "text/latex": [
       "1.03622647671143"
      ],
      "text/markdown": [
       "1.03622647671143"
      ],
      "text/plain": [
       "[1] 1.036226"
      ]
     },
     "metadata": {},
     "output_type": "display_data"
    }
   ],
   "source": [
    "# Calculating chisq\n",
    "\n",
    "obs.uni_2 <- uni_2[, -3]\n",
    "\n",
    "chisq <- (obs.uni_2 - exp.uni_2)^2/exp.uni_2\n",
    "(sum.chisq <- sum(chisq))"
   ]
  },
  {
   "cell_type": "markdown",
   "metadata": {},
   "source": [
    "p값을 구하면 다음과 같다."
   ]
  },
  {
   "cell_type": "code",
   "execution_count": 30,
   "metadata": {},
   "outputs": [
    {
     "data": {
      "text/html": [
       "0.5956"
      ],
      "text/latex": [
       "0.5956"
      ],
      "text/markdown": [
       "0.5956"
      ],
      "text/plain": [
       "[1] 0.5956"
      ]
     },
     "metadata": {},
     "output_type": "display_data"
    },
    {
     "data": {
      "text/plain": [
       "\n",
       "\tPearson's Chi-squared test\n",
       "\n",
       "data:  obs.uni_2\n",
       "X-squared = 1.0362, df = 2, p-value = 0.5956\n"
      ]
     },
     "metadata": {},
     "output_type": "display_data"
    }
   ],
   "source": [
    "# Calculating p.value\n",
    "\n",
    "df <- (nrow(obs.uni_2)-1)*(ncol(obs.uni_2)-1)\n",
    "round((p.value <- 1 - pchisq(sum.chisq,df)),4)\n",
    "\n",
    "# Testing\n",
    "\n",
    "(x <- chisq.test(obs.uni_2, correct=F))"
   ]
  },
  {
   "cell_type": "markdown",
   "metadata": {},
   "source": [
    "p값은 0.5956이다. 따라서 유의수준 5%에서 귀무가설은 기각되지 않는다. 즉, 세 집단 '경영학', '경제학', '응용통계학'의 '취업'에 대한 분포는 같지 않다고 볼 수 없다. \n",
    "\n",
    "주어진 자료를 막대그래프로 나타내면 전공에 **관계없이** '취업' 표본수가 '미취업' 표본수보다 많다는 점을 확인할 수 있다. 따라서 '대학교 1'의 경우와 마찬가지로 전공과 취업률 간에는 일정한 관련성이 없으며, 각 전공별 취업률에는 유의한 차이가 없다는 결론을 내릴 수 있다. "
   ]
  },
  {
   "cell_type": "code",
   "execution_count": 31,
   "metadata": {},
   "outputs": [
    {
     "data": {
      "text/html": [
       "<table class=\"dataframe\">\n",
       "<caption>A matrix: 2 × 3 of type dbl</caption>\n",
       "<tbody>\n",
       "\t<tr><td>1.5</td><td>4.5</td><td>7.5</td></tr>\n",
       "\t<tr><td>2.5</td><td>5.5</td><td>8.5</td></tr>\n",
       "</tbody>\n",
       "</table>\n"
      ],
      "text/latex": [
       "A matrix: 2 × 3 of type dbl\n",
       "\\begin{tabular}{lll}\n",
       "\t 1.5 & 4.5 & 7.5\\\\\n",
       "\t 2.5 & 5.5 & 8.5\\\\\n",
       "\\end{tabular}\n"
      ],
      "text/markdown": [
       "\n",
       "A matrix: 2 × 3 of type dbl\n",
       "\n",
       "| 1.5 | 4.5 | 7.5 |\n",
       "| 2.5 | 5.5 | 8.5 |\n",
       "\n"
      ],
      "text/plain": [
       "     [,1] [,2] [,3]\n",
       "[1,] 1.5  4.5  7.5 \n",
       "[2,] 2.5  5.5  8.5 "
      ]
     },
     "metadata": {},
     "output_type": "display_data"
    },
    {
     "data": {
      "image/png": "[encoded data removed]",
      "text/plain": [
       "Plot with title \"대학교 2, 전공 - 취업\""
      ]
     },
     "metadata": {
      "image/png": {
       "height": 420,
       "width": 420
      }
     },
     "output_type": "display_data"
    }
   ],
   "source": [
    "# Visualization\n",
    "\n",
    "(barplot(t(obs.uni_2), beside = T, legend = T, main = \"대학교 2, 전공 - 취업\"))"
   ]
  }
 ],
 "metadata": {
  "kernelspec": {
   "display_name": "R",
   "language": "R",
   "name": "ir"
  },
  "language_info": {
   "codemirror_mode": "r",
   "file_extension": ".r",
   "mimetype": "text/x-r-source",
   "name": "R",
   "pygments_lexer": "r",
   "version": "3.6.3"
  }
 },
 "nbformat": 4,
 "nbformat_minor": 4
}
